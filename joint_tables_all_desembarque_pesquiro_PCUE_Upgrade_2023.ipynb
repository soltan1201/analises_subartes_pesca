{
 "cells": [
  {
   "cell_type": "code",
   "execution_count": 1,
   "id": "c15ec0d2",
   "metadata": {},
   "outputs": [],
   "source": [
    "import os\n",
    "import copy\n",
    "import pandas as pd \n",
    "import math\n",
    "import numpy as np \n",
    "import matplotlib.pyplot as plt\n",
    "from datetime import datetime"
   ]
  },
  {
   "cell_type": "code",
   "execution_count": 2,
   "id": "f19d5e72",
   "metadata": {},
   "outputs": [],
   "source": [
    "from tqdm.auto import tqdm\n",
    "tqdm.pandas()"
   ]
  },
  {
   "cell_type": "code",
   "execution_count": 3,
   "id": "758a63b0",
   "metadata": {},
   "outputs": [
    {
     "name": "stdout",
     "output_type": "stream",
     "text": [
      "path of file excel =  /media/superuser/Almacen/projs/BCA_RAI/newDB/BD/Rel_Desembarque_2005_2020_mod.xlsx\n"
     ]
    }
   ],
   "source": [
    "path = os.getcwd()\n",
    "input_path = os.path.join(path, 'BD/Rel_Desembarque_2005_2020_mod.xlsx')\n",
    "print('path of file excel = ', input_path)"
   ]
  },
  {
   "cell_type": "code",
   "execution_count": 4,
   "id": "3c3488ff",
   "metadata": {},
   "outputs": [],
   "source": [
    "dfRelDes = pd.read_excel(input_path)"
   ]
  },
  {
   "cell_type": "code",
   "execution_count": 5,
   "id": "9cb37d6c",
   "metadata": {},
   "outputs": [
    {
     "name": "stdout",
     "output_type": "stream",
     "text": [
      "size of table =  (809396, 50)\n"
     ]
    },
    {
     "data": {
      "text/html": [
       "<div>\n",
       "<style scoped>\n",
       "    .dataframe tbody tr th:only-of-type {\n",
       "        vertical-align: middle;\n",
       "    }\n",
       "\n",
       "    .dataframe tbody tr th {\n",
       "        vertical-align: top;\n",
       "    }\n",
       "\n",
       "    .dataframe thead th {\n",
       "        text-align: right;\n",
       "    }\n",
       "</style>\n",
       "<table border=\"1\" class=\"dataframe\">\n",
       "  <thead>\n",
       "    <tr style=\"text-align: right;\">\n",
       "      <th></th>\n",
       "      <th>ID</th>\n",
       "      <th>Arte</th>\n",
       "      <th>SubArte</th>\n",
       "      <th>TI</th>\n",
       "      <th>Comunidade</th>\n",
       "      <th>Porto Desembarque</th>\n",
       "      <th>Data Registro</th>\n",
       "      <th>Entrevistado</th>\n",
       "      <th>Embarcação</th>\n",
       "      <th>Núm. Pescadores</th>\n",
       "      <th>...</th>\n",
       "      <th>Houve Captura</th>\n",
       "      <th>Litros Combust.</th>\n",
       "      <th>Combustível(R$)</th>\n",
       "      <th>Rancho(R$)</th>\n",
       "      <th>Gêlo(R$)</th>\n",
       "      <th>Isca(R$)</th>\n",
       "      <th>Venda Direta</th>\n",
       "      <th>Atravessador</th>\n",
       "      <th>Consumo</th>\n",
       "      <th>Peixaria,Mercado</th>\n",
       "    </tr>\n",
       "  </thead>\n",
       "  <tbody>\n",
       "    <tr>\n",
       "      <th>0</th>\n",
       "      <td>1</td>\n",
       "      <td>ARMADILHA</td>\n",
       "      <td>GAIOLA</td>\n",
       "      <td>BTS</td>\n",
       "      <td>Salinas da Margarida</td>\n",
       "      <td>Porto do Araçá</td>\n",
       "      <td>17/09/2005</td>\n",
       "      <td>Colofila</td>\n",
       "      <td>Apasma 7</td>\n",
       "      <td>1.0</td>\n",
       "      <td>...</td>\n",
       "      <td>V</td>\n",
       "      <td>0.0</td>\n",
       "      <td>0.0</td>\n",
       "      <td>0.0</td>\n",
       "      <td>0.0</td>\n",
       "      <td>0.0</td>\n",
       "      <td>False</td>\n",
       "      <td>False</td>\n",
       "      <td>False</td>\n",
       "      <td>False</td>\n",
       "    </tr>\n",
       "    <tr>\n",
       "      <th>1</th>\n",
       "      <td>2</td>\n",
       "      <td>ARMADILHA</td>\n",
       "      <td>GAIOLA</td>\n",
       "      <td>BTS</td>\n",
       "      <td>Cabuçu</td>\n",
       "      <td>Porto principal</td>\n",
       "      <td>11/11/2005</td>\n",
       "      <td>Lázaro</td>\n",
       "      <td>Nascido para Vencer</td>\n",
       "      <td>3.0</td>\n",
       "      <td>...</td>\n",
       "      <td>V</td>\n",
       "      <td>0.0</td>\n",
       "      <td>0.0</td>\n",
       "      <td>0.0</td>\n",
       "      <td>0.0</td>\n",
       "      <td>0.0</td>\n",
       "      <td>False</td>\n",
       "      <td>False</td>\n",
       "      <td>False</td>\n",
       "      <td>False</td>\n",
       "    </tr>\n",
       "    <tr>\n",
       "      <th>2</th>\n",
       "      <td>3</td>\n",
       "      <td>ARMADILHA</td>\n",
       "      <td>GAIOLA</td>\n",
       "      <td>BTS</td>\n",
       "      <td>Cabuçu</td>\n",
       "      <td>Porto principal</td>\n",
       "      <td>11/11/2005</td>\n",
       "      <td>Fernandinho</td>\n",
       "      <td>Fera do Mar</td>\n",
       "      <td>3.0</td>\n",
       "      <td>...</td>\n",
       "      <td>V</td>\n",
       "      <td>0.0</td>\n",
       "      <td>0.0</td>\n",
       "      <td>0.0</td>\n",
       "      <td>0.0</td>\n",
       "      <td>0.0</td>\n",
       "      <td>False</td>\n",
       "      <td>False</td>\n",
       "      <td>False</td>\n",
       "      <td>False</td>\n",
       "    </tr>\n",
       "    <tr>\n",
       "      <th>3</th>\n",
       "      <td>4</td>\n",
       "      <td>ARMADILHA</td>\n",
       "      <td>GAIOLA</td>\n",
       "      <td>BTS</td>\n",
       "      <td>Cabuçu</td>\n",
       "      <td>Porto principal</td>\n",
       "      <td>29/11/2005</td>\n",
       "      <td>Dani</td>\n",
       "      <td>Silas II</td>\n",
       "      <td>3.0</td>\n",
       "      <td>...</td>\n",
       "      <td>V</td>\n",
       "      <td>0.0</td>\n",
       "      <td>0.0</td>\n",
       "      <td>0.0</td>\n",
       "      <td>0.0</td>\n",
       "      <td>0.0</td>\n",
       "      <td>False</td>\n",
       "      <td>False</td>\n",
       "      <td>False</td>\n",
       "      <td>False</td>\n",
       "    </tr>\n",
       "    <tr>\n",
       "      <th>4</th>\n",
       "      <td>5</td>\n",
       "      <td>ARMADILHA</td>\n",
       "      <td>GAIOLA</td>\n",
       "      <td>BTS</td>\n",
       "      <td>Cabuçu</td>\n",
       "      <td>Porto principal</td>\n",
       "      <td>30/11/2005</td>\n",
       "      <td>Claudinho</td>\n",
       "      <td>Periguete</td>\n",
       "      <td>3.0</td>\n",
       "      <td>...</td>\n",
       "      <td>V</td>\n",
       "      <td>0.0</td>\n",
       "      <td>0.0</td>\n",
       "      <td>0.0</td>\n",
       "      <td>0.0</td>\n",
       "      <td>0.0</td>\n",
       "      <td>False</td>\n",
       "      <td>False</td>\n",
       "      <td>False</td>\n",
       "      <td>False</td>\n",
       "    </tr>\n",
       "  </tbody>\n",
       "</table>\n",
       "<p>5 rows × 50 columns</p>\n",
       "</div>"
      ],
      "text/plain": [
       "   ID       Arte SubArte   TI            Comunidade Porto Desembarque   \n",
       "0   1  ARMADILHA  GAIOLA  BTS  Salinas da Margarida    Porto do Araçá  \\\n",
       "1   2  ARMADILHA  GAIOLA  BTS                Cabuçu   Porto principal   \n",
       "2   3  ARMADILHA  GAIOLA  BTS                Cabuçu   Porto principal   \n",
       "3   4  ARMADILHA  GAIOLA  BTS                Cabuçu   Porto principal   \n",
       "4   5  ARMADILHA  GAIOLA  BTS                Cabuçu   Porto principal   \n",
       "\n",
       "  Data Registro Entrevistado           Embarcação  Núm. Pescadores  ...   \n",
       "0    17/09/2005     Colofila             Apasma 7              1.0  ...  \\\n",
       "1    11/11/2005       Lázaro  Nascido para Vencer              3.0  ...   \n",
       "2    11/11/2005  Fernandinho          Fera do Mar              3.0  ...   \n",
       "3    29/11/2005         Dani             Silas II              3.0  ...   \n",
       "4    30/11/2005    Claudinho            Periguete              3.0  ...   \n",
       "\n",
       "  Houve Captura Litros Combust.  Combustível(R$)  Rancho(R$) Gêlo(R$)   \n",
       "0             V             0.0              0.0         0.0      0.0  \\\n",
       "1             V             0.0              0.0         0.0      0.0   \n",
       "2             V             0.0              0.0         0.0      0.0   \n",
       "3             V             0.0              0.0         0.0      0.0   \n",
       "4             V             0.0              0.0         0.0      0.0   \n",
       "\n",
       "  Isca(R$) Venda Direta Atravessador Consumo Peixaria,Mercado  \n",
       "0      0.0        False        False   False            False  \n",
       "1      0.0        False        False   False            False  \n",
       "2      0.0        False        False   False            False  \n",
       "3      0.0        False        False   False            False  \n",
       "4      0.0        False        False   False            False  \n",
       "\n",
       "[5 rows x 50 columns]"
      ]
     },
     "execution_count": 5,
     "metadata": {},
     "output_type": "execute_result"
    }
   ],
   "source": [
    "print(\"size of table = \",dfRelDes.shape)\n",
    "dfRelDes.head()"
   ]
  },
  {
   "cell_type": "code",
   "execution_count": 6,
   "id": "7ee3b1d7",
   "metadata": {},
   "outputs": [
    {
     "name": "stdout",
     "output_type": "stream",
     "text": [
      "1 <==>  ARMADILHA\n",
      "2 <==>  ARRASTO\n",
      "3 <==>  EMALHE\n",
      "4 <==>  CERCO\n",
      "5 <==>  REÇA\n",
      "6 <==>  LINHA\n",
      "7 <==>  MERG_MARISC\n",
      "8 <==>  CAMBOA\n"
     ]
    }
   ],
   "source": [
    "for cc, ii in enumerate(dfRelDes['Arte'].unique()):\n",
    "    print(cc + 1, \"<==> \" ,ii)"
   ]
  },
  {
   "cell_type": "code",
   "execution_count": 7,
   "id": "0f5d6ff3",
   "metadata": {},
   "outputs": [
    {
     "name": "stdout",
     "output_type": "stream",
     "text": [
      "1 <==>  GAIOLA\n",
      "2 <==>  MANZUÁ\n",
      "3 <==>  JERERÉ\n",
      "4 <==>  REDINHA\n",
      "5 <==>  CALÃO\n",
      "6 <==>  ARRASTO DE FUNDO OU BALOEIRO\n",
      "7 <==>  Não Informado\n",
      "8 <==>  EMALHE\n",
      "9 <==>  PESQUEIRO\n",
      "10 <==>  CERCO\n",
      "11 <==>  ABALO\n",
      "12 <==>  REÇA\n",
      "13 <==>  ARRAEIRA\n",
      "14 <==>  TAINHEIRA\n",
      "15 <==>  PARUZEIRA\n",
      "16 <==>  LINHA DE MÃO\n",
      "17 <==>  ESPINHEL\n",
      "18 <==>  GROSEIRA\n",
      "19 <==>  TARRAFA\n",
      "20 <==>  MARISCAGEM\n",
      "21 <==>  MERGULHO\n",
      "22 <==>  CAMBOA\n",
      "23 <==>  nan\n",
      "24 <==>  CAÇA E PESCA\n",
      "25 <==>  SUPERFÍCIE BOIADA\n",
      "26 <==>  FUNDO PEIXE\n",
      "27 <==>  FUNDO CAMARÃO\n"
     ]
    }
   ],
   "source": [
    "for cc, ii in enumerate(dfRelDes['SubArte'].unique()):\n",
    "    print(cc + 1, \"<==> \" ,ii)"
   ]
  },
  {
   "cell_type": "code",
   "execution_count": 8,
   "id": "cf7ed37b",
   "metadata": {},
   "outputs": [
    {
     "data": {
      "text/plain": [
       "TI\n",
       "BAIXO SUL    469929\n",
       "BTS          339460\n",
       "Name: count, dtype: int64"
      ]
     },
     "execution_count": 8,
     "metadata": {},
     "output_type": "execute_result"
    }
   ],
   "source": [
    "dfRelDes['TI'].value_counts()"
   ]
  },
  {
   "cell_type": "code",
   "execution_count": 9,
   "id": "9bd8d388",
   "metadata": {},
   "outputs": [
    {
     "data": {
      "text/plain": [
       "Index(['ID', 'Arte', 'SubArte', 'TI', 'Comunidade', 'Porto Desembarque',\n",
       "       'Data Registro', 'Entrevistado', 'Embarcação', 'Núm. Pescadores',\n",
       "       'Pesqueiro', 'Espécie', 'Captura(kg)', 'Valor/Kg(R$)', 'Data Saída',\n",
       "       'Hora Saída', 'Data Chegada', 'Hora Chegada', 'Tipo Embarc.',\n",
       "       'Tipo IBAMA', 'Núm. Linhas', 'Núm. Anzóis', 'Tamanho Anzol', 'Isca',\n",
       "       'Espécie Alvo', 'Comp. Rede', 'Tamanho Malha', 'Altura Malha',\n",
       "       'Quantas Camboas', 'Dias Não Despesca Camboa', 'Quant. Morredores',\n",
       "       'Núm. Pescadores Participaram', 'Proprietário Camboa',\n",
       "       'Núm. Armadilhas', 'Tamanho Armadilhas', 'Núm. Bocas Armadilha',\n",
       "       'Utiliza Guincho', 'Quant. Dias Pescou Mês', 'Observação',\n",
       "       'Profund. Lance', 'Houve Captura', 'Litros Combust.', 'Combustível(R$)',\n",
       "       'Rancho(R$)', 'Gêlo(R$)', 'Isca(R$)', 'Venda Direta', 'Atravessador',\n",
       "       'Consumo', 'Peixaria,Mercado'],\n",
       "      dtype='object')"
      ]
     },
     "execution_count": 9,
     "metadata": {},
     "output_type": "execute_result"
    }
   ],
   "source": [
    "dfRelDes.columns"
   ]
  },
  {
   "cell_type": "code",
   "execution_count": 10,
   "id": "fe448e8d",
   "metadata": {},
   "outputs": [],
   "source": [
    "lsColInt = ['ID', 'Arte', 'SubArte', 'TI', 'Comunidade', 'Porto Desembarque',\n",
    "       'Data Registro', 'Entrevistado', 'Embarcação', 'Núm. Pescadores',\n",
    "       'Pesqueiro', 'Espécie', 'Captura(kg)', 'Valor/Kg(R$)', 'Data Saída','Espécie Alvo',\n",
    "            'Núm. Linhas', 'Núm. Anzóis', 'Tamanho Anzol',\n",
    "       'Hora Saída', 'Data Chegada', 'Hora Chegada', 'Tipo Embarc.', 'Tamanho Malha', 'Altura Malha',\n",
    "       'Isca', 'Comp. Rede','Quant. Dias Pescou Mês',\n",
    "       'Litros Combust.', 'Combustível(R$)','Rancho(R$)', 'Gêlo(R$)', \n",
    "        'Isca(R$)', 'Venda Direta', 'Consumo'\n",
    "    ]"
   ]
  },
  {
   "cell_type": "code",
   "execution_count": 11,
   "id": "af7c3d41",
   "metadata": {},
   "outputs": [
    {
     "name": "stdout",
     "output_type": "stream",
     "text": [
      "path of file excel =  /media/superuser/Almacen/projs/BCA_RAI/newDB/BD/CPUE_Individual2005-2020.xlsx\n"
     ]
    }
   ],
   "source": [
    "path = os.getcwd()\n",
    "input_pathCPUE = os.path.join(path, 'BD/CPUE_Individual2005-2020.xlsx')\n",
    "print('path of file excel = ', input_pathCPUE)"
   ]
  },
  {
   "cell_type": "code",
   "execution_count": 12,
   "id": "d2fd960b",
   "metadata": {},
   "outputs": [],
   "source": [
    "dfCPUE = pd.read_excel(input_pathCPUE)"
   ]
  },
  {
   "cell_type": "code",
   "execution_count": 13,
   "id": "0c12b9a0",
   "metadata": {},
   "outputs": [
    {
     "name": "stdout",
     "output_type": "stream",
     "text": [
      "size of table =  (401187, 21)\n"
     ]
    },
    {
     "data": {
      "text/html": [
       "<div>\n",
       "<style scoped>\n",
       "    .dataframe tbody tr th:only-of-type {\n",
       "        vertical-align: middle;\n",
       "    }\n",
       "\n",
       "    .dataframe tbody tr th {\n",
       "        vertical-align: top;\n",
       "    }\n",
       "\n",
       "    .dataframe thead th {\n",
       "        text-align: right;\n",
       "    }\n",
       "</style>\n",
       "<table border=\"1\" class=\"dataframe\">\n",
       "  <thead>\n",
       "    <tr style=\"text-align: right;\">\n",
       "      <th></th>\n",
       "      <th>Ano</th>\n",
       "      <th>Mês</th>\n",
       "      <th>ID</th>\n",
       "      <th>Comunidade</th>\n",
       "      <th>Arte</th>\n",
       "      <th>SubArte</th>\n",
       "      <th>KgTotal</th>\n",
       "      <th>R$Total</th>\n",
       "      <th>Dias de Viagem</th>\n",
       "      <th>Horas de Viagem</th>\n",
       "      <th>...</th>\n",
       "      <th>Horas Pesca Efetiva</th>\n",
       "      <th>CPUE kg/dia</th>\n",
       "      <th>Valoração</th>\n",
       "      <th>Espécie Alvo</th>\n",
       "      <th>Embarcação</th>\n",
       "      <th>Tipo IBAMA</th>\n",
       "      <th>Núm. Lances</th>\n",
       "      <th>Pescadores</th>\n",
       "      <th>Anzóis</th>\n",
       "      <th>Armadilhas</th>\n",
       "    </tr>\n",
       "  </thead>\n",
       "  <tbody>\n",
       "    <tr>\n",
       "      <th>0</th>\n",
       "      <td>2005</td>\n",
       "      <td>12</td>\n",
       "      <td>3728</td>\n",
       "      <td>Cabuçu</td>\n",
       "      <td>ARMADILHA</td>\n",
       "      <td>GAIOLA</td>\n",
       "      <td>14.75</td>\n",
       "      <td>22.125</td>\n",
       "      <td>1</td>\n",
       "      <td>25</td>\n",
       "      <td>...</td>\n",
       "      <td>24</td>\n",
       "      <td>59.0</td>\n",
       "      <td>22.125</td>\n",
       "      <td>Não Informado</td>\n",
       "      <td>Canoa</td>\n",
       "      <td>Canoa</td>\n",
       "      <td>3.0</td>\n",
       "      <td>1.0</td>\n",
       "      <td>0.0</td>\n",
       "      <td>20.0</td>\n",
       "    </tr>\n",
       "    <tr>\n",
       "      <th>1</th>\n",
       "      <td>2005</td>\n",
       "      <td>12</td>\n",
       "      <td>3721</td>\n",
       "      <td>Cabuçu</td>\n",
       "      <td>ARMADILHA</td>\n",
       "      <td>GAIOLA</td>\n",
       "      <td>2.50</td>\n",
       "      <td>3.750</td>\n",
       "      <td>1</td>\n",
       "      <td>3</td>\n",
       "      <td>...</td>\n",
       "      <td>2</td>\n",
       "      <td>10.0</td>\n",
       "      <td>3.750</td>\n",
       "      <td>Não Informado</td>\n",
       "      <td>Canoa Motorizada</td>\n",
       "      <td>Barco motorizado</td>\n",
       "      <td>2.0</td>\n",
       "      <td>2.0</td>\n",
       "      <td>0.0</td>\n",
       "      <td>16.0</td>\n",
       "    </tr>\n",
       "    <tr>\n",
       "      <th>2</th>\n",
       "      <td>2005</td>\n",
       "      <td>12</td>\n",
       "      <td>3678</td>\n",
       "      <td>Cabuçu</td>\n",
       "      <td>ARMADILHA</td>\n",
       "      <td>GAIOLA</td>\n",
       "      <td>5.00</td>\n",
       "      <td>7.500</td>\n",
       "      <td>1</td>\n",
       "      <td>25</td>\n",
       "      <td>...</td>\n",
       "      <td>24</td>\n",
       "      <td>20.0</td>\n",
       "      <td>7.500</td>\n",
       "      <td>Não Informado</td>\n",
       "      <td>Canoa Motorizada</td>\n",
       "      <td>Barco motorizado</td>\n",
       "      <td>6.0</td>\n",
       "      <td>2.0</td>\n",
       "      <td>0.0</td>\n",
       "      <td>21.0</td>\n",
       "    </tr>\n",
       "    <tr>\n",
       "      <th>3</th>\n",
       "      <td>2005</td>\n",
       "      <td>12</td>\n",
       "      <td>3595</td>\n",
       "      <td>Cabuçu</td>\n",
       "      <td>ARMADILHA</td>\n",
       "      <td>GAIOLA</td>\n",
       "      <td>2.50</td>\n",
       "      <td>3.750</td>\n",
       "      <td>1</td>\n",
       "      <td>21</td>\n",
       "      <td>...</td>\n",
       "      <td>20</td>\n",
       "      <td>10.0</td>\n",
       "      <td>3.750</td>\n",
       "      <td>Não Informado</td>\n",
       "      <td>Canoa</td>\n",
       "      <td>Canoa</td>\n",
       "      <td>3.0</td>\n",
       "      <td>2.0</td>\n",
       "      <td>0.0</td>\n",
       "      <td>16.0</td>\n",
       "    </tr>\n",
       "    <tr>\n",
       "      <th>4</th>\n",
       "      <td>2005</td>\n",
       "      <td>12</td>\n",
       "      <td>3505</td>\n",
       "      <td>Cabuçu</td>\n",
       "      <td>ARMADILHA</td>\n",
       "      <td>GAIOLA</td>\n",
       "      <td>7.50</td>\n",
       "      <td>11.250</td>\n",
       "      <td>1</td>\n",
       "      <td>19</td>\n",
       "      <td>...</td>\n",
       "      <td>18</td>\n",
       "      <td>30.0</td>\n",
       "      <td>11.250</td>\n",
       "      <td>Não Informado</td>\n",
       "      <td>Canoa Motorizada</td>\n",
       "      <td>Barco motorizado</td>\n",
       "      <td>4.0</td>\n",
       "      <td>2.0</td>\n",
       "      <td>0.0</td>\n",
       "      <td>16.0</td>\n",
       "    </tr>\n",
       "  </tbody>\n",
       "</table>\n",
       "<p>5 rows × 21 columns</p>\n",
       "</div>"
      ],
      "text/plain": [
       "    Ano  Mês    ID Comunidade       Arte SubArte  KgTotal  R$Total   \n",
       "0  2005   12  3728     Cabuçu  ARMADILHA  GAIOLA    14.75   22.125  \\\n",
       "1  2005   12  3721     Cabuçu  ARMADILHA  GAIOLA     2.50    3.750   \n",
       "2  2005   12  3678     Cabuçu  ARMADILHA  GAIOLA     5.00    7.500   \n",
       "3  2005   12  3595     Cabuçu  ARMADILHA  GAIOLA     2.50    3.750   \n",
       "4  2005   12  3505     Cabuçu  ARMADILHA  GAIOLA     7.50   11.250   \n",
       "\n",
       "   Dias de Viagem  Horas de Viagem  ...  Horas Pesca Efetiva  CPUE kg/dia   \n",
       "0               1               25  ...                   24         59.0  \\\n",
       "1               1                3  ...                    2         10.0   \n",
       "2               1               25  ...                   24         20.0   \n",
       "3               1               21  ...                   20         10.0   \n",
       "4               1               19  ...                   18         30.0   \n",
       "\n",
       "   Valoração   Espécie Alvo        Embarcação        Tipo IBAMA Núm. Lances   \n",
       "0     22.125  Não Informado             Canoa             Canoa         3.0  \\\n",
       "1      3.750  Não Informado  Canoa Motorizada  Barco motorizado         2.0   \n",
       "2      7.500  Não Informado  Canoa Motorizada  Barco motorizado         6.0   \n",
       "3      3.750  Não Informado             Canoa             Canoa         3.0   \n",
       "4     11.250  Não Informado  Canoa Motorizada  Barco motorizado         4.0   \n",
       "\n",
       "   Pescadores  Anzóis  Armadilhas  \n",
       "0         1.0     0.0        20.0  \n",
       "1         2.0     0.0        16.0  \n",
       "2         2.0     0.0        21.0  \n",
       "3         2.0     0.0        16.0  \n",
       "4         2.0     0.0        16.0  \n",
       "\n",
       "[5 rows x 21 columns]"
      ]
     },
     "execution_count": 13,
     "metadata": {},
     "output_type": "execute_result"
    }
   ],
   "source": [
    "print(\"size of table = \",dfCPUE.shape)\n",
    "dfCPUE.head()"
   ]
  },
  {
   "cell_type": "code",
   "execution_count": 14,
   "id": "0d02dce1",
   "metadata": {},
   "outputs": [
    {
     "data": {
      "text/plain": [
       "Index(['Ano', 'Mês', 'ID', 'Comunidade', 'Arte', 'SubArte', 'KgTotal',\n",
       "       'R$Total', 'Dias de Viagem', 'Horas de Viagem', 'Dias Pesca Efetiva',\n",
       "       'Horas Pesca Efetiva', 'CPUE kg/dia', 'Valoração', 'Espécie Alvo',\n",
       "       'Embarcação', 'Tipo IBAMA', 'Núm. Lances', 'Pescadores', 'Anzóis',\n",
       "       'Armadilhas'],\n",
       "      dtype='object')"
      ]
     },
     "execution_count": 14,
     "metadata": {},
     "output_type": "execute_result"
    }
   ],
   "source": [
    "dfCPUE.columns"
   ]
  },
  {
   "cell_type": "code",
   "execution_count": null,
   "id": "35bc499c",
   "metadata": {},
   "outputs": [],
   "source": [
    "dfCPUE[dfCPUE['ID'] == 792978]"
   ]
  },
  {
   "cell_type": "code",
   "execution_count": null,
   "id": "6e196e7c",
   "metadata": {},
   "outputs": [],
   "source": [
    "colInt = ['ID', 'Arte', 'SubArte', 'TI', 'Comunidade',\n",
    "       'Data Registro', 'Entrevistado', 'Embarcação', 'Núm. Pescadores',\n",
    "       'Pesqueiro', 'Espécie', 'Captura(kg)','Quant. Dias Pescou Mês'] #  'Porto Desembarque',\n",
    "dfRelDes[dfRelDes['ID'] == 792978][colInt]"
   ]
  },
  {
   "cell_type": "code",
   "execution_count": null,
   "id": "47c101a7",
   "metadata": {},
   "outputs": [],
   "source": [
    "dfCPUE[dfCPUE['ID'] == 31272]"
   ]
  },
  {
   "cell_type": "code",
   "execution_count": null,
   "id": "66c1e46f",
   "metadata": {},
   "outputs": [],
   "source": [
    "dfCPUE[dfCPUE['ID'] == 31272].shape[0]"
   ]
  },
  {
   "cell_type": "code",
   "execution_count": null,
   "id": "8413c71a",
   "metadata": {},
   "outputs": [],
   "source": [
    "dfCPUE[dfCPUE['ID'] == 31272]['Arte'].iloc[0]"
   ]
  },
  {
   "cell_type": "code",
   "execution_count": null,
   "id": "9a56ed5c",
   "metadata": {},
   "outputs": [],
   "source": [
    "dfRelDes[dfRelDes['ID'] == 31272][colInt]"
   ]
  },
  {
   "cell_type": "markdown",
   "id": "b98d640f",
   "metadata": {},
   "source": [
    "Join da tabela de relações com a tabela "
   ]
  },
  {
   "cell_type": "code",
   "execution_count": null,
   "id": "a6abe952",
   "metadata": {},
   "outputs": [],
   "source": [
    "colDesInt = [\n",
    "    'ID', 'Arte', 'SubArte', 'TI', 'Comunidade', 'Porto Desembarque',\n",
    "    'Data Registro', 'Entrevistado', 'Embarcação', 'Núm. Pescadores',\n",
    "    'Pesqueiro', 'Espécie', 'Captura(kg)', 'Valor/Kg(R$)', 'Data Saída','Espécie Alvo',\n",
    "    'Núm. Linhas', 'Núm. Anzóis', 'Tamanho Anzol', 'Altura Malha',\n",
    "    'Hora Saída', 'Data Chegada', 'Hora Chegada', 'Tipo Embarc.', 'Tamanho Malha',\n",
    "    'Isca', 'Comp. Rede','Quant. Dias Pescou Mês',\n",
    "    'Litros Combust.', 'Combustível(R$)','Rancho(R$)', 'Gêlo(R$)', \n",
    "    'Isca(R$)', 'Venda Direta', 'Consumo'\n",
    "]\n",
    "colComun = ['ID', 'Comunidade', 'Arte', 'SubArte']\n",
    "colCPUEInt = [\n",
    "    'Ano', 'Mês', 'KgTotal', 'R$Total', 'Dias de Viagem', 'Horas de Viagem', \n",
    "    'Dias Pesca Efetiva', 'Horas Pesca Efetiva', 'CPUE kg/dia', 'Valoração', \n",
    "    'Espécie Alvo', 'Embarcação', 'Tipo IBAMA', 'Núm. Lances', 'Pescadores',\n",
    "    'Anzóis','Armadilhas'\n",
    "]"
   ]
  },
  {
   "cell_type": "markdown",
   "id": "9c4cd1b8",
   "metadata": {},
   "source": [
    "##### Selecionando as colunas de interesse "
   ]
  },
  {
   "cell_type": "code",
   "execution_count": null,
   "id": "8ffd6d22",
   "metadata": {},
   "outputs": [],
   "source": [
    "dfRelDes = dfRelDes[colDesInt]\n",
    "print(\"Agora tem {} colunas \".format(len(dfRelDes.columns)))\n",
    "dfRelDes.columns"
   ]
  },
  {
   "cell_type": "code",
   "execution_count": null,
   "id": "37f4cd17",
   "metadata": {},
   "outputs": [],
   "source": [
    "dfRelDes.shape"
   ]
  },
  {
   "cell_type": "code",
   "execution_count": null,
   "id": "3099095a",
   "metadata": {},
   "outputs": [],
   "source": [
    "colCPUEInt = [ 'Ano', 'Mês', 'KgTotal', 'R$Total', 'CPUE kg/dia', 'Valoração', 'Embarcação']\n",
    "def Join_tablesDesembarque_vs_CPUE(row):\n",
    "    # variaveis principais \n",
    "    idRow = row['ID'] \n",
    "    comunRow = row['Comunidade']\n",
    "    arteRow = row['Arte']\n",
    "    subArteRow = row['SubArte']\n",
    "    \n",
    "    if dfCPUE[dfCPUE['ID'] == idRow].shape[0] > 0:\n",
    "        comunRowcpue = dfCPUE[dfCPUE['ID'] == idRow]['Comunidade'].iloc[0] \n",
    "        arteRowcpue = dfCPUE[dfCPUE['ID'] == idRow]['Arte'].iloc[0] \n",
    "        subArteRowcpue = dfCPUE[dfCPUE['ID'] == idRow]['SubArte'].iloc[0] \n",
    "        \n",
    "        for newCol in colCPUEInt:               \n",
    "            row[newCol] = dfCPUE[dfCPUE['ID'] == idRow][newCol].iloc[0] \n",
    "        if comunRow != comunRowcpue or arteRow != arteRowcpue or subArteRow != subArteRowcpue:\n",
    "            row['corresponde'] = False\n",
    "        else:\n",
    "            row['corresponde'] = True\n",
    "            \n",
    "    else:\n",
    "        for newCol in colCPUEInt:               \n",
    "            row[newCol] = np.nan\n",
    "        row['corresponde'] = False\n",
    "        \n",
    "    return row \n",
    "\n",
    "dfRelDes = dfRelDes.apply(Join_tablesDesembarque_vs_CPUE, axis=1)"
   ]
  },
  {
   "cell_type": "code",
   "execution_count": null,
   "id": "93908eef",
   "metadata": {},
   "outputs": [],
   "source": [
    "print(\" temos {} colunas \".format(len(dfRelDes.columns)))\n",
    "print(dfRelDes.shape)\n",
    "dfRelDes.columns"
   ]
  },
  {
   "cell_type": "code",
   "execution_count": null,
   "id": "ce1e7c73",
   "metadata": {},
   "outputs": [],
   "source": [
    "len(dfRelDes.Arte.unique())"
   ]
  },
  {
   "cell_type": "code",
   "execution_count": null,
   "id": "4e8d97ca",
   "metadata": {},
   "outputs": [],
   "source": [
    "len(dfRelDes.SubArte.unique())"
   ]
  },
  {
   "cell_type": "code",
   "execution_count": null,
   "id": "0e611bdd",
   "metadata": {},
   "outputs": [],
   "source": [
    "print(\"== > \", len(dfRelDes['Pesqueiro'].unique()))\n",
    "dfRelDes['Pesqueiro'].unique()"
   ]
  },
  {
   "cell_type": "code",
   "execution_count": null,
   "id": "a050d969",
   "metadata": {},
   "outputs": [],
   "source": [
    "dfRelDes.to_csv('BD/Rel_Desembarque_2005_2020_Ampliado_CPUE_2023.csv')"
   ]
  },
  {
   "cell_type": "code",
   "execution_count": null,
   "id": "1a5cc566",
   "metadata": {},
   "outputs": [],
   "source": [
    "# saving the excel\n",
    "dfRelDes.to_excel('BD/Rel_Desembarque_2005_2020_Ampliado_CPUE_2023.xlsx')\n"
   ]
  },
  {
   "cell_type": "markdown",
   "id": "ea54389b",
   "metadata": {},
   "source": [
    "# Read tabel desembarque Ampliado com CPUE from file CSV"
   ]
  },
  {
   "cell_type": "code",
   "execution_count": null,
   "id": "aa7312d8",
   "metadata": {},
   "outputs": [],
   "source": [
    "dfRelDes = pd.read_csv('BD/Rel_Desembarque_2005_2020_Ampliado_CPUE_2023.csv')\n",
    "dfRelDes.shape"
   ]
  },
  {
   "cell_type": "code",
   "execution_count": null,
   "id": "d5b5aac2",
   "metadata": {},
   "outputs": [],
   "source": [
    "dfRelDes.columns"
   ]
  },
  {
   "cell_type": "markdown",
   "id": "50b4c4c0",
   "metadata": {},
   "source": [
    "### adding the other table  Pesqueiro agrupada da tabela PescaManati"
   ]
  },
  {
   "cell_type": "code",
   "execution_count": null,
   "id": "2b0f1f7f",
   "metadata": {},
   "outputs": [],
   "source": [
    "df_pesq = pd.read_csv('coord_PesqueirosAtualizada.csv')"
   ]
  },
  {
   "cell_type": "code",
   "execution_count": null,
   "id": "a045e49c",
   "metadata": {},
   "outputs": [],
   "source": [
    "df_pesq.columns"
   ]
  },
  {
   "cell_type": "code",
   "execution_count": null,
   "id": "f53432c3",
   "metadata": {},
   "outputs": [],
   "source": [
    "df_pesq.head()"
   ]
  },
  {
   "cell_type": "code",
   "execution_count": null,
   "id": "639320cf",
   "metadata": {},
   "outputs": [],
   "source": [
    "df_pesq['.geo'][0]"
   ]
  },
  {
   "cell_type": "code",
   "execution_count": null,
   "id": "c42b7421",
   "metadata": {},
   "outputs": [],
   "source": [
    "def get_coordenadasCol(row):\n",
    "    geoRow = row['.geo']\n",
    "    geoRow = geoRow.replace('{\"type\":\"Point\",\"coordinates\":[', '')\n",
    "    geoRow = geoRow.replace(']}', '')\n",
    "    geoRow = geoRow.split(',')\n",
    "    \n",
    "    row['CoordX'] = geoRow[0]\n",
    "    row['CoordY'] = geoRow[1]\n",
    "    \n",
    "    return row \n",
    "\n",
    "df_pesq = df_pesq.apply(get_coordenadasCol, axis=1)"
   ]
  },
  {
   "cell_type": "code",
   "execution_count": null,
   "id": "bfcbdbd0",
   "metadata": {},
   "outputs": [],
   "source": [
    "# distancia de pesqueiro está e metros \n",
    "\n",
    "df_pesq.head()"
   ]
  },
  {
   "cell_type": "code",
   "execution_count": null,
   "id": "b6d5c0a9",
   "metadata": {},
   "outputs": [],
   "source": [
    "df_pesq.drop(['system:index', '.geo'], axis=1, inplace=True)"
   ]
  },
  {
   "cell_type": "code",
   "execution_count": null,
   "id": "a7e4788e",
   "metadata": {},
   "outputs": [],
   "source": [
    "print(\"size table pesqueiros \", df_pesq.shape)\n",
    "df_pesq.columns"
   ]
  },
  {
   "cell_type": "code",
   "execution_count": null,
   "id": "89c93a03",
   "metadata": {},
   "outputs": [],
   "source": [
    "colPesqInt = ['Nome_Pesqueiro', 'dist_gasoduto', 'dist_plataforma', 'indice','CoordX', 'CoordY']\n",
    "df_pesq = df_pesq[colPesqInt]"
   ]
  },
  {
   "cell_type": "code",
   "execution_count": null,
   "id": "4bf2b400",
   "metadata": {},
   "outputs": [],
   "source": [
    "df_pesq.columns"
   ]
  },
  {
   "cell_type": "code",
   "execution_count": null,
   "id": "a3cba476",
   "metadata": {},
   "outputs": [],
   "source": [
    "len(df_pesq.Nome_Pesqueiro.unique())"
   ]
  },
  {
   "cell_type": "code",
   "execution_count": null,
   "id": "038e7a8a",
   "metadata": {},
   "outputs": [],
   "source": [
    "dfRelDes.columns"
   ]
  },
  {
   "cell_type": "code",
   "execution_count": null,
   "id": "3a064ae3",
   "metadata": {},
   "outputs": [],
   "source": [
    "len(dfRelDes.Pesqueiro.unique())"
   ]
  },
  {
   "cell_type": "code",
   "execution_count": null,
   "id": "92d55736",
   "metadata": {},
   "outputs": [],
   "source": [
    "# distancia de pesqueiro está em km\n",
    "df_pesqAg = pd.read_csv('tabela_pesqueiro_argupada.csv')\n",
    "df_pesqAg.head()"
   ]
  },
  {
   "cell_type": "code",
   "execution_count": null,
   "id": "00bece23",
   "metadata": {},
   "outputs": [],
   "source": [
    "len(df_pesqAg.pesqueiro.unique())"
   ]
  },
  {
   "cell_type": "code",
   "execution_count": null,
   "id": "08f2919d",
   "metadata": {},
   "outputs": [],
   "source": [
    "df_pesqAg.columns"
   ]
  },
  {
   "cell_type": "markdown",
   "id": "1f78bdf6",
   "metadata": {},
   "source": [
    "### cruzar as tabelas de pesqueiros para saber se coincidem \n"
   ]
  },
  {
   "cell_type": "code",
   "execution_count": null,
   "id": "0a80785e",
   "metadata": {},
   "outputs": [],
   "source": [
    "lst_pesqAg = [kk for kk in df_pesqAg.pesqueiro.unique()]\n",
    "lst_pesq = [kk for kk in df_pesq.Nome_Pesqueiro.unique()]\n",
    "lst_falta = []\n",
    "for pesq in lst_pesqAg:\n",
    "    print(pesq)\n",
    "    if pesq not in lst_pesq:\n",
    "        lst_falta.append(pesq)\n",
    "        print(\"----------AGREGADO -------------------\")\n",
    "        \n",
    "print(lst_falta)"
   ]
  },
  {
   "cell_type": "code",
   "execution_count": null,
   "id": "0399a3b1",
   "metadata": {},
   "outputs": [],
   "source": [
    "lst_falta = ['Farol', 'Coroa das Pedras']\n",
    "df_pesqAgreg = df_pesqAg[df_pesqAg['pesqueiro'].isin(lst_falta)]\n",
    "print(\"pesqueiro desse DF \", df_pesqAgreg.pesqueiro.unique())\n",
    "print(\"size  \", df_pesqAgreg.shape)\n",
    "df_pesqAgreg.head()"
   ]
  },
  {
   "cell_type": "code",
   "execution_count": null,
   "id": "8bc5ce9d",
   "metadata": {},
   "outputs": [],
   "source": [
    "df_pesqAgreg = df_pesqAgreg[['pesqueiro','coordX', 'coordY', 'dist_gas', 'dist_plat']]"
   ]
  },
  {
   "cell_type": "code",
   "execution_count": null,
   "id": "75b4f3e8",
   "metadata": {},
   "outputs": [],
   "source": [
    "print(df_pesqAgreg)"
   ]
  },
  {
   "cell_type": "code",
   "execution_count": null,
   "id": "950bb4a6",
   "metadata": {},
   "outputs": [],
   "source": [
    "df_pesqAgreg['dist_gas'] = pd.to_numeric(df_pesqAgreg['dist_gas'])"
   ]
  },
  {
   "cell_type": "code",
   "execution_count": null,
   "id": "ae11a566",
   "metadata": {},
   "outputs": [],
   "source": [
    "# Levando a distancia a metros \n",
    "df_pesqAgreg['dist_plat'] = df_pesqAgreg['dist_plat'] *1000\n",
    "df_pesqAgreg['dist_gas'] = df_pesqAgreg['dist_gas'] *1000"
   ]
  },
  {
   "cell_type": "code",
   "execution_count": null,
   "id": "ddaebc2b",
   "metadata": {},
   "outputs": [],
   "source": [
    "df_pesqAgreg.head()"
   ]
  },
  {
   "cell_type": "code",
   "execution_count": null,
   "id": "69d43e2b",
   "metadata": {},
   "outputs": [],
   "source": [
    "df_pesqAgreg[df_pesqAgreg['pesqueiro'] == 'Farol'].iloc[0]"
   ]
  },
  {
   "cell_type": "code",
   "execution_count": null,
   "id": "035099b9",
   "metadata": {},
   "outputs": [],
   "source": [
    "new_row = {'Courses': 'Hyperion', 'Fee': 24000, 'Duration': '55days', 'Discount': 1800}"
   ]
  },
  {
   "cell_type": "code",
   "execution_count": null,
   "id": "6b783b0f",
   "metadata": {},
   "outputs": [],
   "source": [
    "df_pesq.head()"
   ]
  },
  {
   "cell_type": "code",
   "execution_count": null,
   "id": "ac3cd931",
   "metadata": {},
   "outputs": [],
   "source": [
    "def calculodistancia_doisPoints(coordXe, coordYe):    \n",
    "    coordYplat = -13.4899\n",
    "    coordXplat = -38.8124\n",
    "    \n",
    "    difX2 = math.pow(abs(coordXe - coordXplat), 2)\n",
    "    difY2 = math.pow(abs(coordYe - coordYplat), 2)\n",
    "#     print(difX2, difY2)\n",
    "    distP = math.sqrt(difX2 + difY2)\n",
    "    \n",
    "    return distP * 111.32\n",
    "\n",
    "def Join_tablesDesembarque_CPUE_vs_pesqueiro(row):\n",
    "    # variaveis principais     \n",
    "    pesqRow = row['Pesqueiro']    \n",
    "    \n",
    "    if df_pesq[df_pesq['Nome_Pesqueiro'] == pesqRow].shape[0] > 0:\n",
    "        row['CoordX'] = df_pesq[df_pesq['Nome_Pesqueiro'] == pesqRow]['CoordX'].iloc[0] \n",
    "        row['CoordY']= df_pesq[df_pesq['Nome_Pesqueiro'] == pesqRow]['CoordY'].iloc[0] \n",
    "        # 'dist_gas', 'dist_plat',\n",
    "        dist_gas = df_pesq[df_pesq['Nome_Pesqueiro'] == pesqRow]['dist_gasoduto'].iloc[0]\n",
    "        dist_plat = df_pesq[df_pesq['Nome_Pesqueiro'] == pesqRow]['dist_plataforma'].iloc[0]\n",
    "        \n",
    "        row['dist_gas'] = dist_gas\n",
    "        row['dist_plat'] = dist_plat\n",
    "#         dist_gas = calculodistancia_doisPoints(coordXRowpesq, coordYRowpesq)\n",
    "#         row['ndist_gas'] = dist_gas\n",
    "        try:\n",
    "            if float(dist_gas) < 0.5:\n",
    "                row['menor_500M'] = True\n",
    "            elif dist_gas <= 5:\n",
    "                row['entre_05_5KM'] = True\n",
    "            else:\n",
    "                row['menor_500M'] = False\n",
    "                row['entre_05_5KM'] = False\n",
    "        except:\n",
    "            row['menor_500M'] = np.nan\n",
    "            row['entre_05_5KM'] = np.nan\n",
    "            \n",
    "    else:\n",
    "        row['CoordX'] = np.nan\n",
    "        row['CoordY'] = np.nan\n",
    "        row['dist_gas'] = np.nan\n",
    "        row['dist_plat'] = np.nan\n",
    "        row['menor_500M'] = np.nan\n",
    "        row['entre_05_5KM'] = np.nan\n",
    "        \n",
    "    return row \n",
    "\n",
    "dfRelDes = dfRelDes.progress_apply(Join_tablesDesembarque_CPUE_vs_pesqueiro, axis=1)"
   ]
  },
  {
   "cell_type": "code",
   "execution_count": null,
   "id": "25e5a615",
   "metadata": {},
   "outputs": [],
   "source": [
    "dfRelDes.shape"
   ]
  },
  {
   "cell_type": "code",
   "execution_count": null,
   "id": "6041d88b",
   "metadata": {},
   "outputs": [],
   "source": [
    "dfRelDes.head()"
   ]
  },
  {
   "cell_type": "code",
   "execution_count": null,
   "id": "8a2e895d",
   "metadata": {},
   "outputs": [],
   "source": [
    "dfRelDes.to_csv('BD/Rel_Desembarque_2005_2020_Ampliado_CPUE_coordenadasPequeiros_2023.csv')"
   ]
  },
  {
   "cell_type": "code",
   "execution_count": null,
   "id": "309037c3",
   "metadata": {},
   "outputs": [],
   "source": [
    "df_pesq_group = df_pesq.groupby(colPesqInt).agg(Count=('Nome_Pesqueiro', 'count')).reset_index()\n",
    "df_pesq_group"
   ]
  },
  {
   "cell_type": "code",
   "execution_count": null,
   "id": "d972b050",
   "metadata": {},
   "outputs": [],
   "source": [
    "input_path_pesq = os.path.join(path, 'BD/Pesqueiros - Rev.01.xlsx')\n",
    "print('path of file excel Pesqueiros = ', input_path_pesq)"
   ]
  },
  {
   "cell_type": "code",
   "execution_count": null,
   "id": "c2657b85",
   "metadata": {},
   "outputs": [],
   "source": [
    "df_lstPesq = pd.read_excel(input_path_pesq)\n",
    "print(\"size of table Pesqueiros = \",df_lstPesq.shape)\n",
    "df_lstPesq.head()"
   ]
  },
  {
   "cell_type": "code",
   "execution_count": null,
   "id": "bcec5feb",
   "metadata": {},
   "outputs": [],
   "source": [
    "print(df_lstPesq.columns)\n",
    "df_lstPesq.columns = ['Pesqueiro', 'CoordX', 'CoordY']\n",
    "print(\"colunas modificadas = \", df_lstPesq.columns)"
   ]
  },
  {
   "cell_type": "code",
   "execution_count": null,
   "id": "aba43a7c",
   "metadata": {},
   "outputs": [],
   "source": [
    "df_lstPesq[df_lstPesq['Pesqueiro'] == 'Coroa de Dudinha']"
   ]
  },
  {
   "cell_type": "code",
   "execution_count": null,
   "id": "e4430c57",
   "metadata": {},
   "outputs": [],
   "source": [
    "\n",
    "df_lstPesq[df_lstPesq['Pesqueiro'] == 'Chiqueiro - Camamu']"
   ]
  },
  {
   "cell_type": "code",
   "execution_count": null,
   "id": "3a4e7583",
   "metadata": {},
   "outputs": [],
   "source": [
    "print(\"agora numero de colunas {} \".format(len(dfRelDes.columns)))\n",
    "print(\"size table \", dfRelDes.shape)\n",
    "dfRelDes.head()"
   ]
  },
  {
   "cell_type": "code",
   "execution_count": null,
   "id": "670daabf",
   "metadata": {},
   "outputs": [],
   "source": [
    "dfRelDes.columns"
   ]
  },
  {
   "cell_type": "code",
   "execution_count": null,
   "id": "91421d57",
   "metadata": {},
   "outputs": [],
   "source": [
    "dfRelDes.to_csv('BD/Desembarque_Ampliado_CPUE_pesqueiro_08_2023.csv',index=False)"
   ]
  },
  {
   "cell_type": "code",
   "execution_count": null,
   "id": "a71a175c",
   "metadata": {},
   "outputs": [],
   "source": [
    "# saving the excel\n",
    "dfRelDes.to_excel('BD/Desembarque_Ampliado_CPUE_pesqueiro_08_2023.xlsx')"
   ]
  },
  {
   "cell_type": "code",
   "execution_count": null,
   "id": "d4f22db0",
   "metadata": {},
   "outputs": [],
   "source": [
    "dfRelDes.shape"
   ]
  },
  {
   "cell_type": "code",
   "execution_count": null,
   "id": "ea705700",
   "metadata": {},
   "outputs": [],
   "source": [
    "dfRelDes.shape"
   ]
  },
  {
   "cell_type": "code",
   "execution_count": null,
   "id": "d25b180b",
   "metadata": {},
   "outputs": [],
   "source": [
    "dfRelDes.columns"
   ]
  },
  {
   "cell_type": "code",
   "execution_count": null,
   "id": "29703a77",
   "metadata": {},
   "outputs": [],
   "source": []
  }
 ],
 "metadata": {
  "kernelspec": {
   "display_name": "Python 3 (ipykernel)",
   "language": "python",
   "name": "python3"
  },
  "language_info": {
   "codemirror_mode": {
    "name": "ipython",
    "version": 3
   },
   "file_extension": ".py",
   "mimetype": "text/x-python",
   "name": "python",
   "nbconvert_exporter": "python",
   "pygments_lexer": "ipython3",
   "version": "3.10.12"
  }
 },
 "nbformat": 4,
 "nbformat_minor": 5
}
