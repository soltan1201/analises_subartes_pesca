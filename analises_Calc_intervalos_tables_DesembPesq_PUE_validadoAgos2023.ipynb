{
 "cells": [
  {
   "cell_type": "code",
   "execution_count": 1,
   "id": "4b31acfb",
   "metadata": {},
   "outputs": [],
   "source": [
    "import os\n",
    "import copy\n",
    "import time \n",
    "import pymannkendall as mk\n",
    "import seaborn as sns\n",
    "sns.set_theme(style=\"whitegrid\")\n",
    "import pandas as pd \n",
    "import math\n",
    "import numpy as np \n",
    "import matplotlib.pyplot as plt\n",
    "from datetime import date, time, datetime\n",
    "import plotly.express as px\n",
    "import plotly.graph_objs as go"
   ]
  },
  {
   "cell_type": "code",
   "execution_count": 2,
   "id": "2a64e3f7",
   "metadata": {},
   "outputs": [],
   "source": [
    "from tqdm.auto import tqdm\n",
    "tqdm.pandas()"
   ]
  },
  {
   "cell_type": "code",
   "execution_count": 3,
   "id": "4e2982b9",
   "metadata": {},
   "outputs": [
    {
     "name": "stdout",
     "output_type": "stream",
     "text": [
      "(809396, 47)\n",
      "Index(['Unnamed: 0', 'ID', 'Arte', 'SubArte', 'TI', 'Comunidade', 'Pesqueiro',\n",
      "       'Espécie', 'Captura(kg)', 'Valor/Kg(R$)', 'Data Saída', 'Hora Saída',\n",
      "       'Data Chegada', 'Hora Chegada', 'Tipo Embarc.', 'Núm. Linhas',\n",
      "       'Núm. Anzóis', 'Tamanho Anzol', 'Isca', 'Espécie Alvo', 'Comp. Rede',\n",
      "       'Quant. Dias Pescou Mês', 'Observação', 'Profund. Lance',\n",
      "       'Houve Captura', 'Litros Combust.', 'Combustível(R$)', 'Rancho(R$)',\n",
      "       'Gêlo(R$)', 'Isca(R$)', 'Venda Direta', 'Consumo', 'Peixaria,Mercado',\n",
      "       'Ano', 'Mês', 'KgTotal', 'R$Total', 'CPUE kg/dia', 'Valoração',\n",
      "       'Embarcação', 'corresponde', 'CoordX', 'CoordY', 'dist_gas',\n",
      "       'dist_plat', 'menor_500M', 'entre_05_5KM'],\n",
      "      dtype='object')\n"
     ]
    }
   ],
   "source": [
    "# dfRelDes= pd.read_csv('BD/table_Reducida_Desemb2005_2020_Amp_CPUE_coordPequeirosUpgrade.csv')\n",
    "dfRelDes= pd.read_csv('BD/Desembarque_Ampliado_CPUE_pesqueiro_08_2023.csv', low_memory=False)\n",
    "print(dfRelDes.shape)\n",
    "print(dfRelDes.columns)\n"
   ]
  },
  {
   "cell_type": "code",
   "execution_count": 4,
   "id": "58ecd552",
   "metadata": {},
   "outputs": [],
   "source": [
    "showCol = [ 'Comunidade', 'Pesqueiro','Espécie',  'CoordX', 'CoordY',  'dist_gas', 'dist_plat']"
   ]
  },
  {
   "cell_type": "code",
   "execution_count": 3,
   "id": "3fb98716",
   "metadata": {},
   "outputs": [],
   "source": [
    "# dfRelDes.to_excel('BD/Rel_Desembarque_2005_2020_Ampliado_CPUE_coordenadasPequeiros.xlsx')"
   ]
  },
  {
   "cell_type": "code",
   "execution_count": 5,
   "id": "dbc3264b",
   "metadata": {},
   "outputs": [
    {
     "data": {
      "text/html": [
       "<div>\n",
       "<style scoped>\n",
       "    .dataframe tbody tr th:only-of-type {\n",
       "        vertical-align: middle;\n",
       "    }\n",
       "\n",
       "    .dataframe tbody tr th {\n",
       "        vertical-align: top;\n",
       "    }\n",
       "\n",
       "    .dataframe thead th {\n",
       "        text-align: right;\n",
       "    }\n",
       "</style>\n",
       "<table border=\"1\" class=\"dataframe\">\n",
       "  <thead>\n",
       "    <tr style=\"text-align: right;\">\n",
       "      <th></th>\n",
       "      <th>Unnamed: 0</th>\n",
       "      <th>ID</th>\n",
       "      <th>Arte</th>\n",
       "      <th>SubArte</th>\n",
       "      <th>TI</th>\n",
       "      <th>Comunidade</th>\n",
       "      <th>Pesqueiro</th>\n",
       "      <th>Espécie</th>\n",
       "      <th>Captura(kg)</th>\n",
       "      <th>Valor/Kg(R$)</th>\n",
       "      <th>...</th>\n",
       "      <th>CPUE kg/dia</th>\n",
       "      <th>Valoração</th>\n",
       "      <th>Embarcação</th>\n",
       "      <th>corresponde</th>\n",
       "      <th>CoordX</th>\n",
       "      <th>CoordY</th>\n",
       "      <th>dist_gas</th>\n",
       "      <th>dist_plat</th>\n",
       "      <th>menor_500M</th>\n",
       "      <th>entre_05_5KM</th>\n",
       "    </tr>\n",
       "  </thead>\n",
       "  <tbody>\n",
       "    <tr>\n",
       "      <th>0</th>\n",
       "      <td>0</td>\n",
       "      <td>1</td>\n",
       "      <td>ARMADILHA</td>\n",
       "      <td>GAIOLA</td>\n",
       "      <td>BTS</td>\n",
       "      <td>Salinas da Margarida</td>\n",
       "      <td>Duro Grande</td>\n",
       "      <td>Siri com casca</td>\n",
       "      <td>17.0</td>\n",
       "      <td>1.0</td>\n",
       "      <td>...</td>\n",
       "      <td>17.0</td>\n",
       "      <td>4.250</td>\n",
       "      <td>Canoa Motorizada</td>\n",
       "      <td>True</td>\n",
       "      <td>-38.706607</td>\n",
       "      <td>-12.791194</td>\n",
       "      <td>1462.806516</td>\n",
       "      <td>78149.886177</td>\n",
       "      <td>False</td>\n",
       "      <td>False</td>\n",
       "    </tr>\n",
       "    <tr>\n",
       "      <th>1</th>\n",
       "      <td>1</td>\n",
       "      <td>2</td>\n",
       "      <td>ARMADILHA</td>\n",
       "      <td>GAIOLA</td>\n",
       "      <td>BTS</td>\n",
       "      <td>Cabuçu</td>\n",
       "      <td>Cajaíba</td>\n",
       "      <td>Siri com casca</td>\n",
       "      <td>45.0</td>\n",
       "      <td>1.5</td>\n",
       "      <td>...</td>\n",
       "      <td>45.0</td>\n",
       "      <td>16.875</td>\n",
       "      <td>Canoa Motorizada</td>\n",
       "      <td>True</td>\n",
       "      <td>NaN</td>\n",
       "      <td>NaN</td>\n",
       "      <td>NaN</td>\n",
       "      <td>NaN</td>\n",
       "      <td>NaN</td>\n",
       "      <td>NaN</td>\n",
       "    </tr>\n",
       "    <tr>\n",
       "      <th>2</th>\n",
       "      <td>2</td>\n",
       "      <td>3</td>\n",
       "      <td>ARMADILHA</td>\n",
       "      <td>GAIOLA</td>\n",
       "      <td>BTS</td>\n",
       "      <td>Cabuçu</td>\n",
       "      <td>Duro Grande</td>\n",
       "      <td>Siri com casca</td>\n",
       "      <td>50.0</td>\n",
       "      <td>1.5</td>\n",
       "      <td>...</td>\n",
       "      <td>50.0</td>\n",
       "      <td>18.750</td>\n",
       "      <td>Canoa Motorizada</td>\n",
       "      <td>True</td>\n",
       "      <td>-38.706607</td>\n",
       "      <td>-12.791194</td>\n",
       "      <td>1462.806516</td>\n",
       "      <td>78149.886177</td>\n",
       "      <td>False</td>\n",
       "      <td>False</td>\n",
       "    </tr>\n",
       "    <tr>\n",
       "      <th>3</th>\n",
       "      <td>3</td>\n",
       "      <td>4</td>\n",
       "      <td>ARMADILHA</td>\n",
       "      <td>GAIOLA</td>\n",
       "      <td>BTS</td>\n",
       "      <td>Cabuçu</td>\n",
       "      <td>Duro Grande</td>\n",
       "      <td>Siri com casca</td>\n",
       "      <td>12.0</td>\n",
       "      <td>1.5</td>\n",
       "      <td>...</td>\n",
       "      <td>12.0</td>\n",
       "      <td>4.500</td>\n",
       "      <td>Canoa Motorizada</td>\n",
       "      <td>True</td>\n",
       "      <td>-38.706607</td>\n",
       "      <td>-12.791194</td>\n",
       "      <td>1462.806516</td>\n",
       "      <td>78149.886177</td>\n",
       "      <td>False</td>\n",
       "      <td>False</td>\n",
       "    </tr>\n",
       "    <tr>\n",
       "      <th>4</th>\n",
       "      <td>4</td>\n",
       "      <td>5</td>\n",
       "      <td>ARMADILHA</td>\n",
       "      <td>GAIOLA</td>\n",
       "      <td>BTS</td>\n",
       "      <td>Cabuçu</td>\n",
       "      <td>Cajaíba</td>\n",
       "      <td>Siri com casca</td>\n",
       "      <td>95.0</td>\n",
       "      <td>1.5</td>\n",
       "      <td>...</td>\n",
       "      <td>95.0</td>\n",
       "      <td>35.625</td>\n",
       "      <td>Canoa Motorizada</td>\n",
       "      <td>True</td>\n",
       "      <td>NaN</td>\n",
       "      <td>NaN</td>\n",
       "      <td>NaN</td>\n",
       "      <td>NaN</td>\n",
       "      <td>NaN</td>\n",
       "      <td>NaN</td>\n",
       "    </tr>\n",
       "    <tr>\n",
       "      <th>5</th>\n",
       "      <td>5</td>\n",
       "      <td>6</td>\n",
       "      <td>ARMADILHA</td>\n",
       "      <td>GAIOLA</td>\n",
       "      <td>BTS</td>\n",
       "      <td>Bom Jesus dos Pobres</td>\n",
       "      <td>Araípe</td>\n",
       "      <td>Siri catado</td>\n",
       "      <td>4.0</td>\n",
       "      <td>6.0</td>\n",
       "      <td>...</td>\n",
       "      <td>4.0</td>\n",
       "      <td>24.000</td>\n",
       "      <td>Canoa Motorizada</td>\n",
       "      <td>True</td>\n",
       "      <td>-38.806388</td>\n",
       "      <td>-12.833890</td>\n",
       "      <td>2547.613860</td>\n",
       "      <td>72582.462828</td>\n",
       "      <td>False</td>\n",
       "      <td>False</td>\n",
       "    </tr>\n",
       "    <tr>\n",
       "      <th>6</th>\n",
       "      <td>6</td>\n",
       "      <td>7</td>\n",
       "      <td>ARMADILHA</td>\n",
       "      <td>GAIOLA</td>\n",
       "      <td>BTS</td>\n",
       "      <td>Cabuçu</td>\n",
       "      <td>Coroinha</td>\n",
       "      <td>Siri com casca</td>\n",
       "      <td>19.0</td>\n",
       "      <td>1.5</td>\n",
       "      <td>...</td>\n",
       "      <td>19.0</td>\n",
       "      <td>7.125</td>\n",
       "      <td>Canoa</td>\n",
       "      <td>True</td>\n",
       "      <td>-38.747189</td>\n",
       "      <td>-12.779788</td>\n",
       "      <td>4919.980998</td>\n",
       "      <td>78882.649589</td>\n",
       "      <td>False</td>\n",
       "      <td>False</td>\n",
       "    </tr>\n",
       "    <tr>\n",
       "      <th>7</th>\n",
       "      <td>7</td>\n",
       "      <td>8</td>\n",
       "      <td>ARMADILHA</td>\n",
       "      <td>GAIOLA</td>\n",
       "      <td>BTS</td>\n",
       "      <td>Cabuçu</td>\n",
       "      <td>Mata-Nego</td>\n",
       "      <td>Siri com casca</td>\n",
       "      <td>30.0</td>\n",
       "      <td>1.5</td>\n",
       "      <td>...</td>\n",
       "      <td>30.0</td>\n",
       "      <td>11.250</td>\n",
       "      <td>Canoa Motorizada</td>\n",
       "      <td>True</td>\n",
       "      <td>NaN</td>\n",
       "      <td>NaN</td>\n",
       "      <td>NaN</td>\n",
       "      <td>NaN</td>\n",
       "      <td>NaN</td>\n",
       "      <td>NaN</td>\n",
       "    </tr>\n",
       "    <tr>\n",
       "      <th>8</th>\n",
       "      <td>8</td>\n",
       "      <td>9</td>\n",
       "      <td>ARMADILHA</td>\n",
       "      <td>GAIOLA</td>\n",
       "      <td>BTS</td>\n",
       "      <td>Cabuçu</td>\n",
       "      <td>Duro Grande</td>\n",
       "      <td>Siri com casca</td>\n",
       "      <td>10.0</td>\n",
       "      <td>1.5</td>\n",
       "      <td>...</td>\n",
       "      <td>10.0</td>\n",
       "      <td>3.750</td>\n",
       "      <td>Canoa Motorizada</td>\n",
       "      <td>True</td>\n",
       "      <td>-38.706607</td>\n",
       "      <td>-12.791194</td>\n",
       "      <td>1462.806516</td>\n",
       "      <td>78149.886177</td>\n",
       "      <td>False</td>\n",
       "      <td>False</td>\n",
       "    </tr>\n",
       "    <tr>\n",
       "      <th>9</th>\n",
       "      <td>9</td>\n",
       "      <td>10</td>\n",
       "      <td>ARMADILHA</td>\n",
       "      <td>GAIOLA</td>\n",
       "      <td>BTS</td>\n",
       "      <td>Bom Jesus dos Pobres</td>\n",
       "      <td>Araípe</td>\n",
       "      <td>Siri com casca</td>\n",
       "      <td>6.0</td>\n",
       "      <td>1.5</td>\n",
       "      <td>...</td>\n",
       "      <td>6.0</td>\n",
       "      <td>2.250</td>\n",
       "      <td>Canoa Motorizada</td>\n",
       "      <td>True</td>\n",
       "      <td>-38.806388</td>\n",
       "      <td>-12.833890</td>\n",
       "      <td>2547.613860</td>\n",
       "      <td>72582.462828</td>\n",
       "      <td>False</td>\n",
       "      <td>False</td>\n",
       "    </tr>\n",
       "    <tr>\n",
       "      <th>10</th>\n",
       "      <td>10</td>\n",
       "      <td>11</td>\n",
       "      <td>ARMADILHA</td>\n",
       "      <td>GAIOLA</td>\n",
       "      <td>BTS</td>\n",
       "      <td>Cabuçu</td>\n",
       "      <td>Baixinho</td>\n",
       "      <td>Siri com casca</td>\n",
       "      <td>3.0</td>\n",
       "      <td>1.5</td>\n",
       "      <td>...</td>\n",
       "      <td>3.0</td>\n",
       "      <td>1.125</td>\n",
       "      <td>Canoa Motorizada</td>\n",
       "      <td>True</td>\n",
       "      <td>-38.770564</td>\n",
       "      <td>-12.788867</td>\n",
       "      <td>5268.872558</td>\n",
       "      <td>77693.161388</td>\n",
       "      <td>False</td>\n",
       "      <td>False</td>\n",
       "    </tr>\n",
       "    <tr>\n",
       "      <th>11</th>\n",
       "      <td>11</td>\n",
       "      <td>12</td>\n",
       "      <td>ARMADILHA</td>\n",
       "      <td>GAIOLA</td>\n",
       "      <td>BTS</td>\n",
       "      <td>Cabuçu</td>\n",
       "      <td>Itapiticum</td>\n",
       "      <td>Siri com casca</td>\n",
       "      <td>24.0</td>\n",
       "      <td>1.5</td>\n",
       "      <td>...</td>\n",
       "      <td>24.0</td>\n",
       "      <td>9.000</td>\n",
       "      <td>Canoa Motorizada</td>\n",
       "      <td>True</td>\n",
       "      <td>-38.732064</td>\n",
       "      <td>-12.785558</td>\n",
       "      <td>3499.456533</td>\n",
       "      <td>78412.193561</td>\n",
       "      <td>False</td>\n",
       "      <td>False</td>\n",
       "    </tr>\n",
       "    <tr>\n",
       "      <th>12</th>\n",
       "      <td>12</td>\n",
       "      <td>13</td>\n",
       "      <td>ARMADILHA</td>\n",
       "      <td>GAIOLA</td>\n",
       "      <td>BTS</td>\n",
       "      <td>Cabuçu</td>\n",
       "      <td>Duro Grande</td>\n",
       "      <td>Siri com casca</td>\n",
       "      <td>37.0</td>\n",
       "      <td>1.5</td>\n",
       "      <td>...</td>\n",
       "      <td>37.0</td>\n",
       "      <td>13.875</td>\n",
       "      <td>Canoa Motorizada</td>\n",
       "      <td>True</td>\n",
       "      <td>-38.706607</td>\n",
       "      <td>-12.791194</td>\n",
       "      <td>1462.806516</td>\n",
       "      <td>78149.886177</td>\n",
       "      <td>False</td>\n",
       "      <td>False</td>\n",
       "    </tr>\n",
       "    <tr>\n",
       "      <th>13</th>\n",
       "      <td>13</td>\n",
       "      <td>14</td>\n",
       "      <td>ARMADILHA</td>\n",
       "      <td>GAIOLA</td>\n",
       "      <td>BTS</td>\n",
       "      <td>Cabuçu</td>\n",
       "      <td>Baixinho</td>\n",
       "      <td>Siri com casca</td>\n",
       "      <td>8.0</td>\n",
       "      <td>1.5</td>\n",
       "      <td>...</td>\n",
       "      <td>8.0</td>\n",
       "      <td>3.000</td>\n",
       "      <td>Canoa</td>\n",
       "      <td>True</td>\n",
       "      <td>-38.770564</td>\n",
       "      <td>-12.788867</td>\n",
       "      <td>5268.872558</td>\n",
       "      <td>77693.161388</td>\n",
       "      <td>False</td>\n",
       "      <td>False</td>\n",
       "    </tr>\n",
       "    <tr>\n",
       "      <th>14</th>\n",
       "      <td>14</td>\n",
       "      <td>15</td>\n",
       "      <td>ARMADILHA</td>\n",
       "      <td>GAIOLA</td>\n",
       "      <td>BTS</td>\n",
       "      <td>Cabuçu</td>\n",
       "      <td>Coroa Grande</td>\n",
       "      <td>Siri com casca</td>\n",
       "      <td>10.0</td>\n",
       "      <td>1.5</td>\n",
       "      <td>...</td>\n",
       "      <td>10.0</td>\n",
       "      <td>3.750</td>\n",
       "      <td>Canoa Motorizada</td>\n",
       "      <td>True</td>\n",
       "      <td>-38.650427</td>\n",
       "      <td>-12.753537</td>\n",
       "      <td>3413.327148</td>\n",
       "      <td>83341.297274</td>\n",
       "      <td>False</td>\n",
       "      <td>False</td>\n",
       "    </tr>\n",
       "    <tr>\n",
       "      <th>15</th>\n",
       "      <td>15</td>\n",
       "      <td>16</td>\n",
       "      <td>ARMADILHA</td>\n",
       "      <td>GAIOLA</td>\n",
       "      <td>BTS</td>\n",
       "      <td>Cabuçu</td>\n",
       "      <td>Baixinho</td>\n",
       "      <td>Siri com casca</td>\n",
       "      <td>5.0</td>\n",
       "      <td>6.0</td>\n",
       "      <td>...</td>\n",
       "      <td>5.0</td>\n",
       "      <td>7.500</td>\n",
       "      <td>Canoa</td>\n",
       "      <td>True</td>\n",
       "      <td>-38.770564</td>\n",
       "      <td>-12.788867</td>\n",
       "      <td>5268.872558</td>\n",
       "      <td>77693.161388</td>\n",
       "      <td>False</td>\n",
       "      <td>False</td>\n",
       "    </tr>\n",
       "    <tr>\n",
       "      <th>16</th>\n",
       "      <td>16</td>\n",
       "      <td>17</td>\n",
       "      <td>ARMADILHA</td>\n",
       "      <td>GAIOLA</td>\n",
       "      <td>BTS</td>\n",
       "      <td>Cabuçu</td>\n",
       "      <td>Duas Varas</td>\n",
       "      <td>Siri com casca</td>\n",
       "      <td>25.0</td>\n",
       "      <td>1.5</td>\n",
       "      <td>...</td>\n",
       "      <td>25.0</td>\n",
       "      <td>9.375</td>\n",
       "      <td>Canoa</td>\n",
       "      <td>True</td>\n",
       "      <td>NaN</td>\n",
       "      <td>NaN</td>\n",
       "      <td>NaN</td>\n",
       "      <td>NaN</td>\n",
       "      <td>NaN</td>\n",
       "      <td>NaN</td>\n",
       "    </tr>\n",
       "    <tr>\n",
       "      <th>17</th>\n",
       "      <td>17</td>\n",
       "      <td>18</td>\n",
       "      <td>ARMADILHA</td>\n",
       "      <td>GAIOLA</td>\n",
       "      <td>BTS</td>\n",
       "      <td>Cabuçu</td>\n",
       "      <td>Boião Vermelho</td>\n",
       "      <td>Siri com casca</td>\n",
       "      <td>10.0</td>\n",
       "      <td>1.5</td>\n",
       "      <td>...</td>\n",
       "      <td>10.0</td>\n",
       "      <td>3.750</td>\n",
       "      <td>Canoa Motorizada</td>\n",
       "      <td>True</td>\n",
       "      <td>-38.737789</td>\n",
       "      <td>-12.811631</td>\n",
       "      <td>1383.471821</td>\n",
       "      <td>75477.273680</td>\n",
       "      <td>False</td>\n",
       "      <td>False</td>\n",
       "    </tr>\n",
       "    <tr>\n",
       "      <th>18</th>\n",
       "      <td>18</td>\n",
       "      <td>19</td>\n",
       "      <td>ARMADILHA</td>\n",
       "      <td>GAIOLA</td>\n",
       "      <td>BTS</td>\n",
       "      <td>Cabuçu</td>\n",
       "      <td>Baixinho</td>\n",
       "      <td>Siri com casca</td>\n",
       "      <td>8.0</td>\n",
       "      <td>1.5</td>\n",
       "      <td>...</td>\n",
       "      <td>8.0</td>\n",
       "      <td>3.000</td>\n",
       "      <td>Canoa</td>\n",
       "      <td>True</td>\n",
       "      <td>-38.770564</td>\n",
       "      <td>-12.788867</td>\n",
       "      <td>5268.872558</td>\n",
       "      <td>77693.161388</td>\n",
       "      <td>False</td>\n",
       "      <td>False</td>\n",
       "    </tr>\n",
       "    <tr>\n",
       "      <th>19</th>\n",
       "      <td>19</td>\n",
       "      <td>20</td>\n",
       "      <td>ARMADILHA</td>\n",
       "      <td>GAIOLA</td>\n",
       "      <td>BTS</td>\n",
       "      <td>Cabuçu</td>\n",
       "      <td>As Torres</td>\n",
       "      <td>Siri com casca</td>\n",
       "      <td>20.0</td>\n",
       "      <td>1.5</td>\n",
       "      <td>...</td>\n",
       "      <td>20.0</td>\n",
       "      <td>7.500</td>\n",
       "      <td>Canoa</td>\n",
       "      <td>True</td>\n",
       "      <td>-38.657980</td>\n",
       "      <td>-12.653395</td>\n",
       "      <td>4988.703755</td>\n",
       "      <td>94051.109951</td>\n",
       "      <td>False</td>\n",
       "      <td>False</td>\n",
       "    </tr>\n",
       "  </tbody>\n",
       "</table>\n",
       "<p>20 rows × 47 columns</p>\n",
       "</div>"
      ],
      "text/plain": [
       "    Unnamed: 0  ID       Arte SubArte   TI            Comunidade   \n",
       "0            0   1  ARMADILHA  GAIOLA  BTS  Salinas da Margarida  \\\n",
       "1            1   2  ARMADILHA  GAIOLA  BTS                Cabuçu   \n",
       "2            2   3  ARMADILHA  GAIOLA  BTS                Cabuçu   \n",
       "3            3   4  ARMADILHA  GAIOLA  BTS                Cabuçu   \n",
       "4            4   5  ARMADILHA  GAIOLA  BTS                Cabuçu   \n",
       "5            5   6  ARMADILHA  GAIOLA  BTS  Bom Jesus dos Pobres   \n",
       "6            6   7  ARMADILHA  GAIOLA  BTS                Cabuçu   \n",
       "7            7   8  ARMADILHA  GAIOLA  BTS                Cabuçu   \n",
       "8            8   9  ARMADILHA  GAIOLA  BTS                Cabuçu   \n",
       "9            9  10  ARMADILHA  GAIOLA  BTS  Bom Jesus dos Pobres   \n",
       "10          10  11  ARMADILHA  GAIOLA  BTS                Cabuçu   \n",
       "11          11  12  ARMADILHA  GAIOLA  BTS                Cabuçu   \n",
       "12          12  13  ARMADILHA  GAIOLA  BTS                Cabuçu   \n",
       "13          13  14  ARMADILHA  GAIOLA  BTS                Cabuçu   \n",
       "14          14  15  ARMADILHA  GAIOLA  BTS                Cabuçu   \n",
       "15          15  16  ARMADILHA  GAIOLA  BTS                Cabuçu   \n",
       "16          16  17  ARMADILHA  GAIOLA  BTS                Cabuçu   \n",
       "17          17  18  ARMADILHA  GAIOLA  BTS                Cabuçu   \n",
       "18          18  19  ARMADILHA  GAIOLA  BTS                Cabuçu   \n",
       "19          19  20  ARMADILHA  GAIOLA  BTS                Cabuçu   \n",
       "\n",
       "         Pesqueiro         Espécie  Captura(kg)  Valor/Kg(R$)  ...   \n",
       "0      Duro Grande  Siri com casca         17.0           1.0  ...  \\\n",
       "1          Cajaíba  Siri com casca         45.0           1.5  ...   \n",
       "2      Duro Grande  Siri com casca         50.0           1.5  ...   \n",
       "3      Duro Grande  Siri com casca         12.0           1.5  ...   \n",
       "4          Cajaíba  Siri com casca         95.0           1.5  ...   \n",
       "5           Araípe     Siri catado          4.0           6.0  ...   \n",
       "6         Coroinha  Siri com casca         19.0           1.5  ...   \n",
       "7        Mata-Nego  Siri com casca         30.0           1.5  ...   \n",
       "8      Duro Grande  Siri com casca         10.0           1.5  ...   \n",
       "9           Araípe  Siri com casca          6.0           1.5  ...   \n",
       "10        Baixinho  Siri com casca          3.0           1.5  ...   \n",
       "11      Itapiticum  Siri com casca         24.0           1.5  ...   \n",
       "12     Duro Grande  Siri com casca         37.0           1.5  ...   \n",
       "13        Baixinho  Siri com casca          8.0           1.5  ...   \n",
       "14    Coroa Grande  Siri com casca         10.0           1.5  ...   \n",
       "15        Baixinho  Siri com casca          5.0           6.0  ...   \n",
       "16      Duas Varas  Siri com casca         25.0           1.5  ...   \n",
       "17  Boião Vermelho  Siri com casca         10.0           1.5  ...   \n",
       "18        Baixinho  Siri com casca          8.0           1.5  ...   \n",
       "19       As Torres  Siri com casca         20.0           1.5  ...   \n",
       "\n",
       "   CPUE kg/dia Valoração        Embarcação corresponde     CoordX     CoordY   \n",
       "0         17.0     4.250  Canoa Motorizada        True -38.706607 -12.791194  \\\n",
       "1         45.0    16.875  Canoa Motorizada        True        NaN        NaN   \n",
       "2         50.0    18.750  Canoa Motorizada        True -38.706607 -12.791194   \n",
       "3         12.0     4.500  Canoa Motorizada        True -38.706607 -12.791194   \n",
       "4         95.0    35.625  Canoa Motorizada        True        NaN        NaN   \n",
       "5          4.0    24.000  Canoa Motorizada        True -38.806388 -12.833890   \n",
       "6         19.0     7.125             Canoa        True -38.747189 -12.779788   \n",
       "7         30.0    11.250  Canoa Motorizada        True        NaN        NaN   \n",
       "8         10.0     3.750  Canoa Motorizada        True -38.706607 -12.791194   \n",
       "9          6.0     2.250  Canoa Motorizada        True -38.806388 -12.833890   \n",
       "10         3.0     1.125  Canoa Motorizada        True -38.770564 -12.788867   \n",
       "11        24.0     9.000  Canoa Motorizada        True -38.732064 -12.785558   \n",
       "12        37.0    13.875  Canoa Motorizada        True -38.706607 -12.791194   \n",
       "13         8.0     3.000             Canoa        True -38.770564 -12.788867   \n",
       "14        10.0     3.750  Canoa Motorizada        True -38.650427 -12.753537   \n",
       "15         5.0     7.500             Canoa        True -38.770564 -12.788867   \n",
       "16        25.0     9.375             Canoa        True        NaN        NaN   \n",
       "17        10.0     3.750  Canoa Motorizada        True -38.737789 -12.811631   \n",
       "18         8.0     3.000             Canoa        True -38.770564 -12.788867   \n",
       "19        20.0     7.500             Canoa        True -38.657980 -12.653395   \n",
       "\n",
       "       dist_gas     dist_plat menor_500M entre_05_5KM  \n",
       "0   1462.806516  78149.886177      False        False  \n",
       "1           NaN           NaN        NaN          NaN  \n",
       "2   1462.806516  78149.886177      False        False  \n",
       "3   1462.806516  78149.886177      False        False  \n",
       "4           NaN           NaN        NaN          NaN  \n",
       "5   2547.613860  72582.462828      False        False  \n",
       "6   4919.980998  78882.649589      False        False  \n",
       "7           NaN           NaN        NaN          NaN  \n",
       "8   1462.806516  78149.886177      False        False  \n",
       "9   2547.613860  72582.462828      False        False  \n",
       "10  5268.872558  77693.161388      False        False  \n",
       "11  3499.456533  78412.193561      False        False  \n",
       "12  1462.806516  78149.886177      False        False  \n",
       "13  5268.872558  77693.161388      False        False  \n",
       "14  3413.327148  83341.297274      False        False  \n",
       "15  5268.872558  77693.161388      False        False  \n",
       "16          NaN           NaN        NaN          NaN  \n",
       "17  1383.471821  75477.273680      False        False  \n",
       "18  5268.872558  77693.161388      False        False  \n",
       "19  4988.703755  94051.109951      False        False  \n",
       "\n",
       "[20 rows x 47 columns]"
      ]
     },
     "execution_count": 5,
     "metadata": {},
     "output_type": "execute_result"
    }
   ],
   "source": [
    "dfRelDes.head(20)"
   ]
  },
  {
   "cell_type": "code",
   "execution_count": 6,
   "id": "5ca08f23",
   "metadata": {},
   "outputs": [
    {
     "data": {
      "text/html": [
       "<div>\n",
       "<style scoped>\n",
       "    .dataframe tbody tr th:only-of-type {\n",
       "        vertical-align: middle;\n",
       "    }\n",
       "\n",
       "    .dataframe tbody tr th {\n",
       "        vertical-align: top;\n",
       "    }\n",
       "\n",
       "    .dataframe thead th {\n",
       "        text-align: right;\n",
       "    }\n",
       "</style>\n",
       "<table border=\"1\" class=\"dataframe\">\n",
       "  <thead>\n",
       "    <tr style=\"text-align: right;\">\n",
       "      <th></th>\n",
       "      <th>Comunidade</th>\n",
       "      <th>Pesqueiro</th>\n",
       "      <th>Espécie</th>\n",
       "      <th>CoordX</th>\n",
       "      <th>CoordY</th>\n",
       "      <th>dist_gas</th>\n",
       "      <th>dist_plat</th>\n",
       "    </tr>\n",
       "  </thead>\n",
       "  <tbody>\n",
       "    <tr>\n",
       "      <th>0</th>\n",
       "      <td>Salinas da Margarida</td>\n",
       "      <td>Duro Grande</td>\n",
       "      <td>Siri com casca</td>\n",
       "      <td>-38.706607</td>\n",
       "      <td>-12.791194</td>\n",
       "      <td>1462.806516</td>\n",
       "      <td>78149.886177</td>\n",
       "    </tr>\n",
       "    <tr>\n",
       "      <th>1</th>\n",
       "      <td>Cabuçu</td>\n",
       "      <td>Cajaíba</td>\n",
       "      <td>Siri com casca</td>\n",
       "      <td>NaN</td>\n",
       "      <td>NaN</td>\n",
       "      <td>NaN</td>\n",
       "      <td>NaN</td>\n",
       "    </tr>\n",
       "    <tr>\n",
       "      <th>2</th>\n",
       "      <td>Cabuçu</td>\n",
       "      <td>Duro Grande</td>\n",
       "      <td>Siri com casca</td>\n",
       "      <td>-38.706607</td>\n",
       "      <td>-12.791194</td>\n",
       "      <td>1462.806516</td>\n",
       "      <td>78149.886177</td>\n",
       "    </tr>\n",
       "    <tr>\n",
       "      <th>3</th>\n",
       "      <td>Cabuçu</td>\n",
       "      <td>Duro Grande</td>\n",
       "      <td>Siri com casca</td>\n",
       "      <td>-38.706607</td>\n",
       "      <td>-12.791194</td>\n",
       "      <td>1462.806516</td>\n",
       "      <td>78149.886177</td>\n",
       "    </tr>\n",
       "    <tr>\n",
       "      <th>4</th>\n",
       "      <td>Cabuçu</td>\n",
       "      <td>Cajaíba</td>\n",
       "      <td>Siri com casca</td>\n",
       "      <td>NaN</td>\n",
       "      <td>NaN</td>\n",
       "      <td>NaN</td>\n",
       "      <td>NaN</td>\n",
       "    </tr>\n",
       "    <tr>\n",
       "      <th>5</th>\n",
       "      <td>Bom Jesus dos Pobres</td>\n",
       "      <td>Araípe</td>\n",
       "      <td>Siri catado</td>\n",
       "      <td>-38.806388</td>\n",
       "      <td>-12.833890</td>\n",
       "      <td>2547.613860</td>\n",
       "      <td>72582.462828</td>\n",
       "    </tr>\n",
       "    <tr>\n",
       "      <th>6</th>\n",
       "      <td>Cabuçu</td>\n",
       "      <td>Coroinha</td>\n",
       "      <td>Siri com casca</td>\n",
       "      <td>-38.747189</td>\n",
       "      <td>-12.779788</td>\n",
       "      <td>4919.980998</td>\n",
       "      <td>78882.649589</td>\n",
       "    </tr>\n",
       "    <tr>\n",
       "      <th>7</th>\n",
       "      <td>Cabuçu</td>\n",
       "      <td>Mata-Nego</td>\n",
       "      <td>Siri com casca</td>\n",
       "      <td>NaN</td>\n",
       "      <td>NaN</td>\n",
       "      <td>NaN</td>\n",
       "      <td>NaN</td>\n",
       "    </tr>\n",
       "    <tr>\n",
       "      <th>8</th>\n",
       "      <td>Cabuçu</td>\n",
       "      <td>Duro Grande</td>\n",
       "      <td>Siri com casca</td>\n",
       "      <td>-38.706607</td>\n",
       "      <td>-12.791194</td>\n",
       "      <td>1462.806516</td>\n",
       "      <td>78149.886177</td>\n",
       "    </tr>\n",
       "    <tr>\n",
       "      <th>9</th>\n",
       "      <td>Bom Jesus dos Pobres</td>\n",
       "      <td>Araípe</td>\n",
       "      <td>Siri com casca</td>\n",
       "      <td>-38.806388</td>\n",
       "      <td>-12.833890</td>\n",
       "      <td>2547.613860</td>\n",
       "      <td>72582.462828</td>\n",
       "    </tr>\n",
       "    <tr>\n",
       "      <th>10</th>\n",
       "      <td>Cabuçu</td>\n",
       "      <td>Baixinho</td>\n",
       "      <td>Siri com casca</td>\n",
       "      <td>-38.770564</td>\n",
       "      <td>-12.788867</td>\n",
       "      <td>5268.872558</td>\n",
       "      <td>77693.161388</td>\n",
       "    </tr>\n",
       "    <tr>\n",
       "      <th>11</th>\n",
       "      <td>Cabuçu</td>\n",
       "      <td>Itapiticum</td>\n",
       "      <td>Siri com casca</td>\n",
       "      <td>-38.732064</td>\n",
       "      <td>-12.785558</td>\n",
       "      <td>3499.456533</td>\n",
       "      <td>78412.193561</td>\n",
       "    </tr>\n",
       "    <tr>\n",
       "      <th>12</th>\n",
       "      <td>Cabuçu</td>\n",
       "      <td>Duro Grande</td>\n",
       "      <td>Siri com casca</td>\n",
       "      <td>-38.706607</td>\n",
       "      <td>-12.791194</td>\n",
       "      <td>1462.806516</td>\n",
       "      <td>78149.886177</td>\n",
       "    </tr>\n",
       "    <tr>\n",
       "      <th>13</th>\n",
       "      <td>Cabuçu</td>\n",
       "      <td>Baixinho</td>\n",
       "      <td>Siri com casca</td>\n",
       "      <td>-38.770564</td>\n",
       "      <td>-12.788867</td>\n",
       "      <td>5268.872558</td>\n",
       "      <td>77693.161388</td>\n",
       "    </tr>\n",
       "    <tr>\n",
       "      <th>14</th>\n",
       "      <td>Cabuçu</td>\n",
       "      <td>Coroa Grande</td>\n",
       "      <td>Siri com casca</td>\n",
       "      <td>-38.650427</td>\n",
       "      <td>-12.753537</td>\n",
       "      <td>3413.327148</td>\n",
       "      <td>83341.297274</td>\n",
       "    </tr>\n",
       "    <tr>\n",
       "      <th>15</th>\n",
       "      <td>Cabuçu</td>\n",
       "      <td>Baixinho</td>\n",
       "      <td>Siri com casca</td>\n",
       "      <td>-38.770564</td>\n",
       "      <td>-12.788867</td>\n",
       "      <td>5268.872558</td>\n",
       "      <td>77693.161388</td>\n",
       "    </tr>\n",
       "    <tr>\n",
       "      <th>16</th>\n",
       "      <td>Cabuçu</td>\n",
       "      <td>Duas Varas</td>\n",
       "      <td>Siri com casca</td>\n",
       "      <td>NaN</td>\n",
       "      <td>NaN</td>\n",
       "      <td>NaN</td>\n",
       "      <td>NaN</td>\n",
       "    </tr>\n",
       "    <tr>\n",
       "      <th>17</th>\n",
       "      <td>Cabuçu</td>\n",
       "      <td>Boião Vermelho</td>\n",
       "      <td>Siri com casca</td>\n",
       "      <td>-38.737789</td>\n",
       "      <td>-12.811631</td>\n",
       "      <td>1383.471821</td>\n",
       "      <td>75477.273680</td>\n",
       "    </tr>\n",
       "    <tr>\n",
       "      <th>18</th>\n",
       "      <td>Cabuçu</td>\n",
       "      <td>Baixinho</td>\n",
       "      <td>Siri com casca</td>\n",
       "      <td>-38.770564</td>\n",
       "      <td>-12.788867</td>\n",
       "      <td>5268.872558</td>\n",
       "      <td>77693.161388</td>\n",
       "    </tr>\n",
       "    <tr>\n",
       "      <th>19</th>\n",
       "      <td>Cabuçu</td>\n",
       "      <td>As Torres</td>\n",
       "      <td>Siri com casca</td>\n",
       "      <td>-38.657980</td>\n",
       "      <td>-12.653395</td>\n",
       "      <td>4988.703755</td>\n",
       "      <td>94051.109951</td>\n",
       "    </tr>\n",
       "  </tbody>\n",
       "</table>\n",
       "</div>"
      ],
      "text/plain": [
       "              Comunidade       Pesqueiro         Espécie     CoordX   \n",
       "0   Salinas da Margarida     Duro Grande  Siri com casca -38.706607  \\\n",
       "1                 Cabuçu         Cajaíba  Siri com casca        NaN   \n",
       "2                 Cabuçu     Duro Grande  Siri com casca -38.706607   \n",
       "3                 Cabuçu     Duro Grande  Siri com casca -38.706607   \n",
       "4                 Cabuçu         Cajaíba  Siri com casca        NaN   \n",
       "5   Bom Jesus dos Pobres          Araípe     Siri catado -38.806388   \n",
       "6                 Cabuçu        Coroinha  Siri com casca -38.747189   \n",
       "7                 Cabuçu       Mata-Nego  Siri com casca        NaN   \n",
       "8                 Cabuçu     Duro Grande  Siri com casca -38.706607   \n",
       "9   Bom Jesus dos Pobres          Araípe  Siri com casca -38.806388   \n",
       "10                Cabuçu        Baixinho  Siri com casca -38.770564   \n",
       "11                Cabuçu      Itapiticum  Siri com casca -38.732064   \n",
       "12                Cabuçu     Duro Grande  Siri com casca -38.706607   \n",
       "13                Cabuçu        Baixinho  Siri com casca -38.770564   \n",
       "14                Cabuçu    Coroa Grande  Siri com casca -38.650427   \n",
       "15                Cabuçu        Baixinho  Siri com casca -38.770564   \n",
       "16                Cabuçu      Duas Varas  Siri com casca        NaN   \n",
       "17                Cabuçu  Boião Vermelho  Siri com casca -38.737789   \n",
       "18                Cabuçu        Baixinho  Siri com casca -38.770564   \n",
       "19                Cabuçu       As Torres  Siri com casca -38.657980   \n",
       "\n",
       "       CoordY     dist_gas     dist_plat  \n",
       "0  -12.791194  1462.806516  78149.886177  \n",
       "1         NaN          NaN           NaN  \n",
       "2  -12.791194  1462.806516  78149.886177  \n",
       "3  -12.791194  1462.806516  78149.886177  \n",
       "4         NaN          NaN           NaN  \n",
       "5  -12.833890  2547.613860  72582.462828  \n",
       "6  -12.779788  4919.980998  78882.649589  \n",
       "7         NaN          NaN           NaN  \n",
       "8  -12.791194  1462.806516  78149.886177  \n",
       "9  -12.833890  2547.613860  72582.462828  \n",
       "10 -12.788867  5268.872558  77693.161388  \n",
       "11 -12.785558  3499.456533  78412.193561  \n",
       "12 -12.791194  1462.806516  78149.886177  \n",
       "13 -12.788867  5268.872558  77693.161388  \n",
       "14 -12.753537  3413.327148  83341.297274  \n",
       "15 -12.788867  5268.872558  77693.161388  \n",
       "16        NaN          NaN           NaN  \n",
       "17 -12.811631  1383.471821  75477.273680  \n",
       "18 -12.788867  5268.872558  77693.161388  \n",
       "19 -12.653395  4988.703755  94051.109951  "
      ]
     },
     "execution_count": 6,
     "metadata": {},
     "output_type": "execute_result"
    }
   ],
   "source": [
    "dfRelDes[showCol].head(20)"
   ]
  },
  {
   "cell_type": "markdown",
   "id": "66ed6632",
   "metadata": {},
   "source": [
    "### Contabilizando "
   ]
  },
  {
   "cell_type": "code",
   "execution_count": 7,
   "id": "5164a71a",
   "metadata": {},
   "outputs": [],
   "source": [
    "pesqNullCoord = dfRelDes[dfRelDes['CoordX'].isnull() == True]"
   ]
  },
  {
   "cell_type": "code",
   "execution_count": 8,
   "id": "13118b4f",
   "metadata": {},
   "outputs": [
    {
     "data": {
      "text/plain": [
       "(179657, 47)"
      ]
     },
     "execution_count": 8,
     "metadata": {},
     "output_type": "execute_result"
    }
   ],
   "source": [
    "pesqNullCoord.shape"
   ]
  },
  {
   "cell_type": "markdown",
   "id": "3353fd59",
   "metadata": {},
   "source": [
    "## Procurando pesqueiros nas bases anteriores "
   ]
  },
  {
   "cell_type": "code",
   "execution_count": 9,
   "id": "845cdc88",
   "metadata": {},
   "outputs": [
    {
     "name": "stdout",
     "output_type": "stream",
     "text": [
      "tem 1543 pesqueiros sem nomes \n",
      "['Cajaíba' 'Mata-Nego' 'Duas Varas' 'As Varinhas' 'Canivete' 'Em terra'\n",
      " 'Sodré' 'Entre as ilhas' 'Enseada' 'Passés']\n"
     ]
    }
   ],
   "source": [
    "# coletando os pesqueiros sem coordenadas \n",
    "lstpesqNullCoord  = pesqNullCoord['Pesqueiro'].unique()# .to_list()\n",
    "# imprimindo os primeiros 10 \n",
    "print(f\"tem {len(lstpesqNullCoord)} pesqueiros sem nomes \")\n",
    "print(lstpesqNullCoord[: 10])"
   ]
  },
  {
   "cell_type": "code",
   "execution_count": 10,
   "id": "672b6616",
   "metadata": {},
   "outputs": [
    {
     "name": "stdout",
     "output_type": "stream",
     "text": [
      "Index(['system:index', 'Nome_Pesqueiro', 'dist_gasoduto', 'dist_plataforma',\n",
      "       'indice', '.geo'],\n",
      "      dtype='object')\n"
     ]
    }
   ],
   "source": [
    "df_pesq = pd.read_csv('coord_PesqueirosAtualizada.csv')\n",
    "df_pesq.shape\n",
    "print(df_pesq.columns)"
   ]
  },
  {
   "cell_type": "code",
   "execution_count": 11,
   "id": "60a7f69d",
   "metadata": {},
   "outputs": [
    {
     "name": "stdout",
     "output_type": "stream",
     "text": [
      "know if any pesquiero exist  (0, 6)\n",
      "show  Empty DataFrame\n",
      "Columns: [system:index, Nome_Pesqueiro, dist_gasoduto, dist_plataforma, indice, .geo]\n",
      "Index: []\n"
     ]
    }
   ],
   "source": [
    "df_pesResg = df_pesq[df_pesq['Nome_Pesqueiro'].isin(lstpesqNullCoord)]\n",
    "print(\"know if any pesquiero exist \", df_pesResg.shape)\n",
    "print(\"show \", df_pesResg.head())"
   ]
  },
  {
   "cell_type": "code",
   "execution_count": 12,
   "id": "9a1b13df",
   "metadata": {},
   "outputs": [
    {
     "data": {
      "text/html": [
       "<div>\n",
       "<style scoped>\n",
       "    .dataframe tbody tr th:only-of-type {\n",
       "        vertical-align: middle;\n",
       "    }\n",
       "\n",
       "    .dataframe tbody tr th {\n",
       "        vertical-align: top;\n",
       "    }\n",
       "\n",
       "    .dataframe thead th {\n",
       "        text-align: right;\n",
       "    }\n",
       "</style>\n",
       "<table border=\"1\" class=\"dataframe\">\n",
       "  <thead>\n",
       "    <tr style=\"text-align: right;\">\n",
       "      <th></th>\n",
       "      <th>Unnamed: 0</th>\n",
       "      <th>comunidade</th>\n",
       "      <th>arte</th>\n",
       "      <th>year</th>\n",
       "      <th>mes</th>\n",
       "      <th>pesqueiro</th>\n",
       "      <th>numVisit</th>\n",
       "      <th>porcVisit</th>\n",
       "      <th>coordX</th>\n",
       "      <th>coordY</th>\n",
       "      <th>dist_gas</th>\n",
       "      <th>dist_plat</th>\n",
       "    </tr>\n",
       "  </thead>\n",
       "  <tbody>\n",
       "    <tr>\n",
       "      <th>0</th>\n",
       "      <td>0</td>\n",
       "      <td>BOM JESUS DOS PASSOS</td>\n",
       "      <td>REÇA</td>\n",
       "      <td>2020.0</td>\n",
       "      <td>7.0</td>\n",
       "      <td>Zabrolho</td>\n",
       "      <td>7.0</td>\n",
       "      <td>19.444444</td>\n",
       "      <td>-38.692592</td>\n",
       "      <td>-12.786482</td>\n",
       "      <td>0.44</td>\n",
       "      <td>78.90</td>\n",
       "    </tr>\n",
       "    <tr>\n",
       "      <th>1</th>\n",
       "      <td>1</td>\n",
       "      <td>BOM JESUS DOS PASSOS</td>\n",
       "      <td>REÇA</td>\n",
       "      <td>2020.0</td>\n",
       "      <td>1.0</td>\n",
       "      <td>Zabrolho</td>\n",
       "      <td>1.0</td>\n",
       "      <td>2.777778</td>\n",
       "      <td>-38.692592</td>\n",
       "      <td>-12.786482</td>\n",
       "      <td>0.44</td>\n",
       "      <td>78.90</td>\n",
       "    </tr>\n",
       "    <tr>\n",
       "      <th>2</th>\n",
       "      <td>2</td>\n",
       "      <td>BOM JESUS DOS PASSOS</td>\n",
       "      <td>REÇA</td>\n",
       "      <td>2020.0</td>\n",
       "      <td>12.0</td>\n",
       "      <td>Garaiuba</td>\n",
       "      <td>3.0</td>\n",
       "      <td>8.333333</td>\n",
       "      <td>-38.659974</td>\n",
       "      <td>-12.789943</td>\n",
       "      <td>3.14</td>\n",
       "      <td>79.19</td>\n",
       "    </tr>\n",
       "    <tr>\n",
       "      <th>3</th>\n",
       "      <td>3</td>\n",
       "      <td>BOM JESUS DOS PASSOS</td>\n",
       "      <td>REÇA</td>\n",
       "      <td>2020.0</td>\n",
       "      <td>9.0</td>\n",
       "      <td>Garaiuba</td>\n",
       "      <td>1.0</td>\n",
       "      <td>2.777778</td>\n",
       "      <td>-38.659974</td>\n",
       "      <td>-12.789943</td>\n",
       "      <td>3.14</td>\n",
       "      <td>79.19</td>\n",
       "    </tr>\n",
       "    <tr>\n",
       "      <th>4</th>\n",
       "      <td>4</td>\n",
       "      <td>BOM JESUS DOS PASSOS</td>\n",
       "      <td>REÇA</td>\n",
       "      <td>2020.0</td>\n",
       "      <td>4.0</td>\n",
       "      <td>Garaiuba</td>\n",
       "      <td>1.0</td>\n",
       "      <td>2.777778</td>\n",
       "      <td>-38.659974</td>\n",
       "      <td>-12.789943</td>\n",
       "      <td>3.14</td>\n",
       "      <td>79.19</td>\n",
       "    </tr>\n",
       "  </tbody>\n",
       "</table>\n",
       "</div>"
      ],
      "text/plain": [
       "   Unnamed: 0            comunidade  arte    year   mes pesqueiro  numVisit   \n",
       "0           0  BOM JESUS DOS PASSOS  REÇA  2020.0   7.0  Zabrolho       7.0  \\\n",
       "1           1  BOM JESUS DOS PASSOS  REÇA  2020.0   1.0  Zabrolho       1.0   \n",
       "2           2  BOM JESUS DOS PASSOS  REÇA  2020.0  12.0  Garaiuba       3.0   \n",
       "3           3  BOM JESUS DOS PASSOS  REÇA  2020.0   9.0  Garaiuba       1.0   \n",
       "4           4  BOM JESUS DOS PASSOS  REÇA  2020.0   4.0  Garaiuba       1.0   \n",
       "\n",
       "   porcVisit     coordX     coordY dist_gas  dist_plat  \n",
       "0  19.444444 -38.692592 -12.786482     0.44      78.90  \n",
       "1   2.777778 -38.692592 -12.786482     0.44      78.90  \n",
       "2   8.333333 -38.659974 -12.789943     3.14      79.19  \n",
       "3   2.777778 -38.659974 -12.789943     3.14      79.19  \n",
       "4   2.777778 -38.659974 -12.789943     3.14      79.19  "
      ]
     },
     "execution_count": 12,
     "metadata": {},
     "output_type": "execute_result"
    }
   ],
   "source": [
    "# distancia de pesqueiro está em km\n",
    "df_pesqAg = pd.read_csv('tabela_pesqueiro_argupada.csv')\n",
    "df_pesqAg.head()"
   ]
  },
  {
   "cell_type": "code",
   "execution_count": 13,
   "id": "04fbffb2",
   "metadata": {},
   "outputs": [
    {
     "name": "stdout",
     "output_type": "stream",
     "text": [
      "know if any pesquiero exist  (1, 12)\n",
      "show       Unnamed: 0 comunidade          arte    year  mes        pesqueiro   \n",
      "311         311    VALENÇA  LINHA DE MÃO  2020.0  3.0  Pedra do Cavalo  \\\n",
      "\n",
      "     numVisit  porcVisit     coordX     coordY dist_gas  dist_plat  \n",
      "311       1.0       6.25 -38.739916 -13.465195        -       8.38  \n"
     ]
    }
   ],
   "source": [
    "df_pesResg = df_pesqAg[df_pesqAg['pesqueiro'].isin(lstpesqNullCoord)]\n",
    "print(\"know if any pesquiero exist \", df_pesResg.shape)\n",
    "print(\"show \", df_pesResg.head())"
   ]
  },
  {
   "cell_type": "code",
   "execution_count": 14,
   "id": "6cc3cd1d",
   "metadata": {},
   "outputs": [
    {
     "data": {
      "text/plain": [
       "Index(['Unnamed: 0', 'comunidade', 'arte', 'year', 'mes', 'pesqueiro',\n",
       "       'numVisit', 'porcVisit', 'coordX', 'coordY', 'dist_gas', 'dist_plat'],\n",
       "      dtype='object')"
      ]
     },
     "execution_count": 14,
     "metadata": {},
     "output_type": "execute_result"
    }
   ],
   "source": [
    "df_pesResg.columns"
   ]
  },
  {
   "cell_type": "code",
   "execution_count": 15,
   "id": "96b8098d",
   "metadata": {},
   "outputs": [
    {
     "name": "stdout",
     "output_type": "stream",
     "text": [
      "Adding  Pedra do Cavalo\n"
     ]
    }
   ],
   "source": [
    "# Addding Pesqueiros de outras bases \n",
    "dictpesqueiros = {}\n",
    "for index, row in df_pesResg.iterrows():\n",
    "    dicttmp = {}\n",
    "    dicttmp['coordX'] = row['coordX']\n",
    "    dicttmp['coordY'] = row['coordY']\n",
    "    dicttmp['dist_gas'] = row['dist_gas']\n",
    "    dicttmp['dist_plat'] = row['dist_plat']\n",
    "    print(\"Adding \", row['pesqueiro'])\n",
    "    dictpesqueiros[row['pesqueiro']] = dicttmp"
   ]
  },
  {
   "cell_type": "code",
   "execution_count": 16,
   "id": "2c44304b",
   "metadata": {},
   "outputs": [
    {
     "name": "stdout",
     "output_type": "stream",
     "text": [
      "Pedra do Cavalo   {'coordX': -38.739916, 'coordY': -13.465195, 'dist_gas': '-', 'dist_plat': 8.38}\n"
     ]
    }
   ],
   "source": [
    "lstPesqFaltam = []\n",
    "for kk , valDict in dictpesqueiros.items():\n",
    "    print(kk, \" \", valDict)\n",
    "    lstPesqFaltam.append(kk)"
   ]
  },
  {
   "cell_type": "code",
   "execution_count": 17,
   "id": "52d5a1b1",
   "metadata": {},
   "outputs": [
    {
     "data": {
      "application/vnd.jupyter.widget-view+json": {
       "model_id": "bcd3fc15e30a48ceab4b752e70fc9943",
       "version_major": 2,
       "version_minor": 0
      },
      "text/plain": [
       "  0%|          | 0/809396 [00:00<?, ?it/s]"
      ]
     },
     "metadata": {},
     "output_type": "display_data"
    }
   ],
   "source": [
    "def colectInfo_pesqueiros(row):\n",
    "    # variaveis principais     \n",
    "    pesqRow = row['Pesqueiro']  \n",
    "    # 'CoordX', 'CoordY', 'dist_gas', 'dist_plat'\n",
    "    if pesqRow in lstPesqFaltam:\n",
    "        row['CoordX'] = dictpesqueiros[pesqRow]['coordX']\n",
    "        row['CoordX'] = dictpesqueiros[pesqRow]['coordY']\n",
    "        if  dictpesqueiros[pesqRow]['dist_gas'] != '-':\n",
    "            row['dist_gas'] = dictpesqueiros[pesqRow]['dist_gas'] * 1000 # levando a metros\n",
    "        else:\n",
    "            row['dist_gas'] = dictpesqueiros[pesqRow]['dist_gas']\n",
    "        if dictpesqueiros[pesqRow]['dist_plat'] != '-':\n",
    "            row['dist_plat'] = dictpesqueiros[pesqRow]['dist_plat'] * 1000 # levando a metros\n",
    "        else:\n",
    "            row['dist_plat'] = dictpesqueiros[pesqRow]['dist_plat']\n",
    "    return row\n",
    "\n",
    "\n",
    "dfRelDes = dfRelDes.progress_apply(colectInfo_pesqueiros, axis=1)"
   ]
  },
  {
   "cell_type": "code",
   "execution_count": 18,
   "id": "ce6a1c5a",
   "metadata": {},
   "outputs": [
    {
     "data": {
      "text/plain": [
       "809396"
      ]
     },
     "execution_count": 18,
     "metadata": {},
     "output_type": "execute_result"
    }
   ],
   "source": [
    "tamfilas = dfRelDes.shape[0]\n",
    "tamfilas"
   ]
  },
  {
   "cell_type": "code",
   "execution_count": 19,
   "id": "69496c24",
   "metadata": {},
   "outputs": [
    {
     "data": {
      "text/plain": [
       "179603"
      ]
     },
     "execution_count": 19,
     "metadata": {},
     "output_type": "execute_result"
    }
   ],
   "source": [
    "dfRelDes['dist_gas'].isna().sum()"
   ]
  },
  {
   "cell_type": "code",
   "execution_count": 20,
   "id": "9f2c0ba5",
   "metadata": {},
   "outputs": [
    {
     "data": {
      "text/plain": [
       "179603"
      ]
     },
     "execution_count": 20,
     "metadata": {},
     "output_type": "execute_result"
    }
   ],
   "source": [
    "noNAnDist = dfRelDes['dist_plat'].isna().sum()\n",
    "noNAnDist"
   ]
  },
  {
   "cell_type": "code",
   "execution_count": 21,
   "id": "754c5bf2",
   "metadata": {},
   "outputs": [],
   "source": [
    "# arquivando os registros com distancia diferente de null\n",
    "dfDadosDist = dfRelDes.loc[pd.notnull(dfRelDes.dist_gas)]"
   ]
  },
  {
   "cell_type": "code",
   "execution_count": 22,
   "id": "b66b771c",
   "metadata": {},
   "outputs": [
    {
     "data": {
      "text/plain": [
       "0"
      ]
     },
     "execution_count": 22,
     "metadata": {},
     "output_type": "execute_result"
    }
   ],
   "source": [
    "dfDadosDist.dist_gas.isna().sum()"
   ]
  },
  {
   "cell_type": "code",
   "execution_count": 23,
   "id": "eb287218",
   "metadata": {},
   "outputs": [
    {
     "data": {
      "text/plain": [
       "(629793, 47)"
      ]
     },
     "execution_count": 23,
     "metadata": {},
     "output_type": "execute_result"
    }
   ],
   "source": [
    "dfDadosDist.shape"
   ]
  },
  {
   "cell_type": "code",
   "execution_count": 24,
   "id": "fd2119fe",
   "metadata": {},
   "outputs": [
    {
     "data": {
      "text/plain": [
       "54"
      ]
     },
     "execution_count": 24,
     "metadata": {},
     "output_type": "execute_result"
    }
   ],
   "source": [
    "invalid = dfDadosDist[dfDadosDist.dist_gas == '-'].shape[0]\n",
    "invalid"
   ]
  },
  {
   "cell_type": "code",
   "execution_count": 25,
   "id": "1bd87284",
   "metadata": {},
   "outputs": [],
   "source": [
    "dfDadosDist = dfDadosDist[dfDadosDist.dist_gas != '-']"
   ]
  },
  {
   "cell_type": "code",
   "execution_count": 26,
   "id": "292cfe5c",
   "metadata": {},
   "outputs": [
    {
     "name": "stdout",
     "output_type": "stream",
     "text": [
      "(629739, 47)\n",
      "629739\n"
     ]
    }
   ],
   "source": [
    "print(dfDadosDist.shape)\n",
    "valComDist = dfDadosDist.shape[0]\n",
    "print(valComDist)"
   ]
  },
  {
   "cell_type": "code",
   "execution_count": 27,
   "id": "22e83c50",
   "metadata": {},
   "outputs": [
    {
     "data": {
      "text/html": [
       "<div>\n",
       "<style scoped>\n",
       "    .dataframe tbody tr th:only-of-type {\n",
       "        vertical-align: middle;\n",
       "    }\n",
       "\n",
       "    .dataframe tbody tr th {\n",
       "        vertical-align: top;\n",
       "    }\n",
       "\n",
       "    .dataframe thead th {\n",
       "        text-align: right;\n",
       "    }\n",
       "</style>\n",
       "<table border=\"1\" class=\"dataframe\">\n",
       "  <thead>\n",
       "    <tr style=\"text-align: right;\">\n",
       "      <th></th>\n",
       "      <th>gasoduto</th>\n",
       "      <th>counts</th>\n",
       "    </tr>\n",
       "  </thead>\n",
       "  <tbody>\n",
       "    <tr>\n",
       "      <th>0</th>\n",
       "      <td>com_dist</td>\n",
       "      <td>629739</td>\n",
       "    </tr>\n",
       "    <tr>\n",
       "      <th>1</th>\n",
       "      <td>sin_dist</td>\n",
       "      <td>179603</td>\n",
       "    </tr>\n",
       "  </tbody>\n",
       "</table>\n",
       "</div>"
      ],
      "text/plain": [
       "   gasoduto  counts\n",
       "0  com_dist  629739\n",
       "1  sin_dist  179603"
      ]
     },
     "execution_count": 27,
     "metadata": {},
     "output_type": "execute_result"
    }
   ],
   "source": [
    "dictDist = {\n",
    "    'gasoduto': ['com_dist', 'sin_dist'],\n",
    "    'counts': [tamfilas - noNAnDist - invalid, noNAnDist]\n",
    "}\n",
    "dfDist = pd.DataFrame.from_dict(dictDist)\n",
    "dfDist"
   ]
  },
  {
   "cell_type": "code",
   "execution_count": 28,
   "id": "4d7897c7",
   "metadata": {},
   "outputs": [
    {
     "data": {
      "text/plain": [
       "([<matplotlib.patches.Wedge at 0x7f8e1fac0e50>,\n",
       "  <matplotlib.patches.Wedge at 0x7f8e1fac0f70>],\n",
       " [Text(-0.8433367361928923, 0.706245813713271, 'com_dist'),\n",
       "  Text(0.8816701896370994, -0.7383479374287444, 'sin_dist')],\n",
       " [Text(-0.46000185610521394, 0.38522498929814775, '77.8%'),\n",
       "  Text(0.49833532457749097, -0.4173270950684207, '22.2%')])"
      ]
     },
     "execution_count": 28,
     "metadata": {},
     "output_type": "execute_result"
    },
    {
     "data": {
      "image/png": "[encoded data removed]",
      "text/plain": [
       "<Figure size 640x480 with 1 Axes>"
      ]
     },
     "metadata": {},
     "output_type": "display_data"
    }
   ],
   "source": [
    "plt.pie(dfDist.counts, labels=dfDist.gasoduto ,  \n",
    "        autopct='%1.1f%%', #colors=colors,\n",
    "#         autopct= lambda p: '{} / {:.0f}%'.format(p, p * tamfilas / 100),\n",
    "        shadow=True, explode=[0, 0.05])\n"
   ]
  },
  {
   "cell_type": "code",
   "execution_count": 33,
   "id": "dfa67174",
   "metadata": {},
   "outputs": [
    {
     "data": {
      "application/vnd.plotly.v1+json": {
       "config": {
        "plotlyServerURL": "https://plot.ly"
       },
       "data": [
        {
         "alignmentgroup": "True",
         "cliponaxis": false,
         "hovertemplate": "gasoduto=%{x}<br>counts=%{y}<extra></extra>",
         "legendgroup": "com_dist",
         "marker": {
          "color": "#636efa",
          "pattern": {
           "shape": ""
          }
         },
         "name": "com_dist",
         "offsetgroup": "com_dist",
         "orientation": "v",
         "showlegend": true,
         "textangle": 0,
         "textfont": {
          "size": 12
         },
         "textposition": "outside",
         "texttemplate": "%{y:gasoduto}",
         "type": "bar",
         "x": [
          "com_dist"
         ],
         "xaxis": "x",
         "y": [
          629739
         ],
         "yaxis": "y"
        },
        {
         "alignmentgroup": "True",
         "cliponaxis": false,
         "hovertemplate": "gasoduto=%{x}<br>counts=%{y}<extra></extra>",
         "legendgroup": "sin_dist",
         "marker": {
          "color": "#EF553B",
          "pattern": {
           "shape": ""
          }
         },
         "name": "sin_dist",
         "offsetgroup": "sin_dist",
         "orientation": "v",
         "showlegend": true,
         "textangle": 0,
         "textfont": {
          "size": 12
         },
         "textposition": "outside",
         "texttemplate": "%{y:gasoduto}",
         "type": "bar",
         "x": [
          "sin_dist"
         ],
         "xaxis": "x",
         "y": [
          179603
         ],
         "yaxis": "y"
        }
       ],
       "layout": {
        "barmode": "relative",
        "height": 400,
        "legend": {
         "title": {
          "text": "gasoduto"
         },
         "tracegroupgap": 0
        },
        "margin": {
         "t": 60
        },
        "template": {
         "data": {
          "bar": [
           {
            "error_x": {
             "color": "#2a3f5f"
            },
            "error_y": {
             "color": "#2a3f5f"
            },
            "marker": {
             "line": {
              "color": "#E5ECF6",
              "width": 0.5
             },
             "pattern": {
              "fillmode": "overlay",
              "size": 10,
              "solidity": 0.2
             }
            },
            "type": "bar"
           }
          ],
          "barpolar": [
           {
            "marker": {
             "line": {
              "color": "#E5ECF6",
              "width": 0.5
             },
             "pattern": {
              "fillmode": "overlay",
              "size": 10,
              "solidity": 0.2
             }
            },
            "type": "barpolar"
           }
          ],
          "carpet": [
           {
            "aaxis": {
             "endlinecolor": "#2a3f5f",
             "gridcolor": "white",
             "linecolor": "white",
             "minorgridcolor": "white",
             "startlinecolor": "#2a3f5f"
            },
            "baxis": {
             "endlinecolor": "#2a3f5f",
             "gridcolor": "white",
             "linecolor": "white",
             "minorgridcolor": "white",
             "startlinecolor": "#2a3f5f"
            },
            "type": "carpet"
           }
          ],
          "choropleth": [
           {
            "colorbar": {
             "outlinewidth": 0,
             "ticks": ""
            },
            "type": "choropleth"
           }
          ],
          "contour": [
           {
            "colorbar": {
             "outlinewidth": 0,
             "ticks": ""
            },
            "colorscale": [
             [
              0,
              "#0d0887"
             ],
             [
              0.1111111111111111,
              "#46039f"
             ],
             [
              0.2222222222222222,
              "#7201a8"
             ],
             [
              0.3333333333333333,
              "#9c179e"
             ],
             [
              0.4444444444444444,
              "#bd3786"
             ],
             [
              0.5555555555555556,
              "#d8576b"
             ],
             [
              0.6666666666666666,
              "#ed7953"
             ],
             [
              0.7777777777777778,
              "#fb9f3a"
             ],
             [
              0.8888888888888888,
              "#fdca26"
             ],
             [
              1,
              "#f0f921"
             ]
            ],
            "type": "contour"
           }
          ],
          "contourcarpet": [
           {
            "colorbar": {
             "outlinewidth": 0,
             "ticks": ""
            },
            "type": "contourcarpet"
           }
          ],
          "heatmap": [
           {
            "colorbar": {
             "outlinewidth": 0,
             "ticks": ""
            },
            "colorscale": [
             [
              0,
              "#0d0887"
             ],
             [
              0.1111111111111111,
              "#46039f"
             ],
             [
              0.2222222222222222,
              "#7201a8"
             ],
             [
              0.3333333333333333,
              "#9c179e"
             ],
             [
              0.4444444444444444,
              "#bd3786"
             ],
             [
              0.5555555555555556,
              "#d8576b"
             ],
             [
              0.6666666666666666,
              "#ed7953"
             ],
             [
              0.7777777777777778,
              "#fb9f3a"
             ],
             [
              0.8888888888888888,
              "#fdca26"
             ],
             [
              1,
              "#f0f921"
             ]
            ],
            "type": "heatmap"
           }
          ],
          "heatmapgl": [
           {
            "colorbar": {
             "outlinewidth": 0,
             "ticks": ""
            },
            "colorscale": [
             [
              0,
              "#0d0887"
             ],
             [
              0.1111111111111111,
              "#46039f"
             ],
             [
              0.2222222222222222,
              "#7201a8"
             ],
             [
              0.3333333333333333,
              "#9c179e"
             ],
             [
              0.4444444444444444,
              "#bd3786"
             ],
             [
              0.5555555555555556,
              "#d8576b"
             ],
             [
              0.6666666666666666,
              "#ed7953"
             ],
             [
              0.7777777777777778,
              "#fb9f3a"
             ],
             [
              0.8888888888888888,
              "#fdca26"
             ],
             [
              1,
              "#f0f921"
             ]
            ],
            "type": "heatmapgl"
           }
          ],
          "histogram": [
           {
            "marker": {
             "pattern": {
              "fillmode": "overlay",
              "size": 10,
              "solidity": 0.2
             }
            },
            "type": "histogram"
           }
          ],
          "histogram2d": [
           {
            "colorbar": {
             "outlinewidth": 0,
             "ticks": ""
            },
            "colorscale": [
             [
              0,
              "#0d0887"
             ],
             [
              0.1111111111111111,
              "#46039f"
             ],
             [
              0.2222222222222222,
              "#7201a8"
             ],
             [
              0.3333333333333333,
              "#9c179e"
             ],
             [
              0.4444444444444444,
              "#bd3786"
             ],
             [
              0.5555555555555556,
              "#d8576b"
             ],
             [
              0.6666666666666666,
              "#ed7953"
             ],
             [
              0.7777777777777778,
              "#fb9f3a"
             ],
             [
              0.8888888888888888,
              "#fdca26"
             ],
             [
              1,
              "#f0f921"
             ]
            ],
            "type": "histogram2d"
           }
          ],
          "histogram2dcontour": [
           {
            "colorbar": {
             "outlinewidth": 0,
             "ticks": ""
            },
            "colorscale": [
             [
              0,
              "#0d0887"
             ],
             [
              0.1111111111111111,
              "#46039f"
             ],
             [
              0.2222222222222222,
              "#7201a8"
             ],
             [
              0.3333333333333333,
              "#9c179e"
             ],
             [
              0.4444444444444444,
              "#bd3786"
             ],
             [
              0.5555555555555556,
              "#d8576b"
             ],
             [
              0.6666666666666666,
              "#ed7953"
             ],
             [
              0.7777777777777778,
              "#fb9f3a"
             ],
             [
              0.8888888888888888,
              "#fdca26"
             ],
             [
              1,
              "#f0f921"
             ]
            ],
            "type": "histogram2dcontour"
           }
          ],
          "mesh3d": [
           {
            "colorbar": {
             "outlinewidth": 0,
             "ticks": ""
            },
            "type": "mesh3d"
           }
          ],
          "parcoords": [
           {
            "line": {
             "colorbar": {
              "outlinewidth": 0,
              "ticks": ""
             }
            },
            "type": "parcoords"
           }
          ],
          "pie": [
           {
            "automargin": true,
            "type": "pie"
           }
          ],
          "scatter": [
           {
            "fillpattern": {
             "fillmode": "overlay",
             "size": 10,
             "solidity": 0.2
            },
            "type": "scatter"
           }
          ],
          "scatter3d": [
           {
            "line": {
             "colorbar": {
              "outlinewidth": 0,
              "ticks": ""
             }
            },
            "marker": {
             "colorbar": {
              "outlinewidth": 0,
              "ticks": ""
             }
            },
            "type": "scatter3d"
           }
          ],
          "scattercarpet": [
           {
            "marker": {
             "colorbar": {
              "outlinewidth": 0,
              "ticks": ""
             }
            },
            "type": "scattercarpet"
           }
          ],
          "scattergeo": [
           {
            "marker": {
             "colorbar": {
              "outlinewidth": 0,
              "ticks": ""
             }
            },
            "type": "scattergeo"
           }
          ],
          "scattergl": [
           {
            "marker": {
             "colorbar": {
              "outlinewidth": 0,
              "ticks": ""
             }
            },
            "type": "scattergl"
           }
          ],
          "scattermapbox": [
           {
            "marker": {
             "colorbar": {
              "outlinewidth": 0,
              "ticks": ""
             }
            },
            "type": "scattermapbox"
           }
          ],
          "scatterpolar": [
           {
            "marker": {
             "colorbar": {
              "outlinewidth": 0,
              "ticks": ""
             }
            },
            "type": "scatterpolar"
           }
          ],
          "scatterpolargl": [
           {
            "marker": {
             "colorbar": {
              "outlinewidth": 0,
              "ticks": ""
             }
            },
            "type": "scatterpolargl"
           }
          ],
          "scatterternary": [
           {
            "marker": {
             "colorbar": {
              "outlinewidth": 0,
              "ticks": ""
             }
            },
            "type": "scatterternary"
           }
          ],
          "surface": [
           {
            "colorbar": {
             "outlinewidth": 0,
             "ticks": ""
            },
            "colorscale": [
             [
              0,
              "#0d0887"
             ],
             [
              0.1111111111111111,
              "#46039f"
             ],
             [
              0.2222222222222222,
              "#7201a8"
             ],
             [
              0.3333333333333333,
              "#9c179e"
             ],
             [
              0.4444444444444444,
              "#bd3786"
             ],
             [
              0.5555555555555556,
              "#d8576b"
             ],
             [
              0.6666666666666666,
              "#ed7953"
             ],
             [
              0.7777777777777778,
              "#fb9f3a"
             ],
             [
              0.8888888888888888,
              "#fdca26"
             ],
             [
              1,
              "#f0f921"
             ]
            ],
            "type": "surface"
           }
          ],
          "table": [
           {
            "cells": {
             "fill": {
              "color": "#EBF0F8"
             },
             "line": {
              "color": "white"
             }
            },
            "header": {
             "fill": {
              "color": "#C8D4E3"
             },
             "line": {
              "color": "white"
             }
            },
            "type": "table"
           }
          ]
         },
         "layout": {
          "annotationdefaults": {
           "arrowcolor": "#2a3f5f",
           "arrowhead": 0,
           "arrowwidth": 1
          },
          "autotypenumbers": "strict",
          "coloraxis": {
           "colorbar": {
            "outlinewidth": 0,
            "ticks": ""
           }
          },
          "colorscale": {
           "diverging": [
            [
             0,
             "#8e0152"
            ],
            [
             0.1,
             "#c51b7d"
            ],
            [
             0.2,
             "#de77ae"
            ],
            [
             0.3,
             "#f1b6da"
            ],
            [
             0.4,
             "#fde0ef"
            ],
            [
             0.5,
             "#f7f7f7"
            ],
            [
             0.6,
             "#e6f5d0"
            ],
            [
             0.7,
             "#b8e186"
            ],
            [
             0.8,
             "#7fbc41"
            ],
            [
             0.9,
             "#4d9221"
            ],
            [
             1,
             "#276419"
            ]
           ],
           "sequential": [
            [
             0,
             "#0d0887"
            ],
            [
             0.1111111111111111,
             "#46039f"
            ],
            [
             0.2222222222222222,
             "#7201a8"
            ],
            [
             0.3333333333333333,
             "#9c179e"
            ],
            [
             0.4444444444444444,
             "#bd3786"
            ],
            [
             0.5555555555555556,
             "#d8576b"
            ],
            [
             0.6666666666666666,
             "#ed7953"
            ],
            [
             0.7777777777777778,
             "#fb9f3a"
            ],
            [
             0.8888888888888888,
             "#fdca26"
            ],
            [
             1,
             "#f0f921"
            ]
           ],
           "sequentialminus": [
            [
             0,
             "#0d0887"
            ],
            [
             0.1111111111111111,
             "#46039f"
            ],
            [
             0.2222222222222222,
             "#7201a8"
            ],
            [
             0.3333333333333333,
             "#9c179e"
            ],
            [
             0.4444444444444444,
             "#bd3786"
            ],
            [
             0.5555555555555556,
             "#d8576b"
            ],
            [
             0.6666666666666666,
             "#ed7953"
            ],
            [
             0.7777777777777778,
             "#fb9f3a"
            ],
            [
             0.8888888888888888,
             "#fdca26"
            ],
            [
             1,
             "#f0f921"
            ]
           ]
          },
          "colorway": [
           "#636efa",
           "#EF553B",
           "#00cc96",
           "#ab63fa",
           "#FFA15A",
           "#19d3f3",
           "#FF6692",
           "#B6E880",
           "#FF97FF",
           "#FECB52"
          ],
          "font": {
           "color": "#2a3f5f"
          },
          "geo": {
           "bgcolor": "white",
           "lakecolor": "white",
           "landcolor": "#E5ECF6",
           "showlakes": true,
           "showland": true,
           "subunitcolor": "white"
          },
          "hoverlabel": {
           "align": "left"
          },
          "hovermode": "closest",
          "mapbox": {
           "style": "light"
          },
          "paper_bgcolor": "white",
          "plot_bgcolor": "#E5ECF6",
          "polar": {
           "angularaxis": {
            "gridcolor": "white",
            "linecolor": "white",
            "ticks": ""
           },
           "bgcolor": "#E5ECF6",
           "radialaxis": {
            "gridcolor": "white",
            "linecolor": "white",
            "ticks": ""
           }
          },
          "scene": {
           "xaxis": {
            "backgroundcolor": "#E5ECF6",
            "gridcolor": "white",
            "gridwidth": 2,
            "linecolor": "white",
            "showbackground": true,
            "ticks": "",
            "zerolinecolor": "white"
           },
           "yaxis": {
            "backgroundcolor": "#E5ECF6",
            "gridcolor": "white",
            "gridwidth": 2,
            "linecolor": "white",
            "showbackground": true,
            "ticks": "",
            "zerolinecolor": "white"
           },
           "zaxis": {
            "backgroundcolor": "#E5ECF6",
            "gridcolor": "white",
            "gridwidth": 2,
            "linecolor": "white",
            "showbackground": true,
            "ticks": "",
            "zerolinecolor": "white"
           }
          },
          "shapedefaults": {
           "line": {
            "color": "#2a3f5f"
           }
          },
          "ternary": {
           "aaxis": {
            "gridcolor": "white",
            "linecolor": "white",
            "ticks": ""
           },
           "baxis": {
            "gridcolor": "white",
            "linecolor": "white",
            "ticks": ""
           },
           "bgcolor": "#E5ECF6",
           "caxis": {
            "gridcolor": "white",
            "linecolor": "white",
            "ticks": ""
           }
          },
          "title": {
           "x": 0.05
          },
          "xaxis": {
           "automargin": true,
           "gridcolor": "white",
           "linecolor": "white",
           "ticks": "",
           "title": {
            "standoff": 15
           },
           "zerolinecolor": "white",
           "zerolinewidth": 2
          },
          "yaxis": {
           "automargin": true,
           "gridcolor": "white",
           "linecolor": "white",
           "ticks": "",
           "title": {
            "standoff": 15
           },
           "zerolinecolor": "white",
           "zerolinewidth": 2
          }
         }
        },
        "width": 500,
        "xaxis": {
         "anchor": "y",
         "categoryarray": [
          "com_dist",
          "sin_dist"
         ],
         "categoryorder": "array",
         "domain": [
          0,
          1
         ],
         "title": {
          "text": "gasoduto"
         }
        },
        "yaxis": {
         "anchor": "x",
         "domain": [
          0,
          1
         ],
         "title": {
          "text": "counts"
         }
        }
       }
      },
      "text/html": [
       "<div>                            <div id=\"f28c5c13-7f27-43f4-a38b-b4c6ed0aed94\" class=\"plotly-graph-div\" style=\"height:400px; width:500px;\"></div>            <script type=\"text/javascript\">                require([\"plotly\"], function(Plotly) {                    window.PLOTLYENV=window.PLOTLYENV || {};                                    if (document.getElementById(\"f28c5c13-7f27-43f4-a38b-b4c6ed0aed94\")) {                    Plotly.newPlot(                        \"f28c5c13-7f27-43f4-a38b-b4c6ed0aed94\",                        [{\"alignmentgroup\":\"True\",\"hovertemplate\":\"gasoduto=%{x}<br>counts=%{y}<extra></extra>\",\"legendgroup\":\"com_dist\",\"marker\":{\"color\":\"#636efa\",\"pattern\":{\"shape\":\"\"}},\"name\":\"com_dist\",\"offsetgroup\":\"com_dist\",\"orientation\":\"v\",\"showlegend\":true,\"textposition\":\"outside\",\"texttemplate\":\"%{y:gasoduto}\",\"x\":[\"com_dist\"],\"xaxis\":\"x\",\"y\":[629739],\"yaxis\":\"y\",\"type\":\"bar\",\"textfont\":{\"size\":12},\"cliponaxis\":false,\"textangle\":0},{\"alignmentgroup\":\"True\",\"hovertemplate\":\"gasoduto=%{x}<br>counts=%{y}<extra></extra>\",\"legendgroup\":\"sin_dist\",\"marker\":{\"color\":\"#EF553B\",\"pattern\":{\"shape\":\"\"}},\"name\":\"sin_dist\",\"offsetgroup\":\"sin_dist\",\"orientation\":\"v\",\"showlegend\":true,\"textposition\":\"outside\",\"texttemplate\":\"%{y:gasoduto}\",\"x\":[\"sin_dist\"],\"xaxis\":\"x\",\"y\":[179603],\"yaxis\":\"y\",\"type\":\"bar\",\"textfont\":{\"size\":12},\"cliponaxis\":false,\"textangle\":0}],                        {\"template\":{\"data\":{\"histogram2dcontour\":[{\"type\":\"histogram2dcontour\",\"colorbar\":{\"outlinewidth\":0,\"ticks\":\"\"},\"colorscale\":[[0.0,\"#0d0887\"],[0.1111111111111111,\"#46039f\"],[0.2222222222222222,\"#7201a8\"],[0.3333333333333333,\"#9c179e\"],[0.4444444444444444,\"#bd3786\"],[0.5555555555555556,\"#d8576b\"],[0.6666666666666666,\"#ed7953\"],[0.7777777777777778,\"#fb9f3a\"],[0.8888888888888888,\"#fdca26\"],[1.0,\"#f0f921\"]]}],\"choropleth\":[{\"type\":\"choropleth\",\"colorbar\":{\"outlinewidth\":0,\"ticks\":\"\"}}],\"histogram2d\":[{\"type\":\"histogram2d\",\"colorbar\":{\"outlinewidth\":0,\"ticks\":\"\"},\"colorscale\":[[0.0,\"#0d0887\"],[0.1111111111111111,\"#46039f\"],[0.2222222222222222,\"#7201a8\"],[0.3333333333333333,\"#9c179e\"],[0.4444444444444444,\"#bd3786\"],[0.5555555555555556,\"#d8576b\"],[0.6666666666666666,\"#ed7953\"],[0.7777777777777778,\"#fb9f3a\"],[0.8888888888888888,\"#fdca26\"],[1.0,\"#f0f921\"]]}],\"heatmap\":[{\"type\":\"heatmap\",\"colorbar\":{\"outlinewidth\":0,\"ticks\":\"\"},\"colorscale\":[[0.0,\"#0d0887\"],[0.1111111111111111,\"#46039f\"],[0.2222222222222222,\"#7201a8\"],[0.3333333333333333,\"#9c179e\"],[0.4444444444444444,\"#bd3786\"],[0.5555555555555556,\"#d8576b\"],[0.6666666666666666,\"#ed7953\"],[0.7777777777777778,\"#fb9f3a\"],[0.8888888888888888,\"#fdca26\"],[1.0,\"#f0f921\"]]}],\"heatmapgl\":[{\"type\":\"heatmapgl\",\"colorbar\":{\"outlinewidth\":0,\"ticks\":\"\"},\"colorscale\":[[0.0,\"#0d0887\"],[0.1111111111111111,\"#46039f\"],[0.2222222222222222,\"#7201a8\"],[0.3333333333333333,\"#9c179e\"],[0.4444444444444444,\"#bd3786\"],[0.5555555555555556,\"#d8576b\"],[0.6666666666666666,\"#ed7953\"],[0.7777777777777778,\"#fb9f3a\"],[0.8888888888888888,\"#fdca26\"],[1.0,\"#f0f921\"]]}],\"contourcarpet\":[{\"type\":\"contourcarpet\",\"colorbar\":{\"outlinewidth\":0,\"ticks\":\"\"}}],\"contour\":[{\"type\":\"contour\",\"colorbar\":{\"outlinewidth\":0,\"ticks\":\"\"},\"colorscale\":[[0.0,\"#0d0887\"],[0.1111111111111111,\"#46039f\"],[0.2222222222222222,\"#7201a8\"],[0.3333333333333333,\"#9c179e\"],[0.4444444444444444,\"#bd3786\"],[0.5555555555555556,\"#d8576b\"],[0.6666666666666666,\"#ed7953\"],[0.7777777777777778,\"#fb9f3a\"],[0.8888888888888888,\"#fdca26\"],[1.0,\"#f0f921\"]]}],\"surface\":[{\"type\":\"surface\",\"colorbar\":{\"outlinewidth\":0,\"ticks\":\"\"},\"colorscale\":[[0.0,\"#0d0887\"],[0.1111111111111111,\"#46039f\"],[0.2222222222222222,\"#7201a8\"],[0.3333333333333333,\"#9c179e\"],[0.4444444444444444,\"#bd3786\"],[0.5555555555555556,\"#d8576b\"],[0.6666666666666666,\"#ed7953\"],[0.7777777777777778,\"#fb9f3a\"],[0.8888888888888888,\"#fdca26\"],[1.0,\"#f0f921\"]]}],\"mesh3d\":[{\"type\":\"mesh3d\",\"colorbar\":{\"outlinewidth\":0,\"ticks\":\"\"}}],\"scatter\":[{\"fillpattern\":{\"fillmode\":\"overlay\",\"size\":10,\"solidity\":0.2},\"type\":\"scatter\"}],\"parcoords\":[{\"type\":\"parcoords\",\"line\":{\"colorbar\":{\"outlinewidth\":0,\"ticks\":\"\"}}}],\"scatterpolargl\":[{\"type\":\"scatterpolargl\",\"marker\":{\"colorbar\":{\"outlinewidth\":0,\"ticks\":\"\"}}}],\"bar\":[{\"error_x\":{\"color\":\"#2a3f5f\"},\"error_y\":{\"color\":\"#2a3f5f\"},\"marker\":{\"line\":{\"color\":\"#E5ECF6\",\"width\":0.5},\"pattern\":{\"fillmode\":\"overlay\",\"size\":10,\"solidity\":0.2}},\"type\":\"bar\"}],\"scattergeo\":[{\"type\":\"scattergeo\",\"marker\":{\"colorbar\":{\"outlinewidth\":0,\"ticks\":\"\"}}}],\"scatterpolar\":[{\"type\":\"scatterpolar\",\"marker\":{\"colorbar\":{\"outlinewidth\":0,\"ticks\":\"\"}}}],\"histogram\":[{\"marker\":{\"pattern\":{\"fillmode\":\"overlay\",\"size\":10,\"solidity\":0.2}},\"type\":\"histogram\"}],\"scattergl\":[{\"type\":\"scattergl\",\"marker\":{\"colorbar\":{\"outlinewidth\":0,\"ticks\":\"\"}}}],\"scatter3d\":[{\"type\":\"scatter3d\",\"line\":{\"colorbar\":{\"outlinewidth\":0,\"ticks\":\"\"}},\"marker\":{\"colorbar\":{\"outlinewidth\":0,\"ticks\":\"\"}}}],\"scattermapbox\":[{\"type\":\"scattermapbox\",\"marker\":{\"colorbar\":{\"outlinewidth\":0,\"ticks\":\"\"}}}],\"scatterternary\":[{\"type\":\"scatterternary\",\"marker\":{\"colorbar\":{\"outlinewidth\":0,\"ticks\":\"\"}}}],\"scattercarpet\":[{\"type\":\"scattercarpet\",\"marker\":{\"colorbar\":{\"outlinewidth\":0,\"ticks\":\"\"}}}],\"carpet\":[{\"aaxis\":{\"endlinecolor\":\"#2a3f5f\",\"gridcolor\":\"white\",\"linecolor\":\"white\",\"minorgridcolor\":\"white\",\"startlinecolor\":\"#2a3f5f\"},\"baxis\":{\"endlinecolor\":\"#2a3f5f\",\"gridcolor\":\"white\",\"linecolor\":\"white\",\"minorgridcolor\":\"white\",\"startlinecolor\":\"#2a3f5f\"},\"type\":\"carpet\"}],\"table\":[{\"cells\":{\"fill\":{\"color\":\"#EBF0F8\"},\"line\":{\"color\":\"white\"}},\"header\":{\"fill\":{\"color\":\"#C8D4E3\"},\"line\":{\"color\":\"white\"}},\"type\":\"table\"}],\"barpolar\":[{\"marker\":{\"line\":{\"color\":\"#E5ECF6\",\"width\":0.5},\"pattern\":{\"fillmode\":\"overlay\",\"size\":10,\"solidity\":0.2}},\"type\":\"barpolar\"}],\"pie\":[{\"automargin\":true,\"type\":\"pie\"}]},\"layout\":{\"autotypenumbers\":\"strict\",\"colorway\":[\"#636efa\",\"#EF553B\",\"#00cc96\",\"#ab63fa\",\"#FFA15A\",\"#19d3f3\",\"#FF6692\",\"#B6E880\",\"#FF97FF\",\"#FECB52\"],\"font\":{\"color\":\"#2a3f5f\"},\"hovermode\":\"closest\",\"hoverlabel\":{\"align\":\"left\"},\"paper_bgcolor\":\"white\",\"plot_bgcolor\":\"#E5ECF6\",\"polar\":{\"bgcolor\":\"#E5ECF6\",\"angularaxis\":{\"gridcolor\":\"white\",\"linecolor\":\"white\",\"ticks\":\"\"},\"radialaxis\":{\"gridcolor\":\"white\",\"linecolor\":\"white\",\"ticks\":\"\"}},\"ternary\":{\"bgcolor\":\"#E5ECF6\",\"aaxis\":{\"gridcolor\":\"white\",\"linecolor\":\"white\",\"ticks\":\"\"},\"baxis\":{\"gridcolor\":\"white\",\"linecolor\":\"white\",\"ticks\":\"\"},\"caxis\":{\"gridcolor\":\"white\",\"linecolor\":\"white\",\"ticks\":\"\"}},\"coloraxis\":{\"colorbar\":{\"outlinewidth\":0,\"ticks\":\"\"}},\"colorscale\":{\"sequential\":[[0.0,\"#0d0887\"],[0.1111111111111111,\"#46039f\"],[0.2222222222222222,\"#7201a8\"],[0.3333333333333333,\"#9c179e\"],[0.4444444444444444,\"#bd3786\"],[0.5555555555555556,\"#d8576b\"],[0.6666666666666666,\"#ed7953\"],[0.7777777777777778,\"#fb9f3a\"],[0.8888888888888888,\"#fdca26\"],[1.0,\"#f0f921\"]],\"sequentialminus\":[[0.0,\"#0d0887\"],[0.1111111111111111,\"#46039f\"],[0.2222222222222222,\"#7201a8\"],[0.3333333333333333,\"#9c179e\"],[0.4444444444444444,\"#bd3786\"],[0.5555555555555556,\"#d8576b\"],[0.6666666666666666,\"#ed7953\"],[0.7777777777777778,\"#fb9f3a\"],[0.8888888888888888,\"#fdca26\"],[1.0,\"#f0f921\"]],\"diverging\":[[0,\"#8e0152\"],[0.1,\"#c51b7d\"],[0.2,\"#de77ae\"],[0.3,\"#f1b6da\"],[0.4,\"#fde0ef\"],[0.5,\"#f7f7f7\"],[0.6,\"#e6f5d0\"],[0.7,\"#b8e186\"],[0.8,\"#7fbc41\"],[0.9,\"#4d9221\"],[1,\"#276419\"]]},\"xaxis\":{\"gridcolor\":\"white\",\"linecolor\":\"white\",\"ticks\":\"\",\"title\":{\"standoff\":15},\"zerolinecolor\":\"white\",\"automargin\":true,\"zerolinewidth\":2},\"yaxis\":{\"gridcolor\":\"white\",\"linecolor\":\"white\",\"ticks\":\"\",\"title\":{\"standoff\":15},\"zerolinecolor\":\"white\",\"automargin\":true,\"zerolinewidth\":2},\"scene\":{\"xaxis\":{\"backgroundcolor\":\"#E5ECF6\",\"gridcolor\":\"white\",\"linecolor\":\"white\",\"showbackground\":true,\"ticks\":\"\",\"zerolinecolor\":\"white\",\"gridwidth\":2},\"yaxis\":{\"backgroundcolor\":\"#E5ECF6\",\"gridcolor\":\"white\",\"linecolor\":\"white\",\"showbackground\":true,\"ticks\":\"\",\"zerolinecolor\":\"white\",\"gridwidth\":2},\"zaxis\":{\"backgroundcolor\":\"#E5ECF6\",\"gridcolor\":\"white\",\"linecolor\":\"white\",\"showbackground\":true,\"ticks\":\"\",\"zerolinecolor\":\"white\",\"gridwidth\":2}},\"shapedefaults\":{\"line\":{\"color\":\"#2a3f5f\"}},\"annotationdefaults\":{\"arrowcolor\":\"#2a3f5f\",\"arrowhead\":0,\"arrowwidth\":1},\"geo\":{\"bgcolor\":\"white\",\"landcolor\":\"#E5ECF6\",\"subunitcolor\":\"white\",\"showland\":true,\"showlakes\":true,\"lakecolor\":\"white\"},\"title\":{\"x\":0.05},\"mapbox\":{\"style\":\"light\"}}},\"xaxis\":{\"anchor\":\"y\",\"domain\":[0.0,1.0],\"title\":{\"text\":\"gasoduto\"},\"categoryorder\":\"array\",\"categoryarray\":[\"com_dist\",\"sin_dist\"]},\"yaxis\":{\"anchor\":\"x\",\"domain\":[0.0,1.0],\"title\":{\"text\":\"counts\"}},\"legend\":{\"title\":{\"text\":\"gasoduto\"},\"tracegroupgap\":0},\"margin\":{\"t\":60},\"barmode\":\"relative\",\"height\":400,\"width\":500},                        {\"responsive\": true}                    ).then(function(){\n",
       "                            \n",
       "var gd = document.getElementById('f28c5c13-7f27-43f4-a38b-b4c6ed0aed94');\n",
       "var x = new MutationObserver(function (mutations, observer) {{\n",
       "        var display = window.getComputedStyle(gd).display;\n",
       "        if (!display || display === 'none') {{\n",
       "            console.log([gd, 'removed!']);\n",
       "            Plotly.purge(gd);\n",
       "            observer.disconnect();\n",
       "        }}\n",
       "}});\n",
       "\n",
       "// Listen for the removal of the full notebook cells\n",
       "var notebookContainer = gd.closest('#notebook-container');\n",
       "if (notebookContainer) {{\n",
       "    x.observe(notebookContainer, {childList: true});\n",
       "}}\n",
       "\n",
       "// Listen for the clearing of the current output cell\n",
       "var outputEl = gd.closest('.output');\n",
       "if (outputEl) {{\n",
       "    x.observe(outputEl, {childList: true});\n",
       "}}\n",
       "\n",
       "                        })                };                });            </script>        </div>"
      ]
     },
     "metadata": {},
     "output_type": "display_data"
    }
   ],
   "source": [
    "fig = px.bar(dfDist, \n",
    "             x='gasoduto', \n",
    "             y='counts',\n",
    "             color='gasoduto',\n",
    "             text_auto='gasoduto',\n",
    "             height=400,\n",
    "            width= 500)\n",
    "fig.update_traces(textfont_size=12, \n",
    "                  textangle=0, \n",
    "                  textposition=\"outside\", \n",
    "                  cliponaxis=False)\n",
    "fig.show()"
   ]
  },
  {
   "cell_type": "code",
   "execution_count": 34,
   "id": "892cf542",
   "metadata": {},
   "outputs": [],
   "source": [
    "dfDadosDist.dist_gas = dfDadosDist.dist_gas.apply(lambda X: float(X))"
   ]
  },
  {
   "cell_type": "code",
   "execution_count": 35,
   "id": "f4eb2b0f",
   "metadata": {},
   "outputs": [
    {
     "data": {
      "text/plain": [
       "155056    31.405725\n",
       "310016    31.405725\n",
       "310019    31.405725\n",
       "17251     31.405725\n",
       "17254     31.405725\n",
       "Name: dist_gas, dtype: float64"
      ]
     },
     "execution_count": 35,
     "metadata": {},
     "output_type": "execute_result"
    }
   ],
   "source": [
    "dfDadosDist = dfDadosDist.sort_values(by= 'dist_gas' )\n",
    "dfDadosDist['dist_gas'].head()"
   ]
  },
  {
   "cell_type": "code",
   "execution_count": 32,
   "id": "bf35cf48",
   "metadata": {},
   "outputs": [],
   "source": [
    "# dfDadosDist['menor500M'] = False"
   ]
  },
  {
   "cell_type": "code",
   "execution_count": 36,
   "id": "20bc4a2e",
   "metadata": {},
   "outputs": [
    {
     "data": {
      "application/vnd.jupyter.widget-view+json": {
       "model_id": "e809419160b547ed82fbe4bbe5a6ad76",
       "version_major": 2,
       "version_minor": 0
      },
      "text/plain": [
       "  0%|          | 0/629739 [00:00<?, ?it/s]"
      ]
     },
     "metadata": {},
     "output_type": "display_data"
    }
   ],
   "source": [
    "def distancia_plataforma_menor_500metros(dist):\n",
    "    try:\n",
    "        if float(dist) < 500.0:\n",
    "            return True\n",
    "        else:\n",
    "            return False\n",
    "    except:\n",
    "        return np.nan\n",
    "    \n",
    "dfDadosDist['menor500M'] = dfDadosDist['dist_gas'].progress_apply(\n",
    "                                        lambda x: distancia_plataforma_menor_500metros(x))"
   ]
  },
  {
   "cell_type": "code",
   "execution_count": 58,
   "id": "da762bbc",
   "metadata": {},
   "outputs": [],
   "source": [
    "#  dfDadosDist[dfDadosDist['dist_gas'] < 500]['m<_500M'] = True"
   ]
  },
  {
   "cell_type": "markdown",
   "id": "291cfb95",
   "metadata": {},
   "source": [
    "## Comprovando o filtro de distancia menor que 500"
   ]
  },
  {
   "cell_type": "code",
   "execution_count": 42,
   "id": "3e2548ce",
   "metadata": {},
   "outputs": [
    {
     "data": {
      "text/html": [
       "<div>\n",
       "<style scoped>\n",
       "    .dataframe tbody tr th:only-of-type {\n",
       "        vertical-align: middle;\n",
       "    }\n",
       "\n",
       "    .dataframe tbody tr th {\n",
       "        vertical-align: top;\n",
       "    }\n",
       "\n",
       "    .dataframe thead th {\n",
       "        text-align: right;\n",
       "    }\n",
       "</style>\n",
       "<table border=\"1\" class=\"dataframe\">\n",
       "  <thead>\n",
       "    <tr style=\"text-align: right;\">\n",
       "      <th></th>\n",
       "      <th>dist_gas</th>\n",
       "      <th>menor500M</th>\n",
       "    </tr>\n",
       "  </thead>\n",
       "  <tbody>\n",
       "    <tr>\n",
       "      <th>155056</th>\n",
       "      <td>31.405725</td>\n",
       "      <td>True</td>\n",
       "    </tr>\n",
       "    <tr>\n",
       "      <th>310016</th>\n",
       "      <td>31.405725</td>\n",
       "      <td>True</td>\n",
       "    </tr>\n",
       "    <tr>\n",
       "      <th>310019</th>\n",
       "      <td>31.405725</td>\n",
       "      <td>True</td>\n",
       "    </tr>\n",
       "    <tr>\n",
       "      <th>17251</th>\n",
       "      <td>31.405725</td>\n",
       "      <td>True</td>\n",
       "    </tr>\n",
       "    <tr>\n",
       "      <th>17254</th>\n",
       "      <td>31.405725</td>\n",
       "      <td>True</td>\n",
       "    </tr>\n",
       "    <tr>\n",
       "      <th>155003</th>\n",
       "      <td>31.405725</td>\n",
       "      <td>True</td>\n",
       "    </tr>\n",
       "    <tr>\n",
       "      <th>282017</th>\n",
       "      <td>31.405725</td>\n",
       "      <td>True</td>\n",
       "    </tr>\n",
       "    <tr>\n",
       "      <th>155028</th>\n",
       "      <td>31.405725</td>\n",
       "      <td>True</td>\n",
       "    </tr>\n",
       "  </tbody>\n",
       "</table>\n",
       "</div>"
      ],
      "text/plain": [
       "         dist_gas  menor500M\n",
       "155056  31.405725       True\n",
       "310016  31.405725       True\n",
       "310019  31.405725       True\n",
       "17251   31.405725       True\n",
       "17254   31.405725       True\n",
       "155003  31.405725       True\n",
       "282017  31.405725       True\n",
       "155028  31.405725       True"
      ]
     },
     "execution_count": 42,
     "metadata": {},
     "output_type": "execute_result"
    }
   ],
   "source": [
    "# os primeiros 10 menores que 500 metros \n",
    "dfDadosDist[dfDadosDist['dist_gas'] < 500][['dist_gas','menor500M']].head(8)"
   ]
  },
  {
   "cell_type": "code",
   "execution_count": 43,
   "id": "113863db",
   "metadata": {},
   "outputs": [
    {
     "data": {
      "text/html": [
       "<div>\n",
       "<style scoped>\n",
       "    .dataframe tbody tr th:only-of-type {\n",
       "        vertical-align: middle;\n",
       "    }\n",
       "\n",
       "    .dataframe tbody tr th {\n",
       "        vertical-align: top;\n",
       "    }\n",
       "\n",
       "    .dataframe thead th {\n",
       "        text-align: right;\n",
       "    }\n",
       "</style>\n",
       "<table border=\"1\" class=\"dataframe\">\n",
       "  <thead>\n",
       "    <tr style=\"text-align: right;\">\n",
       "      <th></th>\n",
       "      <th>dist_gas</th>\n",
       "      <th>menor500M</th>\n",
       "    </tr>\n",
       "  </thead>\n",
       "  <tbody>\n",
       "    <tr>\n",
       "      <th>101100</th>\n",
       "      <td>496.1586</td>\n",
       "      <td>True</td>\n",
       "    </tr>\n",
       "    <tr>\n",
       "      <th>101095</th>\n",
       "      <td>496.1586</td>\n",
       "      <td>True</td>\n",
       "    </tr>\n",
       "    <tr>\n",
       "      <th>101102</th>\n",
       "      <td>496.1586</td>\n",
       "      <td>True</td>\n",
       "    </tr>\n",
       "    <tr>\n",
       "      <th>96997</th>\n",
       "      <td>496.1586</td>\n",
       "      <td>True</td>\n",
       "    </tr>\n",
       "    <tr>\n",
       "      <th>62999</th>\n",
       "      <td>496.1586</td>\n",
       "      <td>True</td>\n",
       "    </tr>\n",
       "    <tr>\n",
       "      <th>79173</th>\n",
       "      <td>496.1586</td>\n",
       "      <td>True</td>\n",
       "    </tr>\n",
       "    <tr>\n",
       "      <th>64263</th>\n",
       "      <td>496.1586</td>\n",
       "      <td>True</td>\n",
       "    </tr>\n",
       "    <tr>\n",
       "      <th>101101</th>\n",
       "      <td>496.1586</td>\n",
       "      <td>True</td>\n",
       "    </tr>\n",
       "  </tbody>\n",
       "</table>\n",
       "</div>"
      ],
      "text/plain": [
       "        dist_gas  menor500M\n",
       "101100  496.1586       True\n",
       "101095  496.1586       True\n",
       "101102  496.1586       True\n",
       "96997   496.1586       True\n",
       "62999   496.1586       True\n",
       "79173   496.1586       True\n",
       "64263   496.1586       True\n",
       "101101  496.1586       True"
      ]
     },
     "execution_count": 43,
     "metadata": {},
     "output_type": "execute_result"
    }
   ],
   "source": [
    "# os ultimos 10 menores que 500 metros \n",
    "dfDadosDist[dfDadosDist['dist_gas'] < 500][['dist_gas','menor500M']].tail(8)"
   ]
  },
  {
   "cell_type": "code",
   "execution_count": 44,
   "id": "ea18cc27",
   "metadata": {},
   "outputs": [
    {
     "data": {
      "text/html": [
       "<div>\n",
       "<style scoped>\n",
       "    .dataframe tbody tr th:only-of-type {\n",
       "        vertical-align: middle;\n",
       "    }\n",
       "\n",
       "    .dataframe tbody tr th {\n",
       "        vertical-align: top;\n",
       "    }\n",
       "\n",
       "    .dataframe thead th {\n",
       "        text-align: right;\n",
       "    }\n",
       "</style>\n",
       "<table border=\"1\" class=\"dataframe\">\n",
       "  <thead>\n",
       "    <tr style=\"text-align: right;\">\n",
       "      <th></th>\n",
       "      <th>dist_gas</th>\n",
       "      <th>menor500M</th>\n",
       "    </tr>\n",
       "  </thead>\n",
       "  <tbody>\n",
       "    <tr>\n",
       "      <th>143843</th>\n",
       "      <td>9.153995e+06</td>\n",
       "      <td>False</td>\n",
       "    </tr>\n",
       "    <tr>\n",
       "      <th>631757</th>\n",
       "      <td>9.153995e+06</td>\n",
       "      <td>False</td>\n",
       "    </tr>\n",
       "    <tr>\n",
       "      <th>311065</th>\n",
       "      <td>9.153995e+06</td>\n",
       "      <td>False</td>\n",
       "    </tr>\n",
       "    <tr>\n",
       "      <th>310825</th>\n",
       "      <td>9.153995e+06</td>\n",
       "      <td>False</td>\n",
       "    </tr>\n",
       "    <tr>\n",
       "      <th>347224</th>\n",
       "      <td>9.153995e+06</td>\n",
       "      <td>False</td>\n",
       "    </tr>\n",
       "  </tbody>\n",
       "</table>\n",
       "</div>"
      ],
      "text/plain": [
       "            dist_gas  menor500M\n",
       "143843  9.153995e+06      False\n",
       "631757  9.153995e+06      False\n",
       "311065  9.153995e+06      False\n",
       "310825  9.153995e+06      False\n",
       "347224  9.153995e+06      False"
      ]
     },
     "execution_count": 44,
     "metadata": {},
     "output_type": "execute_result"
    }
   ],
   "source": [
    "dfDadosDist[dfDadosDist['dist_gas'] > 500][['dist_gas','menor500M']].tail()"
   ]
  },
  {
   "cell_type": "code",
   "execution_count": 45,
   "id": "dcf963ee",
   "metadata": {},
   "outputs": [
    {
     "data": {
      "text/plain": [
       "20087"
      ]
     },
     "execution_count": 45,
     "metadata": {},
     "output_type": "execute_result"
    }
   ],
   "source": [
    "dadosDist05Km = dfDadosDist[dfDadosDist['menor500M'] == True].shape[0]\n",
    "dadosDist05Km"
   ]
  },
  {
   "cell_type": "markdown",
   "id": "9c278f30",
   "metadata": {},
   "source": [
    "## Building the plot pie "
   ]
  },
  {
   "cell_type": "code",
   "execution_count": 56,
   "id": "7b29ba07",
   "metadata": {},
   "outputs": [
    {
     "data": {
      "text/html": [
       "<div>\n",
       "<style scoped>\n",
       "    .dataframe tbody tr th:only-of-type {\n",
       "        vertical-align: middle;\n",
       "    }\n",
       "\n",
       "    .dataframe tbody tr th {\n",
       "        vertical-align: top;\n",
       "    }\n",
       "\n",
       "    .dataframe thead th {\n",
       "        text-align: right;\n",
       "    }\n",
       "</style>\n",
       "<table border=\"1\" class=\"dataframe\">\n",
       "  <thead>\n",
       "    <tr style=\"text-align: right;\">\n",
       "      <th></th>\n",
       "      <th>gasoduto</th>\n",
       "      <th>counts</th>\n",
       "    </tr>\n",
       "  </thead>\n",
       "  <tbody>\n",
       "    <tr>\n",
       "      <th>0</th>\n",
       "      <td>menor 500M \\n n. 20087 reg</td>\n",
       "      <td>20087</td>\n",
       "    </tr>\n",
       "    <tr>\n",
       "      <th>1</th>\n",
       "      <td>Maior 500M \\n n. 609652 reg</td>\n",
       "      <td>609652</td>\n",
       "    </tr>\n",
       "  </tbody>\n",
       "</table>\n",
       "</div>"
      ],
      "text/plain": [
       "                      gasoduto  counts\n",
       "0   menor 500M \\n n. 20087 reg   20087\n",
       "1  Maior 500M \\n n. 609652 reg  609652"
      ]
     },
     "execution_count": 56,
     "metadata": {},
     "output_type": "execute_result"
    }
   ],
   "source": [
    "quantMaior500 = dfDadosDist.shape[0] - dadosDist05Km\n",
    "dictDist500M = {\n",
    "    'gasoduto': [\"menor 500M \\n n. \" + str(dadosDist05Km) + ' reg', \n",
    "                 \"Maior 500M \\n n. \" + str(quantMaior500) + ' reg'],\n",
    "    'counts': [dadosDist05Km, quantMaior500]\n",
    "}\n",
    "dfDist500m = pd.DataFrame.from_dict(dictDist500M)\n",
    "dfDist500m"
   ]
  },
  {
   "cell_type": "code",
   "execution_count": 57,
   "id": "37872365",
   "metadata": {},
   "outputs": [
    {
     "data": {
      "text/plain": [
       "([<matplotlib.patches.Wedge at 0x7f8e22f41900>,\n",
       "  <matplotlib.patches.Wedge at 0x7f8e22f417e0>],\n",
       " [Text(1.094481666842868, 0.11004490422031014, 'menor 500M \\n n. 20087 reg'),\n",
       "  Text(-1.1442308429425783, -0.11504685158193807, 'Maior 500M \\n n. 609652 reg')],\n",
       " [Text(0.5969900000961098, 0.06002449321107825, '3.2%'),\n",
       "  Text(-0.646739172097979, -0.06502648132892151, '96.8%')])"
      ]
     },
     "execution_count": 57,
     "metadata": {},
     "output_type": "execute_result"
    },
    {
     "data": {
      "image/png": "[encoded data removed]",
      "text/plain": [
       "<Figure size 640x480 with 1 Axes>"
      ]
     },
     "metadata": {},
     "output_type": "display_data"
    }
   ],
   "source": [
    "plt.pie(dfDist500m.counts, labels=dfDist500m.gasoduto ,  \n",
    "        autopct='%1.1f%%', explode=[0, 0.05])"
   ]
  },
  {
   "cell_type": "code",
   "execution_count": 61,
   "id": "cec0650d",
   "metadata": {},
   "outputs": [
    {
     "data": {
      "text/html": [
       "<div>\n",
       "<style scoped>\n",
       "    .dataframe tbody tr th:only-of-type {\n",
       "        vertical-align: middle;\n",
       "    }\n",
       "\n",
       "    .dataframe tbody tr th {\n",
       "        vertical-align: top;\n",
       "    }\n",
       "\n",
       "    .dataframe thead th {\n",
       "        text-align: right;\n",
       "    }\n",
       "</style>\n",
       "<table border=\"1\" class=\"dataframe\">\n",
       "  <thead>\n",
       "    <tr style=\"text-align: right;\">\n",
       "      <th></th>\n",
       "      <th>gasoduto</th>\n",
       "      <th>counts</th>\n",
       "    </tr>\n",
       "  </thead>\n",
       "  <tbody>\n",
       "    <tr>\n",
       "      <th>0</th>\n",
       "      <td>menor 500M</td>\n",
       "      <td>20087</td>\n",
       "    </tr>\n",
       "    <tr>\n",
       "      <th>1</th>\n",
       "      <td>Maior 500M</td>\n",
       "      <td>609652</td>\n",
       "    </tr>\n",
       "  </tbody>\n",
       "</table>\n",
       "</div>"
      ],
      "text/plain": [
       "      gasoduto  counts\n",
       "0  menor 500M    20087\n",
       "1  Maior 500M   609652"
      ]
     },
     "execution_count": 61,
     "metadata": {},
     "output_type": "execute_result"
    }
   ],
   "source": [
    "dictDist500M = {\n",
    "    'gasoduto': [\"menor 500M \" , \"Maior 500M \" ],\n",
    "    'counts': [dadosDist05Km, quantMaior500]\n",
    "}\n",
    "dfDist500m = pd.DataFrame.from_dict(dictDist500M)\n",
    "dfDist500m"
   ]
  },
  {
   "cell_type": "code",
   "execution_count": 64,
   "id": "83eb6b4e",
   "metadata": {},
   "outputs": [
    {
     "data": {
      "application/vnd.plotly.v1+json": {
       "config": {
        "plotlyServerURL": "https://plot.ly"
       },
       "data": [
        {
         "alignmentgroup": "True",
         "cliponaxis": false,
         "hovertemplate": "gasoduto=%{x}<br>counts=%{y}<extra></extra>",
         "legendgroup": "menor 500M ",
         "marker": {
          "color": "#636efa",
          "pattern": {
           "shape": ""
          }
         },
         "name": "menor 500M ",
         "offsetgroup": "menor 500M ",
         "orientation": "v",
         "showlegend": true,
         "textangle": 0,
         "textfont": {
          "size": 12
         },
         "textposition": "outside",
         "texttemplate": "%{y:gasoduto}",
         "type": "bar",
         "x": [
          "menor 500M "
         ],
         "xaxis": "x",
         "y": [
          20087
         ],
         "yaxis": "y"
        },
        {
         "alignmentgroup": "True",
         "cliponaxis": false,
         "hovertemplate": "gasoduto=%{x}<br>counts=%{y}<extra></extra>",
         "legendgroup": "Maior 500M ",
         "marker": {
          "color": "#EF553B",
          "pattern": {
           "shape": ""
          }
         },
         "name": "Maior 500M ",
         "offsetgroup": "Maior 500M ",
         "orientation": "v",
         "showlegend": true,
         "textangle": 0,
         "textfont": {
          "size": 12
         },
         "textposition": "outside",
         "texttemplate": "%{y:gasoduto}",
         "type": "bar",
         "x": [
          "Maior 500M "
         ],
         "xaxis": "x",
         "y": [
          609652
         ],
         "yaxis": "y"
        }
       ],
       "layout": {
        "barmode": "relative",
        "height": 400,
        "legend": {
         "title": {
          "text": "gasoduto"
         },
         "tracegroupgap": 0
        },
        "margin": {
         "t": 60
        },
        "template": {
         "data": {
          "bar": [
           {
            "error_x": {
             "color": "#2a3f5f"
            },
            "error_y": {
             "color": "#2a3f5f"
            },
            "marker": {
             "line": {
              "color": "#E5ECF6",
              "width": 0.5
             },
             "pattern": {
              "fillmode": "overlay",
              "size": 10,
              "solidity": 0.2
             }
            },
            "type": "bar"
           }
          ],
          "barpolar": [
           {
            "marker": {
             "line": {
              "color": "#E5ECF6",
              "width": 0.5
             },
             "pattern": {
              "fillmode": "overlay",
              "size": 10,
              "solidity": 0.2
             }
            },
            "type": "barpolar"
           }
          ],
          "carpet": [
           {
            "aaxis": {
             "endlinecolor": "#2a3f5f",
             "gridcolor": "white",
             "linecolor": "white",
             "minorgridcolor": "white",
             "startlinecolor": "#2a3f5f"
            },
            "baxis": {
             "endlinecolor": "#2a3f5f",
             "gridcolor": "white",
             "linecolor": "white",
             "minorgridcolor": "white",
             "startlinecolor": "#2a3f5f"
            },
            "type": "carpet"
           }
          ],
          "choropleth": [
           {
            "colorbar": {
             "outlinewidth": 0,
             "ticks": ""
            },
            "type": "choropleth"
           }
          ],
          "contour": [
           {
            "colorbar": {
             "outlinewidth": 0,
             "ticks": ""
            },
            "colorscale": [
             [
              0,
              "#0d0887"
             ],
             [
              0.1111111111111111,
              "#46039f"
             ],
             [
              0.2222222222222222,
              "#7201a8"
             ],
             [
              0.3333333333333333,
              "#9c179e"
             ],
             [
              0.4444444444444444,
              "#bd3786"
             ],
             [
              0.5555555555555556,
              "#d8576b"
             ],
             [
              0.6666666666666666,
              "#ed7953"
             ],
             [
              0.7777777777777778,
              "#fb9f3a"
             ],
             [
              0.8888888888888888,
              "#fdca26"
             ],
             [
              1,
              "#f0f921"
             ]
            ],
            "type": "contour"
           }
          ],
          "contourcarpet": [
           {
            "colorbar": {
             "outlinewidth": 0,
             "ticks": ""
            },
            "type": "contourcarpet"
           }
          ],
          "heatmap": [
           {
            "colorbar": {
             "outlinewidth": 0,
             "ticks": ""
            },
            "colorscale": [
             [
              0,
              "#0d0887"
             ],
             [
              0.1111111111111111,
              "#46039f"
             ],
             [
              0.2222222222222222,
              "#7201a8"
             ],
             [
              0.3333333333333333,
              "#9c179e"
             ],
             [
              0.4444444444444444,
              "#bd3786"
             ],
             [
              0.5555555555555556,
              "#d8576b"
             ],
             [
              0.6666666666666666,
              "#ed7953"
             ],
             [
              0.7777777777777778,
              "#fb9f3a"
             ],
             [
              0.8888888888888888,
              "#fdca26"
             ],
             [
              1,
              "#f0f921"
             ]
            ],
            "type": "heatmap"
           }
          ],
          "heatmapgl": [
           {
            "colorbar": {
             "outlinewidth": 0,
             "ticks": ""
            },
            "colorscale": [
             [
              0,
              "#0d0887"
             ],
             [
              0.1111111111111111,
              "#46039f"
             ],
             [
              0.2222222222222222,
              "#7201a8"
             ],
             [
              0.3333333333333333,
              "#9c179e"
             ],
             [
              0.4444444444444444,
              "#bd3786"
             ],
             [
              0.5555555555555556,
              "#d8576b"
             ],
             [
              0.6666666666666666,
              "#ed7953"
             ],
             [
              0.7777777777777778,
              "#fb9f3a"
             ],
             [
              0.8888888888888888,
              "#fdca26"
             ],
             [
              1,
              "#f0f921"
             ]
            ],
            "type": "heatmapgl"
           }
          ],
          "histogram": [
           {
            "marker": {
             "pattern": {
              "fillmode": "overlay",
              "size": 10,
              "solidity": 0.2
             }
            },
            "type": "histogram"
           }
          ],
          "histogram2d": [
           {
            "colorbar": {
             "outlinewidth": 0,
             "ticks": ""
            },
            "colorscale": [
             [
              0,
              "#0d0887"
             ],
             [
              0.1111111111111111,
              "#46039f"
             ],
             [
              0.2222222222222222,
              "#7201a8"
             ],
             [
              0.3333333333333333,
              "#9c179e"
             ],
             [
              0.4444444444444444,
              "#bd3786"
             ],
             [
              0.5555555555555556,
              "#d8576b"
             ],
             [
              0.6666666666666666,
              "#ed7953"
             ],
             [
              0.7777777777777778,
              "#fb9f3a"
             ],
             [
              0.8888888888888888,
              "#fdca26"
             ],
             [
              1,
              "#f0f921"
             ]
            ],
            "type": "histogram2d"
           }
          ],
          "histogram2dcontour": [
           {
            "colorbar": {
             "outlinewidth": 0,
             "ticks": ""
            },
            "colorscale": [
             [
              0,
              "#0d0887"
             ],
             [
              0.1111111111111111,
              "#46039f"
             ],
             [
              0.2222222222222222,
              "#7201a8"
             ],
             [
              0.3333333333333333,
              "#9c179e"
             ],
             [
              0.4444444444444444,
              "#bd3786"
             ],
             [
              0.5555555555555556,
              "#d8576b"
             ],
             [
              0.6666666666666666,
              "#ed7953"
             ],
             [
              0.7777777777777778,
              "#fb9f3a"
             ],
             [
              0.8888888888888888,
              "#fdca26"
             ],
             [
              1,
              "#f0f921"
             ]
            ],
            "type": "histogram2dcontour"
           }
          ],
          "mesh3d": [
           {
            "colorbar": {
             "outlinewidth": 0,
             "ticks": ""
            },
            "type": "mesh3d"
           }
          ],
          "parcoords": [
           {
            "line": {
             "colorbar": {
              "outlinewidth": 0,
              "ticks": ""
             }
            },
            "type": "parcoords"
           }
          ],
          "pie": [
           {
            "automargin": true,
            "type": "pie"
           }
          ],
          "scatter": [
           {
            "fillpattern": {
             "fillmode": "overlay",
             "size": 10,
             "solidity": 0.2
            },
            "type": "scatter"
           }
          ],
          "scatter3d": [
           {
            "line": {
             "colorbar": {
              "outlinewidth": 0,
              "ticks": ""
             }
            },
            "marker": {
             "colorbar": {
              "outlinewidth": 0,
              "ticks": ""
             }
            },
            "type": "scatter3d"
           }
          ],
          "scattercarpet": [
           {
            "marker": {
             "colorbar": {
              "outlinewidth": 0,
              "ticks": ""
             }
            },
            "type": "scattercarpet"
           }
          ],
          "scattergeo": [
           {
            "marker": {
             "colorbar": {
              "outlinewidth": 0,
              "ticks": ""
             }
            },
            "type": "scattergeo"
           }
          ],
          "scattergl": [
           {
            "marker": {
             "colorbar": {
              "outlinewidth": 0,
              "ticks": ""
             }
            },
            "type": "scattergl"
           }
          ],
          "scattermapbox": [
           {
            "marker": {
             "colorbar": {
              "outlinewidth": 0,
              "ticks": ""
             }
            },
            "type": "scattermapbox"
           }
          ],
          "scatterpolar": [
           {
            "marker": {
             "colorbar": {
              "outlinewidth": 0,
              "ticks": ""
             }
            },
            "type": "scatterpolar"
           }
          ],
          "scatterpolargl": [
           {
            "marker": {
             "colorbar": {
              "outlinewidth": 0,
              "ticks": ""
             }
            },
            "type": "scatterpolargl"
           }
          ],
          "scatterternary": [
           {
            "marker": {
             "colorbar": {
              "outlinewidth": 0,
              "ticks": ""
             }
            },
            "type": "scatterternary"
           }
          ],
          "surface": [
           {
            "colorbar": {
             "outlinewidth": 0,
             "ticks": ""
            },
            "colorscale": [
             [
              0,
              "#0d0887"
             ],
             [
              0.1111111111111111,
              "#46039f"
             ],
             [
              0.2222222222222222,
              "#7201a8"
             ],
             [
              0.3333333333333333,
              "#9c179e"
             ],
             [
              0.4444444444444444,
              "#bd3786"
             ],
             [
              0.5555555555555556,
              "#d8576b"
             ],
             [
              0.6666666666666666,
              "#ed7953"
             ],
             [
              0.7777777777777778,
              "#fb9f3a"
             ],
             [
              0.8888888888888888,
              "#fdca26"
             ],
             [
              1,
              "#f0f921"
             ]
            ],
            "type": "surface"
           }
          ],
          "table": [
           {
            "cells": {
             "fill": {
              "color": "#EBF0F8"
             },
             "line": {
              "color": "white"
             }
            },
            "header": {
             "fill": {
              "color": "#C8D4E3"
             },
             "line": {
              "color": "white"
             }
            },
            "type": "table"
           }
          ]
         },
         "layout": {
          "annotationdefaults": {
           "arrowcolor": "#2a3f5f",
           "arrowhead": 0,
           "arrowwidth": 1
          },
          "autotypenumbers": "strict",
          "coloraxis": {
           "colorbar": {
            "outlinewidth": 0,
            "ticks": ""
           }
          },
          "colorscale": {
           "diverging": [
            [
             0,
             "#8e0152"
            ],
            [
             0.1,
             "#c51b7d"
            ],
            [
             0.2,
             "#de77ae"
            ],
            [
             0.3,
             "#f1b6da"
            ],
            [
             0.4,
             "#fde0ef"
            ],
            [
             0.5,
             "#f7f7f7"
            ],
            [
             0.6,
             "#e6f5d0"
            ],
            [
             0.7,
             "#b8e186"
            ],
            [
             0.8,
             "#7fbc41"
            ],
            [
             0.9,
             "#4d9221"
            ],
            [
             1,
             "#276419"
            ]
           ],
           "sequential": [
            [
             0,
             "#0d0887"
            ],
            [
             0.1111111111111111,
             "#46039f"
            ],
            [
             0.2222222222222222,
             "#7201a8"
            ],
            [
             0.3333333333333333,
             "#9c179e"
            ],
            [
             0.4444444444444444,
             "#bd3786"
            ],
            [
             0.5555555555555556,
             "#d8576b"
            ],
            [
             0.6666666666666666,
             "#ed7953"
            ],
            [
             0.7777777777777778,
             "#fb9f3a"
            ],
            [
             0.8888888888888888,
             "#fdca26"
            ],
            [
             1,
             "#f0f921"
            ]
           ],
           "sequentialminus": [
            [
             0,
             "#0d0887"
            ],
            [
             0.1111111111111111,
             "#46039f"
            ],
            [
             0.2222222222222222,
             "#7201a8"
            ],
            [
             0.3333333333333333,
             "#9c179e"
            ],
            [
             0.4444444444444444,
             "#bd3786"
            ],
            [
             0.5555555555555556,
             "#d8576b"
            ],
            [
             0.6666666666666666,
             "#ed7953"
            ],
            [
             0.7777777777777778,
             "#fb9f3a"
            ],
            [
             0.8888888888888888,
             "#fdca26"
            ],
            [
             1,
             "#f0f921"
            ]
           ]
          },
          "colorway": [
           "#636efa",
           "#EF553B",
           "#00cc96",
           "#ab63fa",
           "#FFA15A",
           "#19d3f3",
           "#FF6692",
           "#B6E880",
           "#FF97FF",
           "#FECB52"
          ],
          "font": {
           "color": "#2a3f5f"
          },
          "geo": {
           "bgcolor": "white",
           "lakecolor": "white",
           "landcolor": "#E5ECF6",
           "showlakes": true,
           "showland": true,
           "subunitcolor": "white"
          },
          "hoverlabel": {
           "align": "left"
          },
          "hovermode": "closest",
          "mapbox": {
           "style": "light"
          },
          "paper_bgcolor": "white",
          "plot_bgcolor": "#E5ECF6",
          "polar": {
           "angularaxis": {
            "gridcolor": "white",
            "linecolor": "white",
            "ticks": ""
           },
           "bgcolor": "#E5ECF6",
           "radialaxis": {
            "gridcolor": "white",
            "linecolor": "white",
            "ticks": ""
           }
          },
          "scene": {
           "xaxis": {
            "backgroundcolor": "#E5ECF6",
            "gridcolor": "white",
            "gridwidth": 2,
            "linecolor": "white",
            "showbackground": true,
            "ticks": "",
            "zerolinecolor": "white"
           },
           "yaxis": {
            "backgroundcolor": "#E5ECF6",
            "gridcolor": "white",
            "gridwidth": 2,
            "linecolor": "white",
            "showbackground": true,
            "ticks": "",
            "zerolinecolor": "white"
           },
           "zaxis": {
            "backgroundcolor": "#E5ECF6",
            "gridcolor": "white",
            "gridwidth": 2,
            "linecolor": "white",
            "showbackground": true,
            "ticks": "",
            "zerolinecolor": "white"
           }
          },
          "shapedefaults": {
           "line": {
            "color": "#2a3f5f"
           }
          },
          "ternary": {
           "aaxis": {
            "gridcolor": "white",
            "linecolor": "white",
            "ticks": ""
           },
           "baxis": {
            "gridcolor": "white",
            "linecolor": "white",
            "ticks": ""
           },
           "bgcolor": "#E5ECF6",
           "caxis": {
            "gridcolor": "white",
            "linecolor": "white",
            "ticks": ""
           }
          },
          "title": {
           "x": 0.05
          },
          "xaxis": {
           "automargin": true,
           "gridcolor": "white",
           "linecolor": "white",
           "ticks": "",
           "title": {
            "standoff": 15
           },
           "zerolinecolor": "white",
           "zerolinewidth": 2
          },
          "yaxis": {
           "automargin": true,
           "gridcolor": "white",
           "linecolor": "white",
           "ticks": "",
           "title": {
            "standoff": 15
           },
           "zerolinecolor": "white",
           "zerolinewidth": 2
          }
         }
        },
        "width": 500,
        "xaxis": {
         "anchor": "y",
         "categoryarray": [
          "menor 500M ",
          "Maior 500M "
         ],
         "categoryorder": "array",
         "domain": [
          0,
          1
         ],
         "title": {
          "text": "gasoduto"
         }
        },
        "yaxis": {
         "anchor": "x",
         "domain": [
          0,
          1
         ],
         "title": {
          "text": "counts"
         }
        }
       }
      },
      "text/html": [
       "<div>                            <div id=\"cc5ad266-0514-4faa-8186-23d75ed84d1c\" class=\"plotly-graph-div\" style=\"height:400px; width:500px;\"></div>            <script type=\"text/javascript\">                require([\"plotly\"], function(Plotly) {                    window.PLOTLYENV=window.PLOTLYENV || {};                                    if (document.getElementById(\"cc5ad266-0514-4faa-8186-23d75ed84d1c\")) {                    Plotly.newPlot(                        \"cc5ad266-0514-4faa-8186-23d75ed84d1c\",                        [{\"alignmentgroup\":\"True\",\"hovertemplate\":\"gasoduto=%{x}<br>counts=%{y}<extra></extra>\",\"legendgroup\":\"menor 500M \",\"marker\":{\"color\":\"#636efa\",\"pattern\":{\"shape\":\"\"}},\"name\":\"menor 500M \",\"offsetgroup\":\"menor 500M \",\"orientation\":\"v\",\"showlegend\":true,\"textposition\":\"outside\",\"texttemplate\":\"%{y:gasoduto}\",\"x\":[\"menor 500M \"],\"xaxis\":\"x\",\"y\":[20087],\"yaxis\":\"y\",\"type\":\"bar\",\"textfont\":{\"size\":12},\"cliponaxis\":false,\"textangle\":0},{\"alignmentgroup\":\"True\",\"hovertemplate\":\"gasoduto=%{x}<br>counts=%{y}<extra></extra>\",\"legendgroup\":\"Maior 500M \",\"marker\":{\"color\":\"#EF553B\",\"pattern\":{\"shape\":\"\"}},\"name\":\"Maior 500M \",\"offsetgroup\":\"Maior 500M \",\"orientation\":\"v\",\"showlegend\":true,\"textposition\":\"outside\",\"texttemplate\":\"%{y:gasoduto}\",\"x\":[\"Maior 500M \"],\"xaxis\":\"x\",\"y\":[609652],\"yaxis\":\"y\",\"type\":\"bar\",\"textfont\":{\"size\":12},\"cliponaxis\":false,\"textangle\":0}],                        {\"template\":{\"data\":{\"histogram2dcontour\":[{\"type\":\"histogram2dcontour\",\"colorbar\":{\"outlinewidth\":0,\"ticks\":\"\"},\"colorscale\":[[0.0,\"#0d0887\"],[0.1111111111111111,\"#46039f\"],[0.2222222222222222,\"#7201a8\"],[0.3333333333333333,\"#9c179e\"],[0.4444444444444444,\"#bd3786\"],[0.5555555555555556,\"#d8576b\"],[0.6666666666666666,\"#ed7953\"],[0.7777777777777778,\"#fb9f3a\"],[0.8888888888888888,\"#fdca26\"],[1.0,\"#f0f921\"]]}],\"choropleth\":[{\"type\":\"choropleth\",\"colorbar\":{\"outlinewidth\":0,\"ticks\":\"\"}}],\"histogram2d\":[{\"type\":\"histogram2d\",\"colorbar\":{\"outlinewidth\":0,\"ticks\":\"\"},\"colorscale\":[[0.0,\"#0d0887\"],[0.1111111111111111,\"#46039f\"],[0.2222222222222222,\"#7201a8\"],[0.3333333333333333,\"#9c179e\"],[0.4444444444444444,\"#bd3786\"],[0.5555555555555556,\"#d8576b\"],[0.6666666666666666,\"#ed7953\"],[0.7777777777777778,\"#fb9f3a\"],[0.8888888888888888,\"#fdca26\"],[1.0,\"#f0f921\"]]}],\"heatmap\":[{\"type\":\"heatmap\",\"colorbar\":{\"outlinewidth\":0,\"ticks\":\"\"},\"colorscale\":[[0.0,\"#0d0887\"],[0.1111111111111111,\"#46039f\"],[0.2222222222222222,\"#7201a8\"],[0.3333333333333333,\"#9c179e\"],[0.4444444444444444,\"#bd3786\"],[0.5555555555555556,\"#d8576b\"],[0.6666666666666666,\"#ed7953\"],[0.7777777777777778,\"#fb9f3a\"],[0.8888888888888888,\"#fdca26\"],[1.0,\"#f0f921\"]]}],\"heatmapgl\":[{\"type\":\"heatmapgl\",\"colorbar\":{\"outlinewidth\":0,\"ticks\":\"\"},\"colorscale\":[[0.0,\"#0d0887\"],[0.1111111111111111,\"#46039f\"],[0.2222222222222222,\"#7201a8\"],[0.3333333333333333,\"#9c179e\"],[0.4444444444444444,\"#bd3786\"],[0.5555555555555556,\"#d8576b\"],[0.6666666666666666,\"#ed7953\"],[0.7777777777777778,\"#fb9f3a\"],[0.8888888888888888,\"#fdca26\"],[1.0,\"#f0f921\"]]}],\"contourcarpet\":[{\"type\":\"contourcarpet\",\"colorbar\":{\"outlinewidth\":0,\"ticks\":\"\"}}],\"contour\":[{\"type\":\"contour\",\"colorbar\":{\"outlinewidth\":0,\"ticks\":\"\"},\"colorscale\":[[0.0,\"#0d0887\"],[0.1111111111111111,\"#46039f\"],[0.2222222222222222,\"#7201a8\"],[0.3333333333333333,\"#9c179e\"],[0.4444444444444444,\"#bd3786\"],[0.5555555555555556,\"#d8576b\"],[0.6666666666666666,\"#ed7953\"],[0.7777777777777778,\"#fb9f3a\"],[0.8888888888888888,\"#fdca26\"],[1.0,\"#f0f921\"]]}],\"surface\":[{\"type\":\"surface\",\"colorbar\":{\"outlinewidth\":0,\"ticks\":\"\"},\"colorscale\":[[0.0,\"#0d0887\"],[0.1111111111111111,\"#46039f\"],[0.2222222222222222,\"#7201a8\"],[0.3333333333333333,\"#9c179e\"],[0.4444444444444444,\"#bd3786\"],[0.5555555555555556,\"#d8576b\"],[0.6666666666666666,\"#ed7953\"],[0.7777777777777778,\"#fb9f3a\"],[0.8888888888888888,\"#fdca26\"],[1.0,\"#f0f921\"]]}],\"mesh3d\":[{\"type\":\"mesh3d\",\"colorbar\":{\"outlinewidth\":0,\"ticks\":\"\"}}],\"scatter\":[{\"fillpattern\":{\"fillmode\":\"overlay\",\"size\":10,\"solidity\":0.2},\"type\":\"scatter\"}],\"parcoords\":[{\"type\":\"parcoords\",\"line\":{\"colorbar\":{\"outlinewidth\":0,\"ticks\":\"\"}}}],\"scatterpolargl\":[{\"type\":\"scatterpolargl\",\"marker\":{\"colorbar\":{\"outlinewidth\":0,\"ticks\":\"\"}}}],\"bar\":[{\"error_x\":{\"color\":\"#2a3f5f\"},\"error_y\":{\"color\":\"#2a3f5f\"},\"marker\":{\"line\":{\"color\":\"#E5ECF6\",\"width\":0.5},\"pattern\":{\"fillmode\":\"overlay\",\"size\":10,\"solidity\":0.2}},\"type\":\"bar\"}],\"scattergeo\":[{\"type\":\"scattergeo\",\"marker\":{\"colorbar\":{\"outlinewidth\":0,\"ticks\":\"\"}}}],\"scatterpolar\":[{\"type\":\"scatterpolar\",\"marker\":{\"colorbar\":{\"outlinewidth\":0,\"ticks\":\"\"}}}],\"histogram\":[{\"marker\":{\"pattern\":{\"fillmode\":\"overlay\",\"size\":10,\"solidity\":0.2}},\"type\":\"histogram\"}],\"scattergl\":[{\"type\":\"scattergl\",\"marker\":{\"colorbar\":{\"outlinewidth\":0,\"ticks\":\"\"}}}],\"scatter3d\":[{\"type\":\"scatter3d\",\"line\":{\"colorbar\":{\"outlinewidth\":0,\"ticks\":\"\"}},\"marker\":{\"colorbar\":{\"outlinewidth\":0,\"ticks\":\"\"}}}],\"scattermapbox\":[{\"type\":\"scattermapbox\",\"marker\":{\"colorbar\":{\"outlinewidth\":0,\"ticks\":\"\"}}}],\"scatterternary\":[{\"type\":\"scatterternary\",\"marker\":{\"colorbar\":{\"outlinewidth\":0,\"ticks\":\"\"}}}],\"scattercarpet\":[{\"type\":\"scattercarpet\",\"marker\":{\"colorbar\":{\"outlinewidth\":0,\"ticks\":\"\"}}}],\"carpet\":[{\"aaxis\":{\"endlinecolor\":\"#2a3f5f\",\"gridcolor\":\"white\",\"linecolor\":\"white\",\"minorgridcolor\":\"white\",\"startlinecolor\":\"#2a3f5f\"},\"baxis\":{\"endlinecolor\":\"#2a3f5f\",\"gridcolor\":\"white\",\"linecolor\":\"white\",\"minorgridcolor\":\"white\",\"startlinecolor\":\"#2a3f5f\"},\"type\":\"carpet\"}],\"table\":[{\"cells\":{\"fill\":{\"color\":\"#EBF0F8\"},\"line\":{\"color\":\"white\"}},\"header\":{\"fill\":{\"color\":\"#C8D4E3\"},\"line\":{\"color\":\"white\"}},\"type\":\"table\"}],\"barpolar\":[{\"marker\":{\"line\":{\"color\":\"#E5ECF6\",\"width\":0.5},\"pattern\":{\"fillmode\":\"overlay\",\"size\":10,\"solidity\":0.2}},\"type\":\"barpolar\"}],\"pie\":[{\"automargin\":true,\"type\":\"pie\"}]},\"layout\":{\"autotypenumbers\":\"strict\",\"colorway\":[\"#636efa\",\"#EF553B\",\"#00cc96\",\"#ab63fa\",\"#FFA15A\",\"#19d3f3\",\"#FF6692\",\"#B6E880\",\"#FF97FF\",\"#FECB52\"],\"font\":{\"color\":\"#2a3f5f\"},\"hovermode\":\"closest\",\"hoverlabel\":{\"align\":\"left\"},\"paper_bgcolor\":\"white\",\"plot_bgcolor\":\"#E5ECF6\",\"polar\":{\"bgcolor\":\"#E5ECF6\",\"angularaxis\":{\"gridcolor\":\"white\",\"linecolor\":\"white\",\"ticks\":\"\"},\"radialaxis\":{\"gridcolor\":\"white\",\"linecolor\":\"white\",\"ticks\":\"\"}},\"ternary\":{\"bgcolor\":\"#E5ECF6\",\"aaxis\":{\"gridcolor\":\"white\",\"linecolor\":\"white\",\"ticks\":\"\"},\"baxis\":{\"gridcolor\":\"white\",\"linecolor\":\"white\",\"ticks\":\"\"},\"caxis\":{\"gridcolor\":\"white\",\"linecolor\":\"white\",\"ticks\":\"\"}},\"coloraxis\":{\"colorbar\":{\"outlinewidth\":0,\"ticks\":\"\"}},\"colorscale\":{\"sequential\":[[0.0,\"#0d0887\"],[0.1111111111111111,\"#46039f\"],[0.2222222222222222,\"#7201a8\"],[0.3333333333333333,\"#9c179e\"],[0.4444444444444444,\"#bd3786\"],[0.5555555555555556,\"#d8576b\"],[0.6666666666666666,\"#ed7953\"],[0.7777777777777778,\"#fb9f3a\"],[0.8888888888888888,\"#fdca26\"],[1.0,\"#f0f921\"]],\"sequentialminus\":[[0.0,\"#0d0887\"],[0.1111111111111111,\"#46039f\"],[0.2222222222222222,\"#7201a8\"],[0.3333333333333333,\"#9c179e\"],[0.4444444444444444,\"#bd3786\"],[0.5555555555555556,\"#d8576b\"],[0.6666666666666666,\"#ed7953\"],[0.7777777777777778,\"#fb9f3a\"],[0.8888888888888888,\"#fdca26\"],[1.0,\"#f0f921\"]],\"diverging\":[[0,\"#8e0152\"],[0.1,\"#c51b7d\"],[0.2,\"#de77ae\"],[0.3,\"#f1b6da\"],[0.4,\"#fde0ef\"],[0.5,\"#f7f7f7\"],[0.6,\"#e6f5d0\"],[0.7,\"#b8e186\"],[0.8,\"#7fbc41\"],[0.9,\"#4d9221\"],[1,\"#276419\"]]},\"xaxis\":{\"gridcolor\":\"white\",\"linecolor\":\"white\",\"ticks\":\"\",\"title\":{\"standoff\":15},\"zerolinecolor\":\"white\",\"automargin\":true,\"zerolinewidth\":2},\"yaxis\":{\"gridcolor\":\"white\",\"linecolor\":\"white\",\"ticks\":\"\",\"title\":{\"standoff\":15},\"zerolinecolor\":\"white\",\"automargin\":true,\"zerolinewidth\":2},\"scene\":{\"xaxis\":{\"backgroundcolor\":\"#E5ECF6\",\"gridcolor\":\"white\",\"linecolor\":\"white\",\"showbackground\":true,\"ticks\":\"\",\"zerolinecolor\":\"white\",\"gridwidth\":2},\"yaxis\":{\"backgroundcolor\":\"#E5ECF6\",\"gridcolor\":\"white\",\"linecolor\":\"white\",\"showbackground\":true,\"ticks\":\"\",\"zerolinecolor\":\"white\",\"gridwidth\":2},\"zaxis\":{\"backgroundcolor\":\"#E5ECF6\",\"gridcolor\":\"white\",\"linecolor\":\"white\",\"showbackground\":true,\"ticks\":\"\",\"zerolinecolor\":\"white\",\"gridwidth\":2}},\"shapedefaults\":{\"line\":{\"color\":\"#2a3f5f\"}},\"annotationdefaults\":{\"arrowcolor\":\"#2a3f5f\",\"arrowhead\":0,\"arrowwidth\":1},\"geo\":{\"bgcolor\":\"white\",\"landcolor\":\"#E5ECF6\",\"subunitcolor\":\"white\",\"showland\":true,\"showlakes\":true,\"lakecolor\":\"white\"},\"title\":{\"x\":0.05},\"mapbox\":{\"style\":\"light\"}}},\"xaxis\":{\"anchor\":\"y\",\"domain\":[0.0,1.0],\"title\":{\"text\":\"gasoduto\"},\"categoryorder\":\"array\",\"categoryarray\":[\"menor 500M \",\"Maior 500M \"]},\"yaxis\":{\"anchor\":\"x\",\"domain\":[0.0,1.0],\"title\":{\"text\":\"counts\"}},\"legend\":{\"title\":{\"text\":\"gasoduto\"},\"tracegroupgap\":0},\"margin\":{\"t\":60},\"barmode\":\"relative\",\"height\":400,\"width\":500},                        {\"responsive\": true}                    ).then(function(){\n",
       "                            \n",
       "var gd = document.getElementById('cc5ad266-0514-4faa-8186-23d75ed84d1c');\n",
       "var x = new MutationObserver(function (mutations, observer) {{\n",
       "        var display = window.getComputedStyle(gd).display;\n",
       "        if (!display || display === 'none') {{\n",
       "            console.log([gd, 'removed!']);\n",
       "            Plotly.purge(gd);\n",
       "            observer.disconnect();\n",
       "        }}\n",
       "}});\n",
       "\n",
       "// Listen for the removal of the full notebook cells\n",
       "var notebookContainer = gd.closest('#notebook-container');\n",
       "if (notebookContainer) {{\n",
       "    x.observe(notebookContainer, {childList: true});\n",
       "}}\n",
       "\n",
       "// Listen for the clearing of the current output cell\n",
       "var outputEl = gd.closest('.output');\n",
       "if (outputEl) {{\n",
       "    x.observe(outputEl, {childList: true});\n",
       "}}\n",
       "\n",
       "                        })                };                });            </script>        </div>"
      ]
     },
     "metadata": {},
     "output_type": "display_data"
    }
   ],
   "source": [
    "fig2 = px.bar(dfDist500m, \n",
    "             x='gasoduto', \n",
    "             y='counts',\n",
    "             color='gasoduto',\n",
    "             text_auto='gasoduto',\n",
    "             height=400,\n",
    "            width= 500)\n",
    "fig2.update_traces(textfont_size=12, \n",
    "                  textangle=0, \n",
    "                  textposition=\"outside\", \n",
    "                  cliponaxis=False)\n",
    "fig2.show()\n",
    "plt.show()"
   ]
  },
  {
   "cell_type": "code",
   "execution_count": 65,
   "id": "6d6c78b0",
   "metadata": {},
   "outputs": [
    {
     "data": {
      "text/plain": [
       "array(['ABALO', 'MARISCAGEM', 'GAIOLA', 'LINHA DE MÃO', 'CERCO',\n",
       "       'GROSEIRA', 'MERGULHO', 'ESPINHEL', 'TARRAFA', 'REDINHA',\n",
       "       'SUPERFÍCIE BOIADA', 'FUNDO PEIXE', 'REÇA', 'PESQUEIRO', 'EMALHE',\n",
       "       'ARRAEIRA', 'CALÃO', 'MANZUÁ', 'TAINHEIRA', 'JERERÉ',\n",
       "       'FUNDO CAMARÃO', 'ARRASTO DE FUNDO OU BALOEIRO'], dtype=object)"
      ]
     },
     "execution_count": 65,
     "metadata": {},
     "output_type": "execute_result"
    }
   ],
   "source": [
    "dfDadosDist[dfDadosDist['menor500M'] == True]['SubArte'].unique()"
   ]
  },
  {
   "cell_type": "code",
   "execution_count": 66,
   "id": "2e69b787",
   "metadata": {},
   "outputs": [
    {
     "data": {
      "text/plain": [
       "20087"
      ]
     },
     "execution_count": 66,
     "metadata": {},
     "output_type": "execute_result"
    }
   ],
   "source": [
    "numdistate500Mt = dfDadosDist[dfDadosDist['menor500M'] == True].shape[0]\n",
    "numdistate500Mt"
   ]
  },
  {
   "cell_type": "markdown",
   "id": "8efc0ba0",
   "metadata": {},
   "source": [
    "## analises distancias entre 0 metros e 5 km"
   ]
  },
  {
   "cell_type": "code",
   "execution_count": 67,
   "id": "e5c2b6b7",
   "metadata": {},
   "outputs": [],
   "source": [
    "def distancia_plataforma_menor_5KM(dist):\n",
    "    try:\n",
    "        if float(dist) <= 5000.0:\n",
    "            return True\n",
    "        else:\n",
    "            return False\n",
    "    except:\n",
    "        return np.nan\n",
    "    \n",
    "dfDadosDist['entre_0_5KM'] = dfDadosDist['dist_gas'].apply(lambda x: distancia_plataforma_menor_5KM(x))"
   ]
  },
  {
   "cell_type": "code",
   "execution_count": 68,
   "id": "bdd9fa27",
   "metadata": {},
   "outputs": [
    {
     "data": {
      "text/plain": [
       "(629739, 49)"
      ]
     },
     "execution_count": 68,
     "metadata": {},
     "output_type": "execute_result"
    }
   ],
   "source": [
    "dfDadosDist.shape"
   ]
  },
  {
   "cell_type": "markdown",
   "id": "ee4be7c9",
   "metadata": {},
   "source": [
    "## comprovando os resultados "
   ]
  },
  {
   "cell_type": "code",
   "execution_count": 77,
   "id": "cb1043c6",
   "metadata": {},
   "outputs": [
    {
     "name": "stdout",
     "output_type": "stream",
     "text": [
      "entre_0_5KM =  319817\n",
      "menor500M =  20087\n",
      "total =  339904\n"
     ]
    }
   ],
   "source": [
    "print(\"entre_0_5KM = \",dfDadosDist[dfDadosDist['entre_0_5KM'] == True].shape[0])\n",
    "print(\"menor500M = \", dfDadosDist[dfDadosDist['menor500M'] == True].shape[0])\n",
    "print(\"total = \", dfDadosDist[dfDadosDist['menor500M'] == True].shape[0] +\n",
    "      dfDadosDist[dfDadosDist['entre_0_5KM'] == True].shape[0])"
   ]
  },
  {
   "cell_type": "code",
   "execution_count": 70,
   "id": "56b990db",
   "metadata": {},
   "outputs": [
    {
     "data": {
      "application/vnd.jupyter.widget-view+json": {
       "model_id": "b5c5cab18356458080f76c0a5895bccb",
       "version_major": 2,
       "version_minor": 0
      },
      "text/plain": [
       "  0%|          | 0/629739 [00:00<?, ?it/s]"
      ]
     },
     "metadata": {},
     "output_type": "display_data"
    }
   ],
   "source": [
    "def distancia_plataforma_5KM(dist):\n",
    "    try:\n",
    "        if dist <= 5000 and dist >= 500:\n",
    "            return True\n",
    "        else:\n",
    "            return False\n",
    "    except:\n",
    "        return np.nan\n",
    "    \n",
    "dfDadosDist['entre_05_5KM'] = dfDadosDist['dist_gas'].progress_apply(distancia_plataforma_5KM)"
   ]
  },
  {
   "cell_type": "markdown",
   "id": "c1a298bf",
   "metadata": {},
   "source": [
    "## Comprovando o filtro de distancia entre 500 e 5000 metros "
   ]
  },
  {
   "cell_type": "code",
   "execution_count": 71,
   "id": "dba1c434",
   "metadata": {},
   "outputs": [
    {
     "data": {
      "text/html": [
       "<div>\n",
       "<style scoped>\n",
       "    .dataframe tbody tr th:only-of-type {\n",
       "        vertical-align: middle;\n",
       "    }\n",
       "\n",
       "    .dataframe tbody tr th {\n",
       "        vertical-align: top;\n",
       "    }\n",
       "\n",
       "    .dataframe thead th {\n",
       "        text-align: right;\n",
       "    }\n",
       "</style>\n",
       "<table border=\"1\" class=\"dataframe\">\n",
       "  <thead>\n",
       "    <tr style=\"text-align: right;\">\n",
       "      <th></th>\n",
       "      <th>entre_05_5KM</th>\n",
       "      <th>dist_gas</th>\n",
       "    </tr>\n",
       "  </thead>\n",
       "  <tbody>\n",
       "    <tr>\n",
       "      <th>155056</th>\n",
       "      <td>False</td>\n",
       "      <td>31.405725</td>\n",
       "    </tr>\n",
       "    <tr>\n",
       "      <th>310016</th>\n",
       "      <td>False</td>\n",
       "      <td>31.405725</td>\n",
       "    </tr>\n",
       "    <tr>\n",
       "      <th>310019</th>\n",
       "      <td>False</td>\n",
       "      <td>31.405725</td>\n",
       "    </tr>\n",
       "    <tr>\n",
       "      <th>17251</th>\n",
       "      <td>False</td>\n",
       "      <td>31.405725</td>\n",
       "    </tr>\n",
       "    <tr>\n",
       "      <th>17254</th>\n",
       "      <td>False</td>\n",
       "      <td>31.405725</td>\n",
       "    </tr>\n",
       "    <tr>\n",
       "      <th>155003</th>\n",
       "      <td>False</td>\n",
       "      <td>31.405725</td>\n",
       "    </tr>\n",
       "    <tr>\n",
       "      <th>282017</th>\n",
       "      <td>False</td>\n",
       "      <td>31.405725</td>\n",
       "    </tr>\n",
       "    <tr>\n",
       "      <th>155028</th>\n",
       "      <td>False</td>\n",
       "      <td>31.405725</td>\n",
       "    </tr>\n",
       "    <tr>\n",
       "      <th>161186</th>\n",
       "      <td>False</td>\n",
       "      <td>31.405725</td>\n",
       "    </tr>\n",
       "    <tr>\n",
       "      <th>145914</th>\n",
       "      <td>False</td>\n",
       "      <td>31.405725</td>\n",
       "    </tr>\n",
       "  </tbody>\n",
       "</table>\n",
       "</div>"
      ],
      "text/plain": [
       "        entre_05_5KM   dist_gas\n",
       "155056         False  31.405725\n",
       "310016         False  31.405725\n",
       "310019         False  31.405725\n",
       "17251          False  31.405725\n",
       "17254          False  31.405725\n",
       "155003         False  31.405725\n",
       "282017         False  31.405725\n",
       "155028         False  31.405725\n",
       "161186         False  31.405725\n",
       "145914         False  31.405725"
      ]
     },
     "execution_count": 71,
     "metadata": {},
     "output_type": "execute_result"
    }
   ],
   "source": [
    "dfDadosDist[['entre_05_5KM', 'dist_gas']].head(10)"
   ]
  },
  {
   "cell_type": "code",
   "execution_count": 73,
   "id": "7b514782",
   "metadata": {},
   "outputs": [
    {
     "data": {
      "text/html": [
       "<div>\n",
       "<style scoped>\n",
       "    .dataframe tbody tr th:only-of-type {\n",
       "        vertical-align: middle;\n",
       "    }\n",
       "\n",
       "    .dataframe tbody tr th {\n",
       "        vertical-align: top;\n",
       "    }\n",
       "\n",
       "    .dataframe thead th {\n",
       "        text-align: right;\n",
       "    }\n",
       "</style>\n",
       "<table border=\"1\" class=\"dataframe\">\n",
       "  <thead>\n",
       "    <tr style=\"text-align: right;\">\n",
       "      <th></th>\n",
       "      <th>dist_gas</th>\n",
       "      <th>entre_05_5KM</th>\n",
       "    </tr>\n",
       "  </thead>\n",
       "  <tbody>\n",
       "    <tr>\n",
       "      <th>181040</th>\n",
       "      <td>524.509945</td>\n",
       "      <td>True</td>\n",
       "    </tr>\n",
       "    <tr>\n",
       "      <th>258353</th>\n",
       "      <td>524.509945</td>\n",
       "      <td>True</td>\n",
       "    </tr>\n",
       "    <tr>\n",
       "      <th>804652</th>\n",
       "      <td>524.509945</td>\n",
       "      <td>True</td>\n",
       "    </tr>\n",
       "    <tr>\n",
       "      <th>176093</th>\n",
       "      <td>524.509945</td>\n",
       "      <td>True</td>\n",
       "    </tr>\n",
       "    <tr>\n",
       "      <th>260557</th>\n",
       "      <td>524.509945</td>\n",
       "      <td>True</td>\n",
       "    </tr>\n",
       "  </tbody>\n",
       "</table>\n",
       "</div>"
      ],
      "text/plain": [
       "          dist_gas  entre_05_5KM\n",
       "181040  524.509945          True\n",
       "258353  524.509945          True\n",
       "804652  524.509945          True\n",
       "176093  524.509945          True\n",
       "260557  524.509945          True"
      ]
     },
     "execution_count": 73,
     "metadata": {},
     "output_type": "execute_result"
    }
   ],
   "source": [
    "dfDadosDist[dfDadosDist['entre_05_5KM'] == True][['dist_gas','entre_05_5KM']].head()"
   ]
  },
  {
   "cell_type": "code",
   "execution_count": 74,
   "id": "f99fb052",
   "metadata": {},
   "outputs": [
    {
     "data": {
      "text/html": [
       "<div>\n",
       "<style scoped>\n",
       "    .dataframe tbody tr th:only-of-type {\n",
       "        vertical-align: middle;\n",
       "    }\n",
       "\n",
       "    .dataframe tbody tr th {\n",
       "        vertical-align: top;\n",
       "    }\n",
       "\n",
       "    .dataframe thead th {\n",
       "        text-align: right;\n",
       "    }\n",
       "</style>\n",
       "<table border=\"1\" class=\"dataframe\">\n",
       "  <thead>\n",
       "    <tr style=\"text-align: right;\">\n",
       "      <th></th>\n",
       "      <th>dist_gas</th>\n",
       "      <th>entre_05_5KM</th>\n",
       "    </tr>\n",
       "  </thead>\n",
       "  <tbody>\n",
       "    <tr>\n",
       "      <th>331293</th>\n",
       "      <td>4997.277982</td>\n",
       "      <td>True</td>\n",
       "    </tr>\n",
       "    <tr>\n",
       "      <th>331292</th>\n",
       "      <td>4997.277982</td>\n",
       "      <td>True</td>\n",
       "    </tr>\n",
       "    <tr>\n",
       "      <th>331291</th>\n",
       "      <td>4997.277982</td>\n",
       "      <td>True</td>\n",
       "    </tr>\n",
       "    <tr>\n",
       "      <th>331296</th>\n",
       "      <td>4997.277982</td>\n",
       "      <td>True</td>\n",
       "    </tr>\n",
       "    <tr>\n",
       "      <th>502477</th>\n",
       "      <td>4997.277982</td>\n",
       "      <td>True</td>\n",
       "    </tr>\n",
       "  </tbody>\n",
       "</table>\n",
       "</div>"
      ],
      "text/plain": [
       "           dist_gas  entre_05_5KM\n",
       "331293  4997.277982          True\n",
       "331292  4997.277982          True\n",
       "331291  4997.277982          True\n",
       "331296  4997.277982          True\n",
       "502477  4997.277982          True"
      ]
     },
     "execution_count": 74,
     "metadata": {},
     "output_type": "execute_result"
    }
   ],
   "source": [
    "dfDadosDist[dfDadosDist['entre_05_5KM'] == True][['dist_gas','entre_05_5KM']].tail()"
   ]
  },
  {
   "cell_type": "markdown",
   "id": "a9508e44",
   "metadata": {},
   "source": [
    "### Comprovando o resultado "
   ]
  },
  {
   "cell_type": "code",
   "execution_count": 78,
   "id": "0d831313",
   "metadata": {},
   "outputs": [
    {
     "data": {
      "text/html": [
       "<div>\n",
       "<style scoped>\n",
       "    .dataframe tbody tr th:only-of-type {\n",
       "        vertical-align: middle;\n",
       "    }\n",
       "\n",
       "    .dataframe tbody tr th {\n",
       "        vertical-align: top;\n",
       "    }\n",
       "\n",
       "    .dataframe thead th {\n",
       "        text-align: right;\n",
       "    }\n",
       "</style>\n",
       "<table border=\"1\" class=\"dataframe\">\n",
       "  <thead>\n",
       "    <tr style=\"text-align: right;\">\n",
       "      <th></th>\n",
       "      <th>dist_gas</th>\n",
       "      <th>entre_05_5KM</th>\n",
       "    </tr>\n",
       "  </thead>\n",
       "  <tbody>\n",
       "    <tr>\n",
       "      <th>799544</th>\n",
       "      <td>5113.420239</td>\n",
       "      <td>False</td>\n",
       "    </tr>\n",
       "    <tr>\n",
       "      <th>799553</th>\n",
       "      <td>5113.420239</td>\n",
       "      <td>False</td>\n",
       "    </tr>\n",
       "    <tr>\n",
       "      <th>757312</th>\n",
       "      <td>5113.420239</td>\n",
       "      <td>False</td>\n",
       "    </tr>\n",
       "    <tr>\n",
       "      <th>757304</th>\n",
       "      <td>5113.420239</td>\n",
       "      <td>False</td>\n",
       "    </tr>\n",
       "    <tr>\n",
       "      <th>757293</th>\n",
       "      <td>5113.420239</td>\n",
       "      <td>False</td>\n",
       "    </tr>\n",
       "  </tbody>\n",
       "</table>\n",
       "</div>"
      ],
      "text/plain": [
       "           dist_gas  entre_05_5KM\n",
       "799544  5113.420239         False\n",
       "799553  5113.420239         False\n",
       "757312  5113.420239         False\n",
       "757304  5113.420239         False\n",
       "757293  5113.420239         False"
      ]
     },
     "execution_count": 78,
     "metadata": {},
     "output_type": "execute_result"
    }
   ],
   "source": [
    "dfDadosDist[dfDadosDist['dist_gas'] > 5000][['dist_gas','entre_05_5KM']].head()"
   ]
  },
  {
   "cell_type": "code",
   "execution_count": 79,
   "id": "30e1e41d",
   "metadata": {},
   "outputs": [
    {
     "data": {
      "text/html": [
       "<div>\n",
       "<style scoped>\n",
       "    .dataframe tbody tr th:only-of-type {\n",
       "        vertical-align: middle;\n",
       "    }\n",
       "\n",
       "    .dataframe tbody tr th {\n",
       "        vertical-align: top;\n",
       "    }\n",
       "\n",
       "    .dataframe thead th {\n",
       "        text-align: right;\n",
       "    }\n",
       "</style>\n",
       "<table border=\"1\" class=\"dataframe\">\n",
       "  <thead>\n",
       "    <tr style=\"text-align: right;\">\n",
       "      <th></th>\n",
       "      <th>dist_gas</th>\n",
       "      <th>entre_05_5KM</th>\n",
       "    </tr>\n",
       "  </thead>\n",
       "  <tbody>\n",
       "    <tr>\n",
       "      <th>143843</th>\n",
       "      <td>9.153995e+06</td>\n",
       "      <td>False</td>\n",
       "    </tr>\n",
       "    <tr>\n",
       "      <th>631757</th>\n",
       "      <td>9.153995e+06</td>\n",
       "      <td>False</td>\n",
       "    </tr>\n",
       "    <tr>\n",
       "      <th>311065</th>\n",
       "      <td>9.153995e+06</td>\n",
       "      <td>False</td>\n",
       "    </tr>\n",
       "    <tr>\n",
       "      <th>310825</th>\n",
       "      <td>9.153995e+06</td>\n",
       "      <td>False</td>\n",
       "    </tr>\n",
       "    <tr>\n",
       "      <th>347224</th>\n",
       "      <td>9.153995e+06</td>\n",
       "      <td>False</td>\n",
       "    </tr>\n",
       "  </tbody>\n",
       "</table>\n",
       "</div>"
      ],
      "text/plain": [
       "            dist_gas  entre_05_5KM\n",
       "143843  9.153995e+06         False\n",
       "631757  9.153995e+06         False\n",
       "311065  9.153995e+06         False\n",
       "310825  9.153995e+06         False\n",
       "347224  9.153995e+06         False"
      ]
     },
     "execution_count": 79,
     "metadata": {},
     "output_type": "execute_result"
    }
   ],
   "source": [
    "dfDadosDist[dfDadosDist['dist_gas'] > 5000][['dist_gas','entre_05_5KM']].tail()"
   ]
  },
  {
   "cell_type": "code",
   "execution_count": 80,
   "id": "5f1747f3",
   "metadata": {},
   "outputs": [
    {
     "data": {
      "text/plain": [
       "319817"
      ]
     },
     "execution_count": 80,
     "metadata": {},
     "output_type": "execute_result"
    }
   ],
   "source": [
    "noDist0and5KM = dfDadosDist[dfDadosDist['entre_0_5KM'] == True].shape[0]\n",
    "noDist0and5KM"
   ]
  },
  {
   "cell_type": "code",
   "execution_count": 81,
   "id": "25df6dc5",
   "metadata": {},
   "outputs": [
    {
     "data": {
      "text/plain": [
       "(309922, 49)"
      ]
     },
     "execution_count": 81,
     "metadata": {},
     "output_type": "execute_result"
    }
   ],
   "source": [
    "dfDadosDist[dfDadosDist['dist_gas'] > 5000].shape"
   ]
  },
  {
   "cell_type": "code",
   "execution_count": 82,
   "id": "94bf68b0",
   "metadata": {},
   "outputs": [
    {
     "data": {
      "text/html": [
       "<div>\n",
       "<style scoped>\n",
       "    .dataframe tbody tr th:only-of-type {\n",
       "        vertical-align: middle;\n",
       "    }\n",
       "\n",
       "    .dataframe tbody tr th {\n",
       "        vertical-align: top;\n",
       "    }\n",
       "\n",
       "    .dataframe thead th {\n",
       "        text-align: right;\n",
       "    }\n",
       "</style>\n",
       "<table border=\"1\" class=\"dataframe\">\n",
       "  <thead>\n",
       "    <tr style=\"text-align: right;\">\n",
       "      <th></th>\n",
       "      <th>gasoduto</th>\n",
       "      <th>counts</th>\n",
       "    </tr>\n",
       "  </thead>\n",
       "  <tbody>\n",
       "    <tr>\n",
       "      <th>0</th>\n",
       "      <td>0-5KM</td>\n",
       "      <td>319817</td>\n",
       "    </tr>\n",
       "    <tr>\n",
       "      <th>1</th>\n",
       "      <td>Maior 5KM</td>\n",
       "      <td>309922</td>\n",
       "    </tr>\n",
       "  </tbody>\n",
       "</table>\n",
       "</div>"
      ],
      "text/plain": [
       "    gasoduto  counts\n",
       "0      0-5KM  319817\n",
       "1  Maior 5KM  309922"
      ]
     },
     "execution_count": 82,
     "metadata": {},
     "output_type": "execute_result"
    }
   ],
   "source": [
    "dictDist_0a5KM = {\n",
    "    'gasoduto': ['0-5KM', 'Maior 5KM'],\n",
    "    'counts': [noDist0and5KM, dfDadosDist.shape[0] - noDist0and5KM]\n",
    "}\n",
    "dfDist_0a5KM = pd.DataFrame.from_dict(dictDist_0a5KM)\n",
    "dfDist_0a5KM"
   ]
  },
  {
   "cell_type": "code",
   "execution_count": 83,
   "id": "9d4ce7bf",
   "metadata": {},
   "outputs": [
    {
     "data": {
      "text/plain": [
       "([<matplotlib.patches.Wedge at 0x7f8e0b85eda0>,\n",
       "  <matplotlib.patches.Wedge at 0x7f8e0b85ec80>],\n",
       " [Text(-0.027147111820311893, 1.0996649645777643, '0-5KM'),\n",
       "  Text(0.02838107144850749, -1.1496497356949353, 'Maior 5KM')],\n",
       " [Text(-0.01480751553835194, 0.5998172534060532, '50.8%'),\n",
       "  Text(0.01604147516654771, -0.6498020245232243, '49.2%')])"
      ]
     },
     "execution_count": 83,
     "metadata": {},
     "output_type": "execute_result"
    },
    {
     "data": {
      "image/png": "[encoded data removed]",
      "text/plain": [
       "<Figure size 640x480 with 1 Axes>"
      ]
     },
     "metadata": {},
     "output_type": "display_data"
    }
   ],
   "source": [
    "plt.pie(dfDist_0a5KM.counts, labels=dfDist_0a5KM.gasoduto ,  \n",
    "        autopct='%1.1f%%', explode=[0, 0.05])"
   ]
  },
  {
   "cell_type": "code",
   "execution_count": 84,
   "id": "06fb9902",
   "metadata": {},
   "outputs": [
    {
     "data": {
      "application/vnd.plotly.v1+json": {
       "config": {
        "plotlyServerURL": "https://plot.ly"
       },
       "data": [
        {
         "alignmentgroup": "True",
         "cliponaxis": false,
         "hovertemplate": "gasoduto=%{x}<br>counts=%{y}<extra></extra>",
         "legendgroup": "0-5KM",
         "marker": {
          "color": "#636efa",
          "pattern": {
           "shape": ""
          }
         },
         "name": "0-5KM",
         "offsetgroup": "0-5KM",
         "orientation": "v",
         "showlegend": true,
         "textangle": 0,
         "textfont": {
          "size": 12
         },
         "textposition": "outside",
         "texttemplate": "%{y:gasoduto}",
         "type": "bar",
         "x": [
          "0-5KM"
         ],
         "xaxis": "x",
         "y": [
          319817
         ],
         "yaxis": "y"
        },
        {
         "alignmentgroup": "True",
         "cliponaxis": false,
         "hovertemplate": "gasoduto=%{x}<br>counts=%{y}<extra></extra>",
         "legendgroup": "Maior 5KM",
         "marker": {
          "color": "#EF553B",
          "pattern": {
           "shape": ""
          }
         },
         "name": "Maior 5KM",
         "offsetgroup": "Maior 5KM",
         "orientation": "v",
         "showlegend": true,
         "textangle": 0,
         "textfont": {
          "size": 12
         },
         "textposition": "outside",
         "texttemplate": "%{y:gasoduto}",
         "type": "bar",
         "x": [
          "Maior 5KM"
         ],
         "xaxis": "x",
         "y": [
          309922
         ],
         "yaxis": "y"
        }
       ],
       "layout": {
        "barmode": "relative",
        "height": 400,
        "legend": {
         "title": {
          "text": "gasoduto"
         },
         "tracegroupgap": 0
        },
        "margin": {
         "t": 60
        },
        "template": {
         "data": {
          "bar": [
           {
            "error_x": {
             "color": "#2a3f5f"
            },
            "error_y": {
             "color": "#2a3f5f"
            },
            "marker": {
             "line": {
              "color": "#E5ECF6",
              "width": 0.5
             },
             "pattern": {
              "fillmode": "overlay",
              "size": 10,
              "solidity": 0.2
             }
            },
            "type": "bar"
           }
          ],
          "barpolar": [
           {
            "marker": {
             "line": {
              "color": "#E5ECF6",
              "width": 0.5
             },
             "pattern": {
              "fillmode": "overlay",
              "size": 10,
              "solidity": 0.2
             }
            },
            "type": "barpolar"
           }
          ],
          "carpet": [
           {
            "aaxis": {
             "endlinecolor": "#2a3f5f",
             "gridcolor": "white",
             "linecolor": "white",
             "minorgridcolor": "white",
             "startlinecolor": "#2a3f5f"
            },
            "baxis": {
             "endlinecolor": "#2a3f5f",
             "gridcolor": "white",
             "linecolor": "white",
             "minorgridcolor": "white",
             "startlinecolor": "#2a3f5f"
            },
            "type": "carpet"
           }
          ],
          "choropleth": [
           {
            "colorbar": {
             "outlinewidth": 0,
             "ticks": ""
            },
            "type": "choropleth"
           }
          ],
          "contour": [
           {
            "colorbar": {
             "outlinewidth": 0,
             "ticks": ""
            },
            "colorscale": [
             [
              0,
              "#0d0887"
             ],
             [
              0.1111111111111111,
              "#46039f"
             ],
             [
              0.2222222222222222,
              "#7201a8"
             ],
             [
              0.3333333333333333,
              "#9c179e"
             ],
             [
              0.4444444444444444,
              "#bd3786"
             ],
             [
              0.5555555555555556,
              "#d8576b"
             ],
             [
              0.6666666666666666,
              "#ed7953"
             ],
             [
              0.7777777777777778,
              "#fb9f3a"
             ],
             [
              0.8888888888888888,
              "#fdca26"
             ],
             [
              1,
              "#f0f921"
             ]
            ],
            "type": "contour"
           }
          ],
          "contourcarpet": [
           {
            "colorbar": {
             "outlinewidth": 0,
             "ticks": ""
            },
            "type": "contourcarpet"
           }
          ],
          "heatmap": [
           {
            "colorbar": {
             "outlinewidth": 0,
             "ticks": ""
            },
            "colorscale": [
             [
              0,
              "#0d0887"
             ],
             [
              0.1111111111111111,
              "#46039f"
             ],
             [
              0.2222222222222222,
              "#7201a8"
             ],
             [
              0.3333333333333333,
              "#9c179e"
             ],
             [
              0.4444444444444444,
              "#bd3786"
             ],
             [
              0.5555555555555556,
              "#d8576b"
             ],
             [
              0.6666666666666666,
              "#ed7953"
             ],
             [
              0.7777777777777778,
              "#fb9f3a"
             ],
             [
              0.8888888888888888,
              "#fdca26"
             ],
             [
              1,
              "#f0f921"
             ]
            ],
            "type": "heatmap"
           }
          ],
          "heatmapgl": [
           {
            "colorbar": {
             "outlinewidth": 0,
             "ticks": ""
            },
            "colorscale": [
             [
              0,
              "#0d0887"
             ],
             [
              0.1111111111111111,
              "#46039f"
             ],
             [
              0.2222222222222222,
              "#7201a8"
             ],
             [
              0.3333333333333333,
              "#9c179e"
             ],
             [
              0.4444444444444444,
              "#bd3786"
             ],
             [
              0.5555555555555556,
              "#d8576b"
             ],
             [
              0.6666666666666666,
              "#ed7953"
             ],
             [
              0.7777777777777778,
              "#fb9f3a"
             ],
             [
              0.8888888888888888,
              "#fdca26"
             ],
             [
              1,
              "#f0f921"
             ]
            ],
            "type": "heatmapgl"
           }
          ],
          "histogram": [
           {
            "marker": {
             "pattern": {
              "fillmode": "overlay",
              "size": 10,
              "solidity": 0.2
             }
            },
            "type": "histogram"
           }
          ],
          "histogram2d": [
           {
            "colorbar": {
             "outlinewidth": 0,
             "ticks": ""
            },
            "colorscale": [
             [
              0,
              "#0d0887"
             ],
             [
              0.1111111111111111,
              "#46039f"
             ],
             [
              0.2222222222222222,
              "#7201a8"
             ],
             [
              0.3333333333333333,
              "#9c179e"
             ],
             [
              0.4444444444444444,
              "#bd3786"
             ],
             [
              0.5555555555555556,
              "#d8576b"
             ],
             [
              0.6666666666666666,
              "#ed7953"
             ],
             [
              0.7777777777777778,
              "#fb9f3a"
             ],
             [
              0.8888888888888888,
              "#fdca26"
             ],
             [
              1,
              "#f0f921"
             ]
            ],
            "type": "histogram2d"
           }
          ],
          "histogram2dcontour": [
           {
            "colorbar": {
             "outlinewidth": 0,
             "ticks": ""
            },
            "colorscale": [
             [
              0,
              "#0d0887"
             ],
             [
              0.1111111111111111,
              "#46039f"
             ],
             [
              0.2222222222222222,
              "#7201a8"
             ],
             [
              0.3333333333333333,
              "#9c179e"
             ],
             [
              0.4444444444444444,
              "#bd3786"
             ],
             [
              0.5555555555555556,
              "#d8576b"
             ],
             [
              0.6666666666666666,
              "#ed7953"
             ],
             [
              0.7777777777777778,
              "#fb9f3a"
             ],
             [
              0.8888888888888888,
              "#fdca26"
             ],
             [
              1,
              "#f0f921"
             ]
            ],
            "type": "histogram2dcontour"
           }
          ],
          "mesh3d": [
           {
            "colorbar": {
             "outlinewidth": 0,
             "ticks": ""
            },
            "type": "mesh3d"
           }
          ],
          "parcoords": [
           {
            "line": {
             "colorbar": {
              "outlinewidth": 0,
              "ticks": ""
             }
            },
            "type": "parcoords"
           }
          ],
          "pie": [
           {
            "automargin": true,
            "type": "pie"
           }
          ],
          "scatter": [
           {
            "fillpattern": {
             "fillmode": "overlay",
             "size": 10,
             "solidity": 0.2
            },
            "type": "scatter"
           }
          ],
          "scatter3d": [
           {
            "line": {
             "colorbar": {
              "outlinewidth": 0,
              "ticks": ""
             }
            },
            "marker": {
             "colorbar": {
              "outlinewidth": 0,
              "ticks": ""
             }
            },
            "type": "scatter3d"
           }
          ],
          "scattercarpet": [
           {
            "marker": {
             "colorbar": {
              "outlinewidth": 0,
              "ticks": ""
             }
            },
            "type": "scattercarpet"
           }
          ],
          "scattergeo": [
           {
            "marker": {
             "colorbar": {
              "outlinewidth": 0,
              "ticks": ""
             }
            },
            "type": "scattergeo"
           }
          ],
          "scattergl": [
           {
            "marker": {
             "colorbar": {
              "outlinewidth": 0,
              "ticks": ""
             }
            },
            "type": "scattergl"
           }
          ],
          "scattermapbox": [
           {
            "marker": {
             "colorbar": {
              "outlinewidth": 0,
              "ticks": ""
             }
            },
            "type": "scattermapbox"
           }
          ],
          "scatterpolar": [
           {
            "marker": {
             "colorbar": {
              "outlinewidth": 0,
              "ticks": ""
             }
            },
            "type": "scatterpolar"
           }
          ],
          "scatterpolargl": [
           {
            "marker": {
             "colorbar": {
              "outlinewidth": 0,
              "ticks": ""
             }
            },
            "type": "scatterpolargl"
           }
          ],
          "scatterternary": [
           {
            "marker": {
             "colorbar": {
              "outlinewidth": 0,
              "ticks": ""
             }
            },
            "type": "scatterternary"
           }
          ],
          "surface": [
           {
            "colorbar": {
             "outlinewidth": 0,
             "ticks": ""
            },
            "colorscale": [
             [
              0,
              "#0d0887"
             ],
             [
              0.1111111111111111,
              "#46039f"
             ],
             [
              0.2222222222222222,
              "#7201a8"
             ],
             [
              0.3333333333333333,
              "#9c179e"
             ],
             [
              0.4444444444444444,
              "#bd3786"
             ],
             [
              0.5555555555555556,
              "#d8576b"
             ],
             [
              0.6666666666666666,
              "#ed7953"
             ],
             [
              0.7777777777777778,
              "#fb9f3a"
             ],
             [
              0.8888888888888888,
              "#fdca26"
             ],
             [
              1,
              "#f0f921"
             ]
            ],
            "type": "surface"
           }
          ],
          "table": [
           {
            "cells": {
             "fill": {
              "color": "#EBF0F8"
             },
             "line": {
              "color": "white"
             }
            },
            "header": {
             "fill": {
              "color": "#C8D4E3"
             },
             "line": {
              "color": "white"
             }
            },
            "type": "table"
           }
          ]
         },
         "layout": {
          "annotationdefaults": {
           "arrowcolor": "#2a3f5f",
           "arrowhead": 0,
           "arrowwidth": 1
          },
          "autotypenumbers": "strict",
          "coloraxis": {
           "colorbar": {
            "outlinewidth": 0,
            "ticks": ""
           }
          },
          "colorscale": {
           "diverging": [
            [
             0,
             "#8e0152"
            ],
            [
             0.1,
             "#c51b7d"
            ],
            [
             0.2,
             "#de77ae"
            ],
            [
             0.3,
             "#f1b6da"
            ],
            [
             0.4,
             "#fde0ef"
            ],
            [
             0.5,
             "#f7f7f7"
            ],
            [
             0.6,
             "#e6f5d0"
            ],
            [
             0.7,
             "#b8e186"
            ],
            [
             0.8,
             "#7fbc41"
            ],
            [
             0.9,
             "#4d9221"
            ],
            [
             1,
             "#276419"
            ]
           ],
           "sequential": [
            [
             0,
             "#0d0887"
            ],
            [
             0.1111111111111111,
             "#46039f"
            ],
            [
             0.2222222222222222,
             "#7201a8"
            ],
            [
             0.3333333333333333,
             "#9c179e"
            ],
            [
             0.4444444444444444,
             "#bd3786"
            ],
            [
             0.5555555555555556,
             "#d8576b"
            ],
            [
             0.6666666666666666,
             "#ed7953"
            ],
            [
             0.7777777777777778,
             "#fb9f3a"
            ],
            [
             0.8888888888888888,
             "#fdca26"
            ],
            [
             1,
             "#f0f921"
            ]
           ],
           "sequentialminus": [
            [
             0,
             "#0d0887"
            ],
            [
             0.1111111111111111,
             "#46039f"
            ],
            [
             0.2222222222222222,
             "#7201a8"
            ],
            [
             0.3333333333333333,
             "#9c179e"
            ],
            [
             0.4444444444444444,
             "#bd3786"
            ],
            [
             0.5555555555555556,
             "#d8576b"
            ],
            [
             0.6666666666666666,
             "#ed7953"
            ],
            [
             0.7777777777777778,
             "#fb9f3a"
            ],
            [
             0.8888888888888888,
             "#fdca26"
            ],
            [
             1,
             "#f0f921"
            ]
           ]
          },
          "colorway": [
           "#636efa",
           "#EF553B",
           "#00cc96",
           "#ab63fa",
           "#FFA15A",
           "#19d3f3",
           "#FF6692",
           "#B6E880",
           "#FF97FF",
           "#FECB52"
          ],
          "font": {
           "color": "#2a3f5f"
          },
          "geo": {
           "bgcolor": "white",
           "lakecolor": "white",
           "landcolor": "#E5ECF6",
           "showlakes": true,
           "showland": true,
           "subunitcolor": "white"
          },
          "hoverlabel": {
           "align": "left"
          },
          "hovermode": "closest",
          "mapbox": {
           "style": "light"
          },
          "paper_bgcolor": "white",
          "plot_bgcolor": "#E5ECF6",
          "polar": {
           "angularaxis": {
            "gridcolor": "white",
            "linecolor": "white",
            "ticks": ""
           },
           "bgcolor": "#E5ECF6",
           "radialaxis": {
            "gridcolor": "white",
            "linecolor": "white",
            "ticks": ""
           }
          },
          "scene": {
           "xaxis": {
            "backgroundcolor": "#E5ECF6",
            "gridcolor": "white",
            "gridwidth": 2,
            "linecolor": "white",
            "showbackground": true,
            "ticks": "",
            "zerolinecolor": "white"
           },
           "yaxis": {
            "backgroundcolor": "#E5ECF6",
            "gridcolor": "white",
            "gridwidth": 2,
            "linecolor": "white",
            "showbackground": true,
            "ticks": "",
            "zerolinecolor": "white"
           },
           "zaxis": {
            "backgroundcolor": "#E5ECF6",
            "gridcolor": "white",
            "gridwidth": 2,
            "linecolor": "white",
            "showbackground": true,
            "ticks": "",
            "zerolinecolor": "white"
           }
          },
          "shapedefaults": {
           "line": {
            "color": "#2a3f5f"
           }
          },
          "ternary": {
           "aaxis": {
            "gridcolor": "white",
            "linecolor": "white",
            "ticks": ""
           },
           "baxis": {
            "gridcolor": "white",
            "linecolor": "white",
            "ticks": ""
           },
           "bgcolor": "#E5ECF6",
           "caxis": {
            "gridcolor": "white",
            "linecolor": "white",
            "ticks": ""
           }
          },
          "title": {
           "x": 0.05
          },
          "xaxis": {
           "automargin": true,
           "gridcolor": "white",
           "linecolor": "white",
           "ticks": "",
           "title": {
            "standoff": 15
           },
           "zerolinecolor": "white",
           "zerolinewidth": 2
          },
          "yaxis": {
           "automargin": true,
           "gridcolor": "white",
           "linecolor": "white",
           "ticks": "",
           "title": {
            "standoff": 15
           },
           "zerolinecolor": "white",
           "zerolinewidth": 2
          }
         }
        },
        "width": 500,
        "xaxis": {
         "anchor": "y",
         "categoryarray": [
          "0-5KM",
          "Maior 5KM"
         ],
         "categoryorder": "array",
         "domain": [
          0,
          1
         ],
         "title": {
          "text": "gasoduto"
         }
        },
        "yaxis": {
         "anchor": "x",
         "domain": [
          0,
          1
         ],
         "title": {
          "text": "counts"
         }
        }
       }
      },
      "text/html": [
       "<div>                            <div id=\"a962c9be-a3ba-46aa-b993-e31d7283d0b3\" class=\"plotly-graph-div\" style=\"height:400px; width:500px;\"></div>            <script type=\"text/javascript\">                require([\"plotly\"], function(Plotly) {                    window.PLOTLYENV=window.PLOTLYENV || {};                                    if (document.getElementById(\"a962c9be-a3ba-46aa-b993-e31d7283d0b3\")) {                    Plotly.newPlot(                        \"a962c9be-a3ba-46aa-b993-e31d7283d0b3\",                        [{\"alignmentgroup\":\"True\",\"hovertemplate\":\"gasoduto=%{x}<br>counts=%{y}<extra></extra>\",\"legendgroup\":\"0-5KM\",\"marker\":{\"color\":\"#636efa\",\"pattern\":{\"shape\":\"\"}},\"name\":\"0-5KM\",\"offsetgroup\":\"0-5KM\",\"orientation\":\"v\",\"showlegend\":true,\"textposition\":\"outside\",\"texttemplate\":\"%{y:gasoduto}\",\"x\":[\"0-5KM\"],\"xaxis\":\"x\",\"y\":[319817],\"yaxis\":\"y\",\"type\":\"bar\",\"textfont\":{\"size\":12},\"cliponaxis\":false,\"textangle\":0},{\"alignmentgroup\":\"True\",\"hovertemplate\":\"gasoduto=%{x}<br>counts=%{y}<extra></extra>\",\"legendgroup\":\"Maior 5KM\",\"marker\":{\"color\":\"#EF553B\",\"pattern\":{\"shape\":\"\"}},\"name\":\"Maior 5KM\",\"offsetgroup\":\"Maior 5KM\",\"orientation\":\"v\",\"showlegend\":true,\"textposition\":\"outside\",\"texttemplate\":\"%{y:gasoduto}\",\"x\":[\"Maior 5KM\"],\"xaxis\":\"x\",\"y\":[309922],\"yaxis\":\"y\",\"type\":\"bar\",\"textfont\":{\"size\":12},\"cliponaxis\":false,\"textangle\":0}],                        {\"template\":{\"data\":{\"histogram2dcontour\":[{\"type\":\"histogram2dcontour\",\"colorbar\":{\"outlinewidth\":0,\"ticks\":\"\"},\"colorscale\":[[0.0,\"#0d0887\"],[0.1111111111111111,\"#46039f\"],[0.2222222222222222,\"#7201a8\"],[0.3333333333333333,\"#9c179e\"],[0.4444444444444444,\"#bd3786\"],[0.5555555555555556,\"#d8576b\"],[0.6666666666666666,\"#ed7953\"],[0.7777777777777778,\"#fb9f3a\"],[0.8888888888888888,\"#fdca26\"],[1.0,\"#f0f921\"]]}],\"choropleth\":[{\"type\":\"choropleth\",\"colorbar\":{\"outlinewidth\":0,\"ticks\":\"\"}}],\"histogram2d\":[{\"type\":\"histogram2d\",\"colorbar\":{\"outlinewidth\":0,\"ticks\":\"\"},\"colorscale\":[[0.0,\"#0d0887\"],[0.1111111111111111,\"#46039f\"],[0.2222222222222222,\"#7201a8\"],[0.3333333333333333,\"#9c179e\"],[0.4444444444444444,\"#bd3786\"],[0.5555555555555556,\"#d8576b\"],[0.6666666666666666,\"#ed7953\"],[0.7777777777777778,\"#fb9f3a\"],[0.8888888888888888,\"#fdca26\"],[1.0,\"#f0f921\"]]}],\"heatmap\":[{\"type\":\"heatmap\",\"colorbar\":{\"outlinewidth\":0,\"ticks\":\"\"},\"colorscale\":[[0.0,\"#0d0887\"],[0.1111111111111111,\"#46039f\"],[0.2222222222222222,\"#7201a8\"],[0.3333333333333333,\"#9c179e\"],[0.4444444444444444,\"#bd3786\"],[0.5555555555555556,\"#d8576b\"],[0.6666666666666666,\"#ed7953\"],[0.7777777777777778,\"#fb9f3a\"],[0.8888888888888888,\"#fdca26\"],[1.0,\"#f0f921\"]]}],\"heatmapgl\":[{\"type\":\"heatmapgl\",\"colorbar\":{\"outlinewidth\":0,\"ticks\":\"\"},\"colorscale\":[[0.0,\"#0d0887\"],[0.1111111111111111,\"#46039f\"],[0.2222222222222222,\"#7201a8\"],[0.3333333333333333,\"#9c179e\"],[0.4444444444444444,\"#bd3786\"],[0.5555555555555556,\"#d8576b\"],[0.6666666666666666,\"#ed7953\"],[0.7777777777777778,\"#fb9f3a\"],[0.8888888888888888,\"#fdca26\"],[1.0,\"#f0f921\"]]}],\"contourcarpet\":[{\"type\":\"contourcarpet\",\"colorbar\":{\"outlinewidth\":0,\"ticks\":\"\"}}],\"contour\":[{\"type\":\"contour\",\"colorbar\":{\"outlinewidth\":0,\"ticks\":\"\"},\"colorscale\":[[0.0,\"#0d0887\"],[0.1111111111111111,\"#46039f\"],[0.2222222222222222,\"#7201a8\"],[0.3333333333333333,\"#9c179e\"],[0.4444444444444444,\"#bd3786\"],[0.5555555555555556,\"#d8576b\"],[0.6666666666666666,\"#ed7953\"],[0.7777777777777778,\"#fb9f3a\"],[0.8888888888888888,\"#fdca26\"],[1.0,\"#f0f921\"]]}],\"surface\":[{\"type\":\"surface\",\"colorbar\":{\"outlinewidth\":0,\"ticks\":\"\"},\"colorscale\":[[0.0,\"#0d0887\"],[0.1111111111111111,\"#46039f\"],[0.2222222222222222,\"#7201a8\"],[0.3333333333333333,\"#9c179e\"],[0.4444444444444444,\"#bd3786\"],[0.5555555555555556,\"#d8576b\"],[0.6666666666666666,\"#ed7953\"],[0.7777777777777778,\"#fb9f3a\"],[0.8888888888888888,\"#fdca26\"],[1.0,\"#f0f921\"]]}],\"mesh3d\":[{\"type\":\"mesh3d\",\"colorbar\":{\"outlinewidth\":0,\"ticks\":\"\"}}],\"scatter\":[{\"fillpattern\":{\"fillmode\":\"overlay\",\"size\":10,\"solidity\":0.2},\"type\":\"scatter\"}],\"parcoords\":[{\"type\":\"parcoords\",\"line\":{\"colorbar\":{\"outlinewidth\":0,\"ticks\":\"\"}}}],\"scatterpolargl\":[{\"type\":\"scatterpolargl\",\"marker\":{\"colorbar\":{\"outlinewidth\":0,\"ticks\":\"\"}}}],\"bar\":[{\"error_x\":{\"color\":\"#2a3f5f\"},\"error_y\":{\"color\":\"#2a3f5f\"},\"marker\":{\"line\":{\"color\":\"#E5ECF6\",\"width\":0.5},\"pattern\":{\"fillmode\":\"overlay\",\"size\":10,\"solidity\":0.2}},\"type\":\"bar\"}],\"scattergeo\":[{\"type\":\"scattergeo\",\"marker\":{\"colorbar\":{\"outlinewidth\":0,\"ticks\":\"\"}}}],\"scatterpolar\":[{\"type\":\"scatterpolar\",\"marker\":{\"colorbar\":{\"outlinewidth\":0,\"ticks\":\"\"}}}],\"histogram\":[{\"marker\":{\"pattern\":{\"fillmode\":\"overlay\",\"size\":10,\"solidity\":0.2}},\"type\":\"histogram\"}],\"scattergl\":[{\"type\":\"scattergl\",\"marker\":{\"colorbar\":{\"outlinewidth\":0,\"ticks\":\"\"}}}],\"scatter3d\":[{\"type\":\"scatter3d\",\"line\":{\"colorbar\":{\"outlinewidth\":0,\"ticks\":\"\"}},\"marker\":{\"colorbar\":{\"outlinewidth\":0,\"ticks\":\"\"}}}],\"scattermapbox\":[{\"type\":\"scattermapbox\",\"marker\":{\"colorbar\":{\"outlinewidth\":0,\"ticks\":\"\"}}}],\"scatterternary\":[{\"type\":\"scatterternary\",\"marker\":{\"colorbar\":{\"outlinewidth\":0,\"ticks\":\"\"}}}],\"scattercarpet\":[{\"type\":\"scattercarpet\",\"marker\":{\"colorbar\":{\"outlinewidth\":0,\"ticks\":\"\"}}}],\"carpet\":[{\"aaxis\":{\"endlinecolor\":\"#2a3f5f\",\"gridcolor\":\"white\",\"linecolor\":\"white\",\"minorgridcolor\":\"white\",\"startlinecolor\":\"#2a3f5f\"},\"baxis\":{\"endlinecolor\":\"#2a3f5f\",\"gridcolor\":\"white\",\"linecolor\":\"white\",\"minorgridcolor\":\"white\",\"startlinecolor\":\"#2a3f5f\"},\"type\":\"carpet\"}],\"table\":[{\"cells\":{\"fill\":{\"color\":\"#EBF0F8\"},\"line\":{\"color\":\"white\"}},\"header\":{\"fill\":{\"color\":\"#C8D4E3\"},\"line\":{\"color\":\"white\"}},\"type\":\"table\"}],\"barpolar\":[{\"marker\":{\"line\":{\"color\":\"#E5ECF6\",\"width\":0.5},\"pattern\":{\"fillmode\":\"overlay\",\"size\":10,\"solidity\":0.2}},\"type\":\"barpolar\"}],\"pie\":[{\"automargin\":true,\"type\":\"pie\"}]},\"layout\":{\"autotypenumbers\":\"strict\",\"colorway\":[\"#636efa\",\"#EF553B\",\"#00cc96\",\"#ab63fa\",\"#FFA15A\",\"#19d3f3\",\"#FF6692\",\"#B6E880\",\"#FF97FF\",\"#FECB52\"],\"font\":{\"color\":\"#2a3f5f\"},\"hovermode\":\"closest\",\"hoverlabel\":{\"align\":\"left\"},\"paper_bgcolor\":\"white\",\"plot_bgcolor\":\"#E5ECF6\",\"polar\":{\"bgcolor\":\"#E5ECF6\",\"angularaxis\":{\"gridcolor\":\"white\",\"linecolor\":\"white\",\"ticks\":\"\"},\"radialaxis\":{\"gridcolor\":\"white\",\"linecolor\":\"white\",\"ticks\":\"\"}},\"ternary\":{\"bgcolor\":\"#E5ECF6\",\"aaxis\":{\"gridcolor\":\"white\",\"linecolor\":\"white\",\"ticks\":\"\"},\"baxis\":{\"gridcolor\":\"white\",\"linecolor\":\"white\",\"ticks\":\"\"},\"caxis\":{\"gridcolor\":\"white\",\"linecolor\":\"white\",\"ticks\":\"\"}},\"coloraxis\":{\"colorbar\":{\"outlinewidth\":0,\"ticks\":\"\"}},\"colorscale\":{\"sequential\":[[0.0,\"#0d0887\"],[0.1111111111111111,\"#46039f\"],[0.2222222222222222,\"#7201a8\"],[0.3333333333333333,\"#9c179e\"],[0.4444444444444444,\"#bd3786\"],[0.5555555555555556,\"#d8576b\"],[0.6666666666666666,\"#ed7953\"],[0.7777777777777778,\"#fb9f3a\"],[0.8888888888888888,\"#fdca26\"],[1.0,\"#f0f921\"]],\"sequentialminus\":[[0.0,\"#0d0887\"],[0.1111111111111111,\"#46039f\"],[0.2222222222222222,\"#7201a8\"],[0.3333333333333333,\"#9c179e\"],[0.4444444444444444,\"#bd3786\"],[0.5555555555555556,\"#d8576b\"],[0.6666666666666666,\"#ed7953\"],[0.7777777777777778,\"#fb9f3a\"],[0.8888888888888888,\"#fdca26\"],[1.0,\"#f0f921\"]],\"diverging\":[[0,\"#8e0152\"],[0.1,\"#c51b7d\"],[0.2,\"#de77ae\"],[0.3,\"#f1b6da\"],[0.4,\"#fde0ef\"],[0.5,\"#f7f7f7\"],[0.6,\"#e6f5d0\"],[0.7,\"#b8e186\"],[0.8,\"#7fbc41\"],[0.9,\"#4d9221\"],[1,\"#276419\"]]},\"xaxis\":{\"gridcolor\":\"white\",\"linecolor\":\"white\",\"ticks\":\"\",\"title\":{\"standoff\":15},\"zerolinecolor\":\"white\",\"automargin\":true,\"zerolinewidth\":2},\"yaxis\":{\"gridcolor\":\"white\",\"linecolor\":\"white\",\"ticks\":\"\",\"title\":{\"standoff\":15},\"zerolinecolor\":\"white\",\"automargin\":true,\"zerolinewidth\":2},\"scene\":{\"xaxis\":{\"backgroundcolor\":\"#E5ECF6\",\"gridcolor\":\"white\",\"linecolor\":\"white\",\"showbackground\":true,\"ticks\":\"\",\"zerolinecolor\":\"white\",\"gridwidth\":2},\"yaxis\":{\"backgroundcolor\":\"#E5ECF6\",\"gridcolor\":\"white\",\"linecolor\":\"white\",\"showbackground\":true,\"ticks\":\"\",\"zerolinecolor\":\"white\",\"gridwidth\":2},\"zaxis\":{\"backgroundcolor\":\"#E5ECF6\",\"gridcolor\":\"white\",\"linecolor\":\"white\",\"showbackground\":true,\"ticks\":\"\",\"zerolinecolor\":\"white\",\"gridwidth\":2}},\"shapedefaults\":{\"line\":{\"color\":\"#2a3f5f\"}},\"annotationdefaults\":{\"arrowcolor\":\"#2a3f5f\",\"arrowhead\":0,\"arrowwidth\":1},\"geo\":{\"bgcolor\":\"white\",\"landcolor\":\"#E5ECF6\",\"subunitcolor\":\"white\",\"showland\":true,\"showlakes\":true,\"lakecolor\":\"white\"},\"title\":{\"x\":0.05},\"mapbox\":{\"style\":\"light\"}}},\"xaxis\":{\"anchor\":\"y\",\"domain\":[0.0,1.0],\"title\":{\"text\":\"gasoduto\"},\"categoryorder\":\"array\",\"categoryarray\":[\"0-5KM\",\"Maior 5KM\"]},\"yaxis\":{\"anchor\":\"x\",\"domain\":[0.0,1.0],\"title\":{\"text\":\"counts\"}},\"legend\":{\"title\":{\"text\":\"gasoduto\"},\"tracegroupgap\":0},\"margin\":{\"t\":60},\"barmode\":\"relative\",\"height\":400,\"width\":500},                        {\"responsive\": true}                    ).then(function(){\n",
       "                            \n",
       "var gd = document.getElementById('a962c9be-a3ba-46aa-b993-e31d7283d0b3');\n",
       "var x = new MutationObserver(function (mutations, observer) {{\n",
       "        var display = window.getComputedStyle(gd).display;\n",
       "        if (!display || display === 'none') {{\n",
       "            console.log([gd, 'removed!']);\n",
       "            Plotly.purge(gd);\n",
       "            observer.disconnect();\n",
       "        }}\n",
       "}});\n",
       "\n",
       "// Listen for the removal of the full notebook cells\n",
       "var notebookContainer = gd.closest('#notebook-container');\n",
       "if (notebookContainer) {{\n",
       "    x.observe(notebookContainer, {childList: true});\n",
       "}}\n",
       "\n",
       "// Listen for the clearing of the current output cell\n",
       "var outputEl = gd.closest('.output');\n",
       "if (outputEl) {{\n",
       "    x.observe(outputEl, {childList: true});\n",
       "}}\n",
       "\n",
       "                        })                };                });            </script>        </div>"
      ]
     },
     "metadata": {},
     "output_type": "display_data"
    }
   ],
   "source": [
    "fig = px.bar(\n",
    "             dfDist_0a5KM, \n",
    "             x='gasoduto', \n",
    "             y='counts',\n",
    "             color='gasoduto',\n",
    "             text_auto='gasoduto',\n",
    "             height=400,\n",
    "             width= 500\n",
    "            )\n",
    "fig.update_traces(\n",
    "                  textfont_size=12, \n",
    "                  textangle=0, \n",
    "                  textposition=\"outside\", \n",
    "                  cliponaxis=False\n",
    "            )\n",
    "fig.show()"
   ]
  },
  {
   "cell_type": "code",
   "execution_count": 106,
   "id": "80c6ba60",
   "metadata": {},
   "outputs": [
    {
     "data": {
      "text/plain": [
       "array(['ABALO', 'MARISCAGEM', 'GAIOLA', 'LINHA DE MÃO', 'CERCO',\n",
       "       'GROSEIRA', 'MERGULHO', 'ESPINHEL', 'TARRAFA', 'REDINHA',\n",
       "       'SUPERFÍCIE BOIADA', 'FUNDO PEIXE', 'REÇA', 'PESQUEIRO', 'EMALHE',\n",
       "       'ARRAEIRA', 'CALÃO', 'MANZUÁ', 'TAINHEIRA', 'JERERÉ',\n",
       "       'FUNDO CAMARÃO', 'ARRASTO DE FUNDO OU BALOEIRO', 'Não Informado',\n",
       "       'PARUZEIRA'], dtype=object)"
      ]
     },
     "execution_count": 106,
     "metadata": {},
     "output_type": "execute_result"
    }
   ],
   "source": [
    "dfDadosDist[dfDadosDist['entre_0_5KM'] == True]['SubArte'].unique()"
   ]
  },
  {
   "cell_type": "code",
   "execution_count": 86,
   "id": "6dcd0b75",
   "metadata": {},
   "outputs": [
    {
     "data": {
      "application/vnd.jupyter.widget-view+json": {
       "model_id": "9e02cf6417df40e594e1c57b431b9e2c",
       "version_major": 2,
       "version_minor": 0
      },
      "text/plain": [
       "  0%|          | 0/629739 [00:00<?, ?it/s]"
      ]
     },
     "metadata": {},
     "output_type": "display_data"
    }
   ],
   "source": [
    "def distancia_intervalo_GasodutoKM(dist):\n",
    "    try:\n",
    "        if dist < 1000 and dist >= 500:\n",
    "            return True\n",
    "        else:\n",
    "            return False\n",
    "    except:\n",
    "        return np.nan\n",
    "    \n",
    "dfDadosDist['entre_05_1KM'] = dfDadosDist['dist_gas'].progress_apply(distancia_intervalo_GasodutoKM)"
   ]
  },
  {
   "cell_type": "code",
   "execution_count": 87,
   "id": "3358f482",
   "metadata": {},
   "outputs": [
    {
     "data": {
      "text/plain": [
       "(19524, 50)"
      ]
     },
     "execution_count": 87,
     "metadata": {},
     "output_type": "execute_result"
    }
   ],
   "source": [
    "dfDadosDist[dfDadosDist['entre_05_1KM'] == True].shape"
   ]
  },
  {
   "cell_type": "code",
   "execution_count": 88,
   "id": "a3f7c233",
   "metadata": {},
   "outputs": [
    {
     "data": {
      "application/vnd.jupyter.widget-view+json": {
       "model_id": "e78189abee4e4c14a74cafdd6173047c",
       "version_major": 2,
       "version_minor": 0
      },
      "text/plain": [
       "  0%|          | 0/629739 [00:00<?, ?it/s]"
      ]
     },
     "metadata": {},
     "output_type": "display_data"
    }
   ],
   "source": [
    "def distancia_intervalo_GasodutoKM(dist):\n",
    "    try:\n",
    "        if dist < 2000 and dist >= 1000:\n",
    "            return True\n",
    "        else:\n",
    "            return False\n",
    "    except:\n",
    "        return np.nan\n",
    "    \n",
    "dfDadosDist['entre_1_2KM'] = dfDadosDist['dist_gas'].progress_apply(distancia_intervalo_GasodutoKM)"
   ]
  },
  {
   "cell_type": "code",
   "execution_count": 89,
   "id": "a09e306e",
   "metadata": {},
   "outputs": [
    {
     "data": {
      "text/plain": [
       "(83398, 51)"
      ]
     },
     "execution_count": 89,
     "metadata": {},
     "output_type": "execute_result"
    }
   ],
   "source": [
    "dfDadosDist[dfDadosDist['entre_1_2KM'] == True].shape"
   ]
  },
  {
   "cell_type": "code",
   "execution_count": 90,
   "id": "a33796cc",
   "metadata": {},
   "outputs": [
    {
     "data": {
      "application/vnd.jupyter.widget-view+json": {
       "model_id": "315dc23322a14dd497a9694fe15ad44e",
       "version_major": 2,
       "version_minor": 0
      },
      "text/plain": [
       "  0%|          | 0/629739 [00:00<?, ?it/s]"
      ]
     },
     "metadata": {},
     "output_type": "display_data"
    }
   ],
   "source": [
    "def distancia_intervalo_GasodutoKM(dist):\n",
    "    try:\n",
    "        if dist < 3000 and dist >= 2000:\n",
    "            return True\n",
    "        else:\n",
    "            return False\n",
    "    except:\n",
    "        return np.nan\n",
    "    \n",
    "dfDadosDist['entre_2_3KM'] = dfDadosDist['dist_gas'].progress_apply(distancia_intervalo_GasodutoKM)"
   ]
  },
  {
   "cell_type": "code",
   "execution_count": 91,
   "id": "c73612bf",
   "metadata": {},
   "outputs": [
    {
     "data": {
      "text/plain": [
       "(79262, 52)"
      ]
     },
     "execution_count": 91,
     "metadata": {},
     "output_type": "execute_result"
    }
   ],
   "source": [
    "dfDadosDist[dfDadosDist['entre_2_3KM'] == True].shape"
   ]
  },
  {
   "cell_type": "code",
   "execution_count": 92,
   "id": "94fb4776",
   "metadata": {},
   "outputs": [
    {
     "data": {
      "application/vnd.jupyter.widget-view+json": {
       "model_id": "e3f09b85251f45c7b1ba5c05dbb6440b",
       "version_major": 2,
       "version_minor": 0
      },
      "text/plain": [
       "  0%|          | 0/629739 [00:00<?, ?it/s]"
      ]
     },
     "metadata": {},
     "output_type": "display_data"
    }
   ],
   "source": [
    "def distancia_intervalo_GasodutoKM(dist):\n",
    "    try:\n",
    "        if dist < 4000 and dist >= 3000:\n",
    "            return True\n",
    "        else:\n",
    "            return False\n",
    "    except:\n",
    "        return np.nan\n",
    "    \n",
    "dfDadosDist['entre_3_4KM'] = dfDadosDist['dist_gas'].progress_apply(distancia_intervalo_GasodutoKM)"
   ]
  },
  {
   "cell_type": "code",
   "execution_count": 93,
   "id": "ee88cc6f",
   "metadata": {},
   "outputs": [
    {
     "data": {
      "text/plain": [
       "(77757, 53)"
      ]
     },
     "execution_count": 93,
     "metadata": {},
     "output_type": "execute_result"
    }
   ],
   "source": [
    "dfDadosDist[dfDadosDist['entre_3_4KM'] == True].shape"
   ]
  },
  {
   "cell_type": "code",
   "execution_count": 94,
   "id": "87dd85b8",
   "metadata": {},
   "outputs": [],
   "source": [
    "def distancia_intervalo_GasodutoKM(dist):\n",
    "    try:\n",
    "        if dist <= 5000 and dist >= 4000:\n",
    "            return True\n",
    "        else:\n",
    "            return False\n",
    "    except:\n",
    "        return np.nan\n",
    "    \n",
    "dfDadosDist['entre_4_5KM'] = dfDadosDist['dist_gas'].apply(distancia_intervalo_GasodutoKM)"
   ]
  },
  {
   "cell_type": "code",
   "execution_count": 95,
   "id": "d766ff6b",
   "metadata": {},
   "outputs": [
    {
     "data": {
      "text/plain": [
       "(39789, 54)"
      ]
     },
     "execution_count": 95,
     "metadata": {},
     "output_type": "execute_result"
    }
   ],
   "source": [
    "dfDadosDist[dfDadosDist['entre_4_5KM'] == True].shape"
   ]
  },
  {
   "cell_type": "markdown",
   "id": "b773885d",
   "metadata": {},
   "source": [
    "### Comprovando as sumas parcials "
   ]
  },
  {
   "cell_type": "code",
   "execution_count": 96,
   "id": "7b8fdaf7",
   "metadata": {},
   "outputs": [
    {
     "name": "stdout",
     "output_type": "stream",
     "text": [
      "total de 0 a 5 Km 319817\n",
      "total de somas parciais  319817\n"
     ]
    }
   ],
   "source": [
    "sum05_5km = dfDadosDist[dfDadosDist['entre_0_5KM'] == True].shape[0]\n",
    "print(\"total de 0 a 5 Km\", sum05_5km)\n",
    "sumparcial = dfDadosDist[dfDadosDist['menor500M'] == True].shape[0]\n",
    "sumparcial += dfDadosDist[dfDadosDist['entre_05_1KM'] == True].shape[0]\n",
    "sumparcial += dfDadosDist[dfDadosDist['entre_1_2KM'] == True].shape[0]\n",
    "sumparcial += dfDadosDist[dfDadosDist['entre_2_3KM'] == True].shape[0]\n",
    "sumparcial += dfDadosDist[dfDadosDist['entre_3_4KM'] == True].shape[0]\n",
    "sumparcial += dfDadosDist[dfDadosDist['entre_4_5KM'] == True].shape[0]\n",
    "print(\"total de somas parciais \", sumparcial)"
   ]
  },
  {
   "cell_type": "code",
   "execution_count": 97,
   "id": "f4fe9ecd",
   "metadata": {},
   "outputs": [
    {
     "data": {
      "text/plain": [
       "Index(['Unnamed: 0', 'ID', 'Arte', 'SubArte', 'TI', 'Comunidade', 'Pesqueiro',\n",
       "       'Espécie', 'Captura(kg)', 'Valor/Kg(R$)', 'Data Saída', 'Hora Saída',\n",
       "       'Data Chegada', 'Hora Chegada', 'Tipo Embarc.', 'Núm. Linhas',\n",
       "       'Núm. Anzóis', 'Tamanho Anzol', 'Isca', 'Espécie Alvo', 'Comp. Rede',\n",
       "       'Quant. Dias Pescou Mês', 'Observação', 'Profund. Lance',\n",
       "       'Houve Captura', 'Litros Combust.', 'Combustível(R$)', 'Rancho(R$)',\n",
       "       'Gêlo(R$)', 'Isca(R$)', 'Venda Direta', 'Consumo', 'Peixaria,Mercado',\n",
       "       'Ano', 'Mês', 'KgTotal', 'R$Total', 'CPUE kg/dia', 'Valoração',\n",
       "       'Embarcação', 'corresponde', 'CoordX', 'CoordY', 'dist_gas',\n",
       "       'dist_plat', 'menor_500M', 'entre_05_5KM', 'menor500M', 'entre_0_5KM',\n",
       "       'entre_05_1KM', 'entre_1_2KM', 'entre_2_3KM', 'entre_3_4KM',\n",
       "       'entre_4_5KM'],\n",
       "      dtype='object')"
      ]
     },
     "execution_count": 97,
     "metadata": {},
     "output_type": "execute_result"
    }
   ],
   "source": [
    "dfDadosDist.columns"
   ]
  },
  {
   "cell_type": "code",
   "execution_count": 98,
   "id": "d4cfbd89",
   "metadata": {},
   "outputs": [
    {
     "data": {
      "text/html": [
       "<div>\n",
       "<style scoped>\n",
       "    .dataframe tbody tr th:only-of-type {\n",
       "        vertical-align: middle;\n",
       "    }\n",
       "\n",
       "    .dataframe tbody tr th {\n",
       "        vertical-align: top;\n",
       "    }\n",
       "\n",
       "    .dataframe thead th {\n",
       "        text-align: right;\n",
       "    }\n",
       "</style>\n",
       "<table border=\"1\" class=\"dataframe\">\n",
       "  <thead>\n",
       "    <tr style=\"text-align: right;\">\n",
       "      <th></th>\n",
       "      <th>dist_gas</th>\n",
       "      <th>menor500M</th>\n",
       "      <th>entre_05_5KM</th>\n",
       "      <th>entre_05_1KM</th>\n",
       "      <th>entre_1_2KM</th>\n",
       "      <th>entre_2_3KM</th>\n",
       "      <th>entre_3_4KM</th>\n",
       "      <th>entre_4_5KM</th>\n",
       "      <th>entre_0_5KM</th>\n",
       "    </tr>\n",
       "  </thead>\n",
       "  <tbody>\n",
       "    <tr>\n",
       "      <th>155056</th>\n",
       "      <td>31.405725</td>\n",
       "      <td>True</td>\n",
       "      <td>False</td>\n",
       "      <td>False</td>\n",
       "      <td>False</td>\n",
       "      <td>False</td>\n",
       "      <td>False</td>\n",
       "      <td>False</td>\n",
       "      <td>True</td>\n",
       "    </tr>\n",
       "    <tr>\n",
       "      <th>310016</th>\n",
       "      <td>31.405725</td>\n",
       "      <td>True</td>\n",
       "      <td>False</td>\n",
       "      <td>False</td>\n",
       "      <td>False</td>\n",
       "      <td>False</td>\n",
       "      <td>False</td>\n",
       "      <td>False</td>\n",
       "      <td>True</td>\n",
       "    </tr>\n",
       "    <tr>\n",
       "      <th>310019</th>\n",
       "      <td>31.405725</td>\n",
       "      <td>True</td>\n",
       "      <td>False</td>\n",
       "      <td>False</td>\n",
       "      <td>False</td>\n",
       "      <td>False</td>\n",
       "      <td>False</td>\n",
       "      <td>False</td>\n",
       "      <td>True</td>\n",
       "    </tr>\n",
       "    <tr>\n",
       "      <th>17251</th>\n",
       "      <td>31.405725</td>\n",
       "      <td>True</td>\n",
       "      <td>False</td>\n",
       "      <td>False</td>\n",
       "      <td>False</td>\n",
       "      <td>False</td>\n",
       "      <td>False</td>\n",
       "      <td>False</td>\n",
       "      <td>True</td>\n",
       "    </tr>\n",
       "    <tr>\n",
       "      <th>17254</th>\n",
       "      <td>31.405725</td>\n",
       "      <td>True</td>\n",
       "      <td>False</td>\n",
       "      <td>False</td>\n",
       "      <td>False</td>\n",
       "      <td>False</td>\n",
       "      <td>False</td>\n",
       "      <td>False</td>\n",
       "      <td>True</td>\n",
       "    </tr>\n",
       "    <tr>\n",
       "      <th>155003</th>\n",
       "      <td>31.405725</td>\n",
       "      <td>True</td>\n",
       "      <td>False</td>\n",
       "      <td>False</td>\n",
       "      <td>False</td>\n",
       "      <td>False</td>\n",
       "      <td>False</td>\n",
       "      <td>False</td>\n",
       "      <td>True</td>\n",
       "    </tr>\n",
       "    <tr>\n",
       "      <th>282017</th>\n",
       "      <td>31.405725</td>\n",
       "      <td>True</td>\n",
       "      <td>False</td>\n",
       "      <td>False</td>\n",
       "      <td>False</td>\n",
       "      <td>False</td>\n",
       "      <td>False</td>\n",
       "      <td>False</td>\n",
       "      <td>True</td>\n",
       "    </tr>\n",
       "    <tr>\n",
       "      <th>155028</th>\n",
       "      <td>31.405725</td>\n",
       "      <td>True</td>\n",
       "      <td>False</td>\n",
       "      <td>False</td>\n",
       "      <td>False</td>\n",
       "      <td>False</td>\n",
       "      <td>False</td>\n",
       "      <td>False</td>\n",
       "      <td>True</td>\n",
       "    </tr>\n",
       "  </tbody>\n",
       "</table>\n",
       "</div>"
      ],
      "text/plain": [
       "         dist_gas  menor500M  entre_05_5KM  entre_05_1KM  entre_1_2KM   \n",
       "155056  31.405725       True         False         False        False  \\\n",
       "310016  31.405725       True         False         False        False   \n",
       "310019  31.405725       True         False         False        False   \n",
       "17251   31.405725       True         False         False        False   \n",
       "17254   31.405725       True         False         False        False   \n",
       "155003  31.405725       True         False         False        False   \n",
       "282017  31.405725       True         False         False        False   \n",
       "155028  31.405725       True         False         False        False   \n",
       "\n",
       "        entre_2_3KM  entre_3_4KM  entre_4_5KM  entre_0_5KM  \n",
       "155056        False        False        False         True  \n",
       "310016        False        False        False         True  \n",
       "310019        False        False        False         True  \n",
       "17251         False        False        False         True  \n",
       "17254         False        False        False         True  \n",
       "155003        False        False        False         True  \n",
       "282017        False        False        False         True  \n",
       "155028        False        False        False         True  "
      ]
     },
     "execution_count": 98,
     "metadata": {},
     "output_type": "execute_result"
    }
   ],
   "source": [
    "listDist = ['dist_gas', 'menor500M','entre_05_5KM','entre_05_1KM','entre_1_2KM','entre_2_3KM',\n",
    "            'entre_3_4KM','entre_4_5KM', 'entre_0_5KM']\n",
    "dfDadosDist[dfDadosDist['entre_0_5KM'] == True][listDist].head(8)"
   ]
  },
  {
   "cell_type": "code",
   "execution_count": 100,
   "id": "f5858019",
   "metadata": {},
   "outputs": [
    {
     "data": {
      "text/html": [
       "<div>\n",
       "<style scoped>\n",
       "    .dataframe tbody tr th:only-of-type {\n",
       "        vertical-align: middle;\n",
       "    }\n",
       "\n",
       "    .dataframe tbody tr th {\n",
       "        vertical-align: top;\n",
       "    }\n",
       "\n",
       "    .dataframe thead th {\n",
       "        text-align: right;\n",
       "    }\n",
       "</style>\n",
       "<table border=\"1\" class=\"dataframe\">\n",
       "  <thead>\n",
       "    <tr style=\"text-align: right;\">\n",
       "      <th></th>\n",
       "      <th>dist_gas</th>\n",
       "      <th>menor500M</th>\n",
       "      <th>entre_05_5KM</th>\n",
       "      <th>entre_05_1KM</th>\n",
       "      <th>entre_1_2KM</th>\n",
       "      <th>entre_2_3KM</th>\n",
       "      <th>entre_3_4KM</th>\n",
       "      <th>entre_4_5KM</th>\n",
       "      <th>entre_0_5KM</th>\n",
       "    </tr>\n",
       "  </thead>\n",
       "  <tbody>\n",
       "    <tr>\n",
       "      <th>292951</th>\n",
       "      <td>4997.277982</td>\n",
       "      <td>False</td>\n",
       "      <td>True</td>\n",
       "      <td>False</td>\n",
       "      <td>False</td>\n",
       "      <td>False</td>\n",
       "      <td>False</td>\n",
       "      <td>True</td>\n",
       "      <td>True</td>\n",
       "    </tr>\n",
       "    <tr>\n",
       "      <th>331295</th>\n",
       "      <td>4997.277982</td>\n",
       "      <td>False</td>\n",
       "      <td>True</td>\n",
       "      <td>False</td>\n",
       "      <td>False</td>\n",
       "      <td>False</td>\n",
       "      <td>False</td>\n",
       "      <td>True</td>\n",
       "      <td>True</td>\n",
       "    </tr>\n",
       "    <tr>\n",
       "      <th>331294</th>\n",
       "      <td>4997.277982</td>\n",
       "      <td>False</td>\n",
       "      <td>True</td>\n",
       "      <td>False</td>\n",
       "      <td>False</td>\n",
       "      <td>False</td>\n",
       "      <td>False</td>\n",
       "      <td>True</td>\n",
       "      <td>True</td>\n",
       "    </tr>\n",
       "    <tr>\n",
       "      <th>331293</th>\n",
       "      <td>4997.277982</td>\n",
       "      <td>False</td>\n",
       "      <td>True</td>\n",
       "      <td>False</td>\n",
       "      <td>False</td>\n",
       "      <td>False</td>\n",
       "      <td>False</td>\n",
       "      <td>True</td>\n",
       "      <td>True</td>\n",
       "    </tr>\n",
       "    <tr>\n",
       "      <th>331292</th>\n",
       "      <td>4997.277982</td>\n",
       "      <td>False</td>\n",
       "      <td>True</td>\n",
       "      <td>False</td>\n",
       "      <td>False</td>\n",
       "      <td>False</td>\n",
       "      <td>False</td>\n",
       "      <td>True</td>\n",
       "      <td>True</td>\n",
       "    </tr>\n",
       "    <tr>\n",
       "      <th>331291</th>\n",
       "      <td>4997.277982</td>\n",
       "      <td>False</td>\n",
       "      <td>True</td>\n",
       "      <td>False</td>\n",
       "      <td>False</td>\n",
       "      <td>False</td>\n",
       "      <td>False</td>\n",
       "      <td>True</td>\n",
       "      <td>True</td>\n",
       "    </tr>\n",
       "    <tr>\n",
       "      <th>331296</th>\n",
       "      <td>4997.277982</td>\n",
       "      <td>False</td>\n",
       "      <td>True</td>\n",
       "      <td>False</td>\n",
       "      <td>False</td>\n",
       "      <td>False</td>\n",
       "      <td>False</td>\n",
       "      <td>True</td>\n",
       "      <td>True</td>\n",
       "    </tr>\n",
       "    <tr>\n",
       "      <th>502477</th>\n",
       "      <td>4997.277982</td>\n",
       "      <td>False</td>\n",
       "      <td>True</td>\n",
       "      <td>False</td>\n",
       "      <td>False</td>\n",
       "      <td>False</td>\n",
       "      <td>False</td>\n",
       "      <td>True</td>\n",
       "      <td>True</td>\n",
       "    </tr>\n",
       "  </tbody>\n",
       "</table>\n",
       "</div>"
      ],
      "text/plain": [
       "           dist_gas  menor500M  entre_05_5KM  entre_05_1KM  entre_1_2KM   \n",
       "292951  4997.277982      False          True         False        False  \\\n",
       "331295  4997.277982      False          True         False        False   \n",
       "331294  4997.277982      False          True         False        False   \n",
       "331293  4997.277982      False          True         False        False   \n",
       "331292  4997.277982      False          True         False        False   \n",
       "331291  4997.277982      False          True         False        False   \n",
       "331296  4997.277982      False          True         False        False   \n",
       "502477  4997.277982      False          True         False        False   \n",
       "\n",
       "        entre_2_3KM  entre_3_4KM  entre_4_5KM  entre_0_5KM  \n",
       "292951        False        False         True         True  \n",
       "331295        False        False         True         True  \n",
       "331294        False        False         True         True  \n",
       "331293        False        False         True         True  \n",
       "331292        False        False         True         True  \n",
       "331291        False        False         True         True  \n",
       "331296        False        False         True         True  \n",
       "502477        False        False         True         True  "
      ]
     },
     "execution_count": 100,
     "metadata": {},
     "output_type": "execute_result"
    }
   ],
   "source": [
    "dfDadosDist[dfDadosDist['entre_0_5KM'] == True][listDist].tail(8)"
   ]
  },
  {
   "cell_type": "code",
   "execution_count": 101,
   "id": "5cb18758",
   "metadata": {},
   "outputs": [],
   "source": [
    "dfDadosDist.to_csv('BD/Dados_distGasoduto_CPUE_coordPequeirosValidadoUpgrade_05_08_2023.csv')"
   ]
  },
  {
   "cell_type": "code",
   "execution_count": 102,
   "id": "7817a4f3",
   "metadata": {},
   "outputs": [],
   "source": [
    "path_Output = 'BD/Dados_distGasoduto_CPUE_coordPequeirosValidado_Menor5KM_06_08_2023.csv'\n",
    "dfDadosDist[dfDadosDist['entre_0_5KM'] == True].to_csv(path_Output)"
   ]
  },
  {
   "cell_type": "code",
   "execution_count": 103,
   "id": "3c3b5bff",
   "metadata": {},
   "outputs": [
    {
     "data": {
      "text/plain": [
       "(319817, 54)"
      ]
     },
     "execution_count": 103,
     "metadata": {},
     "output_type": "execute_result"
    }
   ],
   "source": [
    "dfDadosDist[dfDadosDist['entre_0_5KM'] == True].shape"
   ]
  },
  {
   "cell_type": "code",
   "execution_count": 104,
   "id": "4928ce29",
   "metadata": {},
   "outputs": [],
   "source": [
    "path_Output = 'BD/Dados_distGasoduto_CPUE_coordPequeirosValidado_Menor5KM_06_08_2023.xlsx'\n",
    "dfDadosDist[dfDadosDist['entre_0_5KM'] == True].to_excel(path_Output)"
   ]
  },
  {
   "cell_type": "code",
   "execution_count": 105,
   "id": "337c974b",
   "metadata": {},
   "outputs": [],
   "source": [
    "dfDadosDist.to_excel('BD/Dados_distGasoduto_CPUE_coordPequeirosValidadoUpgrade_05_08_2023.xlsx')"
   ]
  },
  {
   "cell_type": "markdown",
   "id": "ece531dd",
   "metadata": {},
   "source": [
    "# Analisando os dados da Plataforma \n"
   ]
  },
  {
   "cell_type": "code",
   "execution_count": 107,
   "id": "d635880b",
   "metadata": {},
   "outputs": [
    {
     "data": {
      "text/plain": [
       "(629793, 47)"
      ]
     },
     "execution_count": 107,
     "metadata": {},
     "output_type": "execute_result"
    }
   ],
   "source": [
    "dfDadosDistP = dfRelDes.loc[pd.notnull(dfRelDes.dist_plat)]\n",
    "dfDadosDistP.shape"
   ]
  },
  {
   "cell_type": "code",
   "execution_count": 108,
   "id": "c1406c05",
   "metadata": {},
   "outputs": [],
   "source": [
    "dfDadosDistP = copy.deepcopy(dfDadosDistP)"
   ]
  },
  {
   "cell_type": "code",
   "execution_count": 109,
   "id": "9c3d72af",
   "metadata": {},
   "outputs": [
    {
     "data": {
      "text/plain": [
       "0"
      ]
     },
     "execution_count": 109,
     "metadata": {},
     "output_type": "execute_result"
    }
   ],
   "source": [
    "invalid = dfDadosDistP[dfDadosDistP.dist_plat == '-'].shape[0]\n",
    "invalid"
   ]
  },
  {
   "cell_type": "code",
   "execution_count": 110,
   "id": "04f94e33",
   "metadata": {},
   "outputs": [
    {
     "data": {
      "text/plain": [
       "array(['GAIOLA', 'MANZUÁ', 'JERERÉ', 'REDINHA', 'CALÃO',\n",
       "       'ARRASTO DE FUNDO OU BALOEIRO', 'Não Informado', 'EMALHE',\n",
       "       'PESQUEIRO', 'CERCO', 'ABALO', 'REÇA', 'ARRAEIRA', 'TAINHEIRA',\n",
       "       'PARUZEIRA', 'LINHA DE MÃO', 'ESPINHEL', 'GROSEIRA', 'TARRAFA',\n",
       "       'MARISCAGEM', 'MERGULHO', 'CAÇA E PESCA', 'SUPERFÍCIE BOIADA',\n",
       "       'FUNDO PEIXE', 'FUNDO CAMARÃO'], dtype=object)"
      ]
     },
     "execution_count": 110,
     "metadata": {},
     "output_type": "execute_result"
    }
   ],
   "source": [
    "dfDadosDistP.SubArte.unique()"
   ]
  },
  {
   "cell_type": "code",
   "execution_count": 111,
   "id": "339fbd05",
   "metadata": {},
   "outputs": [
    {
     "data": {
      "text/plain": [
       "281762    1.241591e+03\n",
       "454593    1.241591e+03\n",
       "464455    1.241591e+03\n",
       "454591    1.241591e+03\n",
       "454590    1.241591e+03\n",
       "              ...     \n",
       "259646    9.236734e+06\n",
       "343455    9.236734e+06\n",
       "28334     9.236734e+06\n",
       "610927    9.236734e+06\n",
       "311065    9.236734e+06\n",
       "Name: dist_plat, Length: 629793, dtype: float64"
      ]
     },
     "execution_count": 111,
     "metadata": {},
     "output_type": "execute_result"
    }
   ],
   "source": [
    "dfDadosDistP.dist_plat.sort_values()"
   ]
  },
  {
   "cell_type": "code",
   "execution_count": 112,
   "id": "91de5b4c",
   "metadata": {},
   "outputs": [
    {
     "data": {
      "text/plain": [
       "Unnamed: 0                                   0\n",
       "ID                                           1\n",
       "Arte                                 ARMADILHA\n",
       "SubArte                                 GAIOLA\n",
       "TI                                         BTS\n",
       "Comunidade                Salinas da Margarida\n",
       "Pesqueiro                          Duro Grande\n",
       "Espécie                         Siri com casca\n",
       "Captura(kg)                               17.0\n",
       "Valor/Kg(R$)                               1.0\n",
       "Data Saída                          17/09/2005\n",
       "Hora Saída                            05:00:00\n",
       "Data Chegada                        17/09/2005\n",
       "Hora Chegada                          10:00:00\n",
       "Tipo Embarc.                  Canoa Motorizada\n",
       "Núm. Linhas                                0.0\n",
       "Núm. Anzóis                                0.0\n",
       "Tamanho Anzol                              NaN\n",
       "Isca                                     Xangó\n",
       "Espécie Alvo                     Não Informado\n",
       "Comp. Rede                                 0.0\n",
       "Quant. Dias Pescou Mês                    25.0\n",
       "Observação                                 NaN\n",
       "Profund. Lance                             6.0\n",
       "Houve Captura                                V\n",
       "Litros Combust.                            0.0\n",
       "Combustível(R$)                            0.0\n",
       "Rancho(R$)                                 0.0\n",
       "Gêlo(R$)                                   0.0\n",
       "Isca(R$)                                   0.0\n",
       "Venda Direta                             False\n",
       "Consumo                                  False\n",
       "Peixaria,Mercado                         False\n",
       "Ano                                     2005.0\n",
       "Mês                                        9.0\n",
       "KgTotal                                   4.25\n",
       "R$Total                                   4.25\n",
       "CPUE kg/dia                               17.0\n",
       "Valoração                                 4.25\n",
       "Embarcação                    Canoa Motorizada\n",
       "corresponde                               True\n",
       "CoordX                              -38.706607\n",
       "CoordY                              -12.791194\n",
       "dist_gas                           1462.806516\n",
       "dist_plat                         78149.886177\n",
       "menor_500M                               False\n",
       "entre_05_5KM                             False\n",
       "Name: 0, dtype: object"
      ]
     },
     "execution_count": 112,
     "metadata": {},
     "output_type": "execute_result"
    }
   ],
   "source": [
    "dfDadosDistP.loc[0]"
   ]
  },
  {
   "cell_type": "code",
   "execution_count": 113,
   "id": "0328a545",
   "metadata": {},
   "outputs": [],
   "source": [
    "dfDadosDistP.loc[:,'dist_plat'] = dfDadosDistP.loc[:,'dist_plat'].astype(float)"
   ]
  },
  {
   "cell_type": "markdown",
   "id": "1e6c0a0b",
   "metadata": {},
   "source": [
    "## Comprovando as distancias da plataforma "
   ]
  },
  {
   "cell_type": "code",
   "execution_count": 114,
   "id": "8ed78dfa",
   "metadata": {},
   "outputs": [
    {
     "name": "stdout",
     "output_type": "stream",
     "text": [
      "dist ate 500 M =  0\n",
      "dist 500 M a 1KM =  0\n",
      "dist 1Km a 2KM =  3847\n",
      "dist 2Km a 3KM =  453\n",
      "dist 3Km a 4KM =  834\n",
      "dist 4Km a 5KM =  818\n"
     ]
    }
   ],
   "source": [
    "print(\"dist ate 500 M = \",dfDadosDistP[(dfDadosDistP['dist_plat'] > 0 ) & (dfDadosDistP['dist_plat'] < 500.0)].shape[0])\n",
    "print(\"dist 500 M a 1KM = \",dfDadosDistP[(dfDadosDistP['dist_plat'] >= 500. ) & (dfDadosDistP['dist_plat'] < 1000.0)].shape[0])\n",
    "print(\"dist 1Km a 2KM = \",dfDadosDistP[(dfDadosDistP['dist_plat'] >= 1000.0 ) & (dfDadosDistP['dist_plat'] < 2000.0)].shape[0])\n",
    "print(\"dist 2Km a 3KM = \",dfDadosDistP[(dfDadosDistP['dist_plat'] >= 2000.0) & (dfDadosDistP['dist_plat'] < 3000.0)].shape[0])\n",
    "print(\"dist 3Km a 4KM = \",dfDadosDistP[(dfDadosDistP['dist_plat'] >= 3000.0 ) & (dfDadosDistP['dist_plat'] < 4000.0)].shape[0])\n",
    "print(\"dist 4Km a 5KM = \",dfDadosDistP[(dfDadosDistP['dist_plat'] >= 4000.0 ) & (dfDadosDistP['dist_plat'] <= 5000.0)].shape[0])"
   ]
  },
  {
   "cell_type": "code",
   "execution_count": 115,
   "id": "7302b5d9",
   "metadata": {},
   "outputs": [
    {
     "data": {
      "text/plain": [
       "(38164, 47)"
      ]
     },
     "execution_count": 115,
     "metadata": {},
     "output_type": "execute_result"
    }
   ],
   "source": [
    "df_reca = dfDadosDistP[dfDadosDistP['SubArte'] == 'REÇA']\n",
    "df_reca.shape"
   ]
  },
  {
   "cell_type": "code",
   "execution_count": 116,
   "id": "c3e5aba4",
   "metadata": {},
   "outputs": [
    {
     "data": {
      "text/html": [
       "<div>\n",
       "<style scoped>\n",
       "    .dataframe tbody tr th:only-of-type {\n",
       "        vertical-align: middle;\n",
       "    }\n",
       "\n",
       "    .dataframe tbody tr th {\n",
       "        vertical-align: top;\n",
       "    }\n",
       "\n",
       "    .dataframe thead th {\n",
       "        text-align: right;\n",
       "    }\n",
       "</style>\n",
       "<table border=\"1\" class=\"dataframe\">\n",
       "  <thead>\n",
       "    <tr style=\"text-align: right;\">\n",
       "      <th></th>\n",
       "      <th>SubArte</th>\n",
       "      <th>dist_plat</th>\n",
       "    </tr>\n",
       "  </thead>\n",
       "  <tbody>\n",
       "    <tr>\n",
       "      <th>368109</th>\n",
       "      <td>REÇA</td>\n",
       "      <td>8380.0</td>\n",
       "    </tr>\n",
       "    <tr>\n",
       "      <th>193032</th>\n",
       "      <td>REÇA</td>\n",
       "      <td>8380.0</td>\n",
       "    </tr>\n",
       "    <tr>\n",
       "      <th>193031</th>\n",
       "      <td>REÇA</td>\n",
       "      <td>8380.0</td>\n",
       "    </tr>\n",
       "    <tr>\n",
       "      <th>368036</th>\n",
       "      <td>REÇA</td>\n",
       "      <td>8380.0</td>\n",
       "    </tr>\n",
       "    <tr>\n",
       "      <th>368035</th>\n",
       "      <td>REÇA</td>\n",
       "      <td>8380.0</td>\n",
       "    </tr>\n",
       "  </tbody>\n",
       "</table>\n",
       "</div>"
      ],
      "text/plain": [
       "       SubArte  dist_plat\n",
       "368109    REÇA     8380.0\n",
       "193032    REÇA     8380.0\n",
       "193031    REÇA     8380.0\n",
       "368036    REÇA     8380.0\n",
       "368035    REÇA     8380.0"
      ]
     },
     "execution_count": 116,
     "metadata": {},
     "output_type": "execute_result"
    }
   ],
   "source": [
    "# ordenar pela menor distancia \n",
    "df_reca[['SubArte','dist_plat']].sort_values(by= 'dist_plat').head()"
   ]
  },
  {
   "cell_type": "code",
   "execution_count": 117,
   "id": "1ba3e9dd",
   "metadata": {},
   "outputs": [
    {
     "data": {
      "text/html": [
       "<div>\n",
       "<style scoped>\n",
       "    .dataframe tbody tr th:only-of-type {\n",
       "        vertical-align: middle;\n",
       "    }\n",
       "\n",
       "    .dataframe tbody tr th {\n",
       "        vertical-align: top;\n",
       "    }\n",
       "\n",
       "    .dataframe thead th {\n",
       "        text-align: right;\n",
       "    }\n",
       "</style>\n",
       "<table border=\"1\" class=\"dataframe\">\n",
       "  <thead>\n",
       "    <tr style=\"text-align: right;\">\n",
       "      <th></th>\n",
       "      <th>SubArte</th>\n",
       "      <th>dist_plat</th>\n",
       "    </tr>\n",
       "  </thead>\n",
       "  <tbody>\n",
       "  </tbody>\n",
       "</table>\n",
       "</div>"
      ],
      "text/plain": [
       "Empty DataFrame\n",
       "Columns: [SubArte, dist_plat]\n",
       "Index: []"
      ]
     },
     "execution_count": 117,
     "metadata": {},
     "output_type": "execute_result"
    }
   ],
   "source": [
    "dfDadosDistP[(dfDadosDistP['SubArte'] == 'REÇA') & (dfDadosDistP['dist_plat'] <= 5000)][['SubArte','dist_plat']].head()"
   ]
  },
  {
   "cell_type": "code",
   "execution_count": 118,
   "id": "9d546ce9",
   "metadata": {},
   "outputs": [
    {
     "data": {
      "application/vnd.jupyter.widget-view+json": {
       "model_id": "0ad1e4f85b3944cbb6df343844de78fd",
       "version_major": 2,
       "version_minor": 0
      },
      "text/plain": [
       "  0%|          | 0/629793 [00:00<?, ?it/s]"
      ]
     },
     "metadata": {},
     "output_type": "display_data"
    },
    {
     "data": {
      "text/plain": [
       "0"
      ]
     },
     "execution_count": 118,
     "metadata": {},
     "output_type": "execute_result"
    }
   ],
   "source": [
    "def distancia_plataforma_menor_500M(dist):\n",
    "    \n",
    "    if dist <= 500.0:\n",
    "        return True\n",
    "    else:\n",
    "        return False    \n",
    "\n",
    "\n",
    "dfDadosDistP['dist_0_500M_Pla'] = dfDadosDistP['dist_plat'].progress_apply(lambda x: distancia_plataforma_menor_500M(float(x)))\n",
    "dfDadosDistP[dfDadosDistP['dist_0_500M_Pla'] == True].shape[0]\n"
   ]
  },
  {
   "cell_type": "code",
   "execution_count": 119,
   "id": "32639117",
   "metadata": {},
   "outputs": [
    {
     "data": {
      "application/vnd.jupyter.widget-view+json": {
       "model_id": "84d2ff10ba0b44bd8054a283ddd67f83",
       "version_major": 2,
       "version_minor": 0
      },
      "text/plain": [
       "  0%|          | 0/629793 [00:00<?, ?it/s]"
      ]
     },
     "metadata": {},
     "output_type": "display_data"
    }
   ],
   "source": [
    "def distancia_plataforma_5KMV(dist):\n",
    "    \n",
    "    if dist <= 5000 and dist >= 500:\n",
    "        return True\n",
    "    else:\n",
    "        return False    \n",
    "\n",
    "\n",
    "dfDadosDistP['dist_05_5KM_Pla'] = dfDadosDistP['dist_plat'].progress_apply(lambda x: distancia_plataforma_5KMV(float(x)))"
   ]
  },
  {
   "cell_type": "code",
   "execution_count": 120,
   "id": "cc9e300f",
   "metadata": {},
   "outputs": [
    {
     "data": {
      "text/plain": [
       "5952"
      ]
     },
     "execution_count": 120,
     "metadata": {},
     "output_type": "execute_result"
    }
   ],
   "source": [
    "noDist0_5and5KMPla = dfDadosDistP[dfDadosDistP['dist_05_5KM_Pla'] == True].shape[0]\n",
    "noDist0_5and5KMPla"
   ]
  },
  {
   "cell_type": "markdown",
   "id": "840c5d46",
   "metadata": {},
   "source": [
    "### Comprovançao "
   ]
  },
  {
   "cell_type": "code",
   "execution_count": 121,
   "id": "bb218d87",
   "metadata": {},
   "outputs": [
    {
     "data": {
      "text/html": [
       "<div>\n",
       "<style scoped>\n",
       "    .dataframe tbody tr th:only-of-type {\n",
       "        vertical-align: middle;\n",
       "    }\n",
       "\n",
       "    .dataframe tbody tr th {\n",
       "        vertical-align: top;\n",
       "    }\n",
       "\n",
       "    .dataframe thead th {\n",
       "        text-align: right;\n",
       "    }\n",
       "</style>\n",
       "<table border=\"1\" class=\"dataframe\">\n",
       "  <thead>\n",
       "    <tr style=\"text-align: right;\">\n",
       "      <th></th>\n",
       "      <th>dist_plat</th>\n",
       "      <th>dist_05_5KM_Pla</th>\n",
       "    </tr>\n",
       "  </thead>\n",
       "  <tbody>\n",
       "    <tr>\n",
       "      <th>55560</th>\n",
       "      <td>4608.770266</td>\n",
       "      <td>True</td>\n",
       "    </tr>\n",
       "    <tr>\n",
       "      <th>55561</th>\n",
       "      <td>4608.770266</td>\n",
       "      <td>True</td>\n",
       "    </tr>\n",
       "    <tr>\n",
       "      <th>77698</th>\n",
       "      <td>4608.770266</td>\n",
       "      <td>True</td>\n",
       "    </tr>\n",
       "    <tr>\n",
       "      <th>77699</th>\n",
       "      <td>4608.770266</td>\n",
       "      <td>True</td>\n",
       "    </tr>\n",
       "    <tr>\n",
       "      <th>77700</th>\n",
       "      <td>4608.770266</td>\n",
       "      <td>True</td>\n",
       "    </tr>\n",
       "  </tbody>\n",
       "</table>\n",
       "</div>"
      ],
      "text/plain": [
       "         dist_plat  dist_05_5KM_Pla\n",
       "55560  4608.770266             True\n",
       "55561  4608.770266             True\n",
       "77698  4608.770266             True\n",
       "77699  4608.770266             True\n",
       "77700  4608.770266             True"
      ]
     },
     "execution_count": 121,
     "metadata": {},
     "output_type": "execute_result"
    }
   ],
   "source": [
    "dfDadosDistP[dfDadosDistP['dist_plat'] < 5000][['dist_plat', 'dist_05_5KM_Pla']].head()"
   ]
  },
  {
   "cell_type": "code",
   "execution_count": 122,
   "id": "ac2b0cc5",
   "metadata": {},
   "outputs": [
    {
     "data": {
      "text/html": [
       "<div>\n",
       "<style scoped>\n",
       "    .dataframe tbody tr th:only-of-type {\n",
       "        vertical-align: middle;\n",
       "    }\n",
       "\n",
       "    .dataframe tbody tr th {\n",
       "        vertical-align: top;\n",
       "    }\n",
       "\n",
       "    .dataframe thead th {\n",
       "        text-align: right;\n",
       "    }\n",
       "</style>\n",
       "<table border=\"1\" class=\"dataframe\">\n",
       "  <thead>\n",
       "    <tr style=\"text-align: right;\">\n",
       "      <th></th>\n",
       "      <th>dist_plat</th>\n",
       "      <th>dist_05_5KM_Pla</th>\n",
       "    </tr>\n",
       "  </thead>\n",
       "  <tbody>\n",
       "    <tr>\n",
       "      <th>0</th>\n",
       "      <td>78149.886177</td>\n",
       "      <td>False</td>\n",
       "    </tr>\n",
       "    <tr>\n",
       "      <th>2</th>\n",
       "      <td>78149.886177</td>\n",
       "      <td>False</td>\n",
       "    </tr>\n",
       "    <tr>\n",
       "      <th>3</th>\n",
       "      <td>78149.886177</td>\n",
       "      <td>False</td>\n",
       "    </tr>\n",
       "    <tr>\n",
       "      <th>5</th>\n",
       "      <td>72582.462828</td>\n",
       "      <td>False</td>\n",
       "    </tr>\n",
       "    <tr>\n",
       "      <th>6</th>\n",
       "      <td>78882.649589</td>\n",
       "      <td>False</td>\n",
       "    </tr>\n",
       "  </tbody>\n",
       "</table>\n",
       "</div>"
      ],
      "text/plain": [
       "      dist_plat  dist_05_5KM_Pla\n",
       "0  78149.886177            False\n",
       "2  78149.886177            False\n",
       "3  78149.886177            False\n",
       "5  72582.462828            False\n",
       "6  78882.649589            False"
      ]
     },
     "execution_count": 122,
     "metadata": {},
     "output_type": "execute_result"
    }
   ],
   "source": [
    "dfDadosDistP[dfDadosDistP['dist_plat'] > 5000][['dist_plat', 'dist_05_5KM_Pla']].head()"
   ]
  },
  {
   "cell_type": "code",
   "execution_count": 123,
   "id": "281b43f1",
   "metadata": {},
   "outputs": [
    {
     "data": {
      "text/plain": [
       "623841"
      ]
     },
     "execution_count": 123,
     "metadata": {},
     "output_type": "execute_result"
    }
   ],
   "source": [
    "dfDadosDistP.shape[0] - noDist0_5and5KMPla"
   ]
  },
  {
   "cell_type": "code",
   "execution_count": 124,
   "id": "13aee3e9",
   "metadata": {},
   "outputs": [],
   "source": [
    "\n",
    "dictDist_0a5KM = {\n",
    "    'plataforma': ['0.5-5KM', 'Maior 5KM'],\n",
    "    'counts': [noDist0_5and5KMPla, dfDadosDistP.shape[0] - noDist0_5and5KMPla]\n",
    "}\n"
   ]
  },
  {
   "cell_type": "code",
   "execution_count": 125,
   "id": "75905a5b",
   "metadata": {},
   "outputs": [
    {
     "data": {
      "text/html": [
       "<div>\n",
       "<style scoped>\n",
       "    .dataframe tbody tr th:only-of-type {\n",
       "        vertical-align: middle;\n",
       "    }\n",
       "\n",
       "    .dataframe tbody tr th {\n",
       "        vertical-align: top;\n",
       "    }\n",
       "\n",
       "    .dataframe thead th {\n",
       "        text-align: right;\n",
       "    }\n",
       "</style>\n",
       "<table border=\"1\" class=\"dataframe\">\n",
       "  <thead>\n",
       "    <tr style=\"text-align: right;\">\n",
       "      <th></th>\n",
       "      <th>plataforma</th>\n",
       "      <th>counts</th>\n",
       "    </tr>\n",
       "  </thead>\n",
       "  <tbody>\n",
       "    <tr>\n",
       "      <th>0</th>\n",
       "      <td>0.5-5KM</td>\n",
       "      <td>5952</td>\n",
       "    </tr>\n",
       "    <tr>\n",
       "      <th>1</th>\n",
       "      <td>Maior 5KM</td>\n",
       "      <td>623841</td>\n",
       "    </tr>\n",
       "  </tbody>\n",
       "</table>\n",
       "</div>"
      ],
      "text/plain": [
       "  plataforma  counts\n",
       "0    0.5-5KM    5952\n",
       "1  Maior 5KM  623841"
      ]
     },
     "execution_count": 125,
     "metadata": {},
     "output_type": "execute_result"
    }
   ],
   "source": [
    "dfDist_0a5KMP = pd.DataFrame.from_dict(dictDist_0a5KM)\n",
    "dfDist_0a5KMP"
   ]
  },
  {
   "cell_type": "code",
   "execution_count": 133,
   "id": "738d6d1c",
   "metadata": {},
   "outputs": [
    {
     "data": {
      "text/plain": [
       "([<matplotlib.patches.Wedge at 0x7f53e59cbfd0>,\n",
       "  <matplotlib.patches.Wedge at 0x7f5417987220>],\n",
       " [Text(1.0995152021067345, 0.032654560725680834, '0.5-5KM'),\n",
       "  Text(-1.1494931668377053, -0.03413882530819743, 'Maior 5KM')],\n",
       " [Text(0.5997355647854914, 0.01781157857764409, '0.9%'),\n",
       "  Text(-0.6497135290821812, -0.019295857782894197, '99.1%')])"
      ]
     },
     "execution_count": 133,
     "metadata": {},
     "output_type": "execute_result"
    },
    {
     "data": {
      "image/png": "[encoded data removed]",
      "text/plain": [
       "<Figure size 640x480 with 1 Axes>"
      ]
     },
     "metadata": {},
     "output_type": "display_data"
    }
   ],
   "source": [
    "plt.pie(dfDist_0a5KMP.counts, labels=dfDist_0a5KMP.plataforma ,  \n",
    "        autopct='%1.1f%%', explode=[0, 0.05])"
   ]
  },
  {
   "cell_type": "code",
   "execution_count": 126,
   "id": "da504d71",
   "metadata": {},
   "outputs": [
    {
     "data": {
      "application/vnd.plotly.v1+json": {
       "config": {
        "plotlyServerURL": "https://plot.ly"
       },
       "data": [
        {
         "alignmentgroup": "True",
         "cliponaxis": false,
         "hovertemplate": "plataforma=%{x}<br>counts=%{y}<extra></extra>",
         "legendgroup": "0.5-5KM",
         "marker": {
          "color": "#636efa",
          "pattern": {
           "shape": ""
          }
         },
         "name": "0.5-5KM",
         "offsetgroup": "0.5-5KM",
         "orientation": "v",
         "showlegend": true,
         "textangle": 0,
         "textfont": {
          "size": 12
         },
         "textposition": "outside",
         "texttemplate": "%{y:Plataforma}",
         "type": "bar",
         "x": [
          "0.5-5KM"
         ],
         "xaxis": "x",
         "y": [
          5952
         ],
         "yaxis": "y"
        },
        {
         "alignmentgroup": "True",
         "cliponaxis": false,
         "hovertemplate": "plataforma=%{x}<br>counts=%{y}<extra></extra>",
         "legendgroup": "Maior 5KM",
         "marker": {
          "color": "#EF553B",
          "pattern": {
           "shape": ""
          }
         },
         "name": "Maior 5KM",
         "offsetgroup": "Maior 5KM",
         "orientation": "v",
         "showlegend": true,
         "textangle": 0,
         "textfont": {
          "size": 12
         },
         "textposition": "outside",
         "texttemplate": "%{y:Plataforma}",
         "type": "bar",
         "x": [
          "Maior 5KM"
         ],
         "xaxis": "x",
         "y": [
          623841
         ],
         "yaxis": "y"
        }
       ],
       "layout": {
        "barmode": "relative",
        "height": 400,
        "legend": {
         "title": {
          "text": "plataforma"
         },
         "tracegroupgap": 0
        },
        "margin": {
         "t": 60
        },
        "template": {
         "data": {
          "bar": [
           {
            "error_x": {
             "color": "#2a3f5f"
            },
            "error_y": {
             "color": "#2a3f5f"
            },
            "marker": {
             "line": {
              "color": "#E5ECF6",
              "width": 0.5
             },
             "pattern": {
              "fillmode": "overlay",
              "size": 10,
              "solidity": 0.2
             }
            },
            "type": "bar"
           }
          ],
          "barpolar": [
           {
            "marker": {
             "line": {
              "color": "#E5ECF6",
              "width": 0.5
             },
             "pattern": {
              "fillmode": "overlay",
              "size": 10,
              "solidity": 0.2
             }
            },
            "type": "barpolar"
           }
          ],
          "carpet": [
           {
            "aaxis": {
             "endlinecolor": "#2a3f5f",
             "gridcolor": "white",
             "linecolor": "white",
             "minorgridcolor": "white",
             "startlinecolor": "#2a3f5f"
            },
            "baxis": {
             "endlinecolor": "#2a3f5f",
             "gridcolor": "white",
             "linecolor": "white",
             "minorgridcolor": "white",
             "startlinecolor": "#2a3f5f"
            },
            "type": "carpet"
           }
          ],
          "choropleth": [
           {
            "colorbar": {
             "outlinewidth": 0,
             "ticks": ""
            },
            "type": "choropleth"
           }
          ],
          "contour": [
           {
            "colorbar": {
             "outlinewidth": 0,
             "ticks": ""
            },
            "colorscale": [
             [
              0,
              "#0d0887"
             ],
             [
              0.1111111111111111,
              "#46039f"
             ],
             [
              0.2222222222222222,
              "#7201a8"
             ],
             [
              0.3333333333333333,
              "#9c179e"
             ],
             [
              0.4444444444444444,
              "#bd3786"
             ],
             [
              0.5555555555555556,
              "#d8576b"
             ],
             [
              0.6666666666666666,
              "#ed7953"
             ],
             [
              0.7777777777777778,
              "#fb9f3a"
             ],
             [
              0.8888888888888888,
              "#fdca26"
             ],
             [
              1,
              "#f0f921"
             ]
            ],
            "type": "contour"
           }
          ],
          "contourcarpet": [
           {
            "colorbar": {
             "outlinewidth": 0,
             "ticks": ""
            },
            "type": "contourcarpet"
           }
          ],
          "heatmap": [
           {
            "colorbar": {
             "outlinewidth": 0,
             "ticks": ""
            },
            "colorscale": [
             [
              0,
              "#0d0887"
             ],
             [
              0.1111111111111111,
              "#46039f"
             ],
             [
              0.2222222222222222,
              "#7201a8"
             ],
             [
              0.3333333333333333,
              "#9c179e"
             ],
             [
              0.4444444444444444,
              "#bd3786"
             ],
             [
              0.5555555555555556,
              "#d8576b"
             ],
             [
              0.6666666666666666,
              "#ed7953"
             ],
             [
              0.7777777777777778,
              "#fb9f3a"
             ],
             [
              0.8888888888888888,
              "#fdca26"
             ],
             [
              1,
              "#f0f921"
             ]
            ],
            "type": "heatmap"
           }
          ],
          "heatmapgl": [
           {
            "colorbar": {
             "outlinewidth": 0,
             "ticks": ""
            },
            "colorscale": [
             [
              0,
              "#0d0887"
             ],
             [
              0.1111111111111111,
              "#46039f"
             ],
             [
              0.2222222222222222,
              "#7201a8"
             ],
             [
              0.3333333333333333,
              "#9c179e"
             ],
             [
              0.4444444444444444,
              "#bd3786"
             ],
             [
              0.5555555555555556,
              "#d8576b"
             ],
             [
              0.6666666666666666,
              "#ed7953"
             ],
             [
              0.7777777777777778,
              "#fb9f3a"
             ],
             [
              0.8888888888888888,
              "#fdca26"
             ],
             [
              1,
              "#f0f921"
             ]
            ],
            "type": "heatmapgl"
           }
          ],
          "histogram": [
           {
            "marker": {
             "pattern": {
              "fillmode": "overlay",
              "size": 10,
              "solidity": 0.2
             }
            },
            "type": "histogram"
           }
          ],
          "histogram2d": [
           {
            "colorbar": {
             "outlinewidth": 0,
             "ticks": ""
            },
            "colorscale": [
             [
              0,
              "#0d0887"
             ],
             [
              0.1111111111111111,
              "#46039f"
             ],
             [
              0.2222222222222222,
              "#7201a8"
             ],
             [
              0.3333333333333333,
              "#9c179e"
             ],
             [
              0.4444444444444444,
              "#bd3786"
             ],
             [
              0.5555555555555556,
              "#d8576b"
             ],
             [
              0.6666666666666666,
              "#ed7953"
             ],
             [
              0.7777777777777778,
              "#fb9f3a"
             ],
             [
              0.8888888888888888,
              "#fdca26"
             ],
             [
              1,
              "#f0f921"
             ]
            ],
            "type": "histogram2d"
           }
          ],
          "histogram2dcontour": [
           {
            "colorbar": {
             "outlinewidth": 0,
             "ticks": ""
            },
            "colorscale": [
             [
              0,
              "#0d0887"
             ],
             [
              0.1111111111111111,
              "#46039f"
             ],
             [
              0.2222222222222222,
              "#7201a8"
             ],
             [
              0.3333333333333333,
              "#9c179e"
             ],
             [
              0.4444444444444444,
              "#bd3786"
             ],
             [
              0.5555555555555556,
              "#d8576b"
             ],
             [
              0.6666666666666666,
              "#ed7953"
             ],
             [
              0.7777777777777778,
              "#fb9f3a"
             ],
             [
              0.8888888888888888,
              "#fdca26"
             ],
             [
              1,
              "#f0f921"
             ]
            ],
            "type": "histogram2dcontour"
           }
          ],
          "mesh3d": [
           {
            "colorbar": {
             "outlinewidth": 0,
             "ticks": ""
            },
            "type": "mesh3d"
           }
          ],
          "parcoords": [
           {
            "line": {
             "colorbar": {
              "outlinewidth": 0,
              "ticks": ""
             }
            },
            "type": "parcoords"
           }
          ],
          "pie": [
           {
            "automargin": true,
            "type": "pie"
           }
          ],
          "scatter": [
           {
            "fillpattern": {
             "fillmode": "overlay",
             "size": 10,
             "solidity": 0.2
            },
            "type": "scatter"
           }
          ],
          "scatter3d": [
           {
            "line": {
             "colorbar": {
              "outlinewidth": 0,
              "ticks": ""
             }
            },
            "marker": {
             "colorbar": {
              "outlinewidth": 0,
              "ticks": ""
             }
            },
            "type": "scatter3d"
           }
          ],
          "scattercarpet": [
           {
            "marker": {
             "colorbar": {
              "outlinewidth": 0,
              "ticks": ""
             }
            },
            "type": "scattercarpet"
           }
          ],
          "scattergeo": [
           {
            "marker": {
             "colorbar": {
              "outlinewidth": 0,
              "ticks": ""
             }
            },
            "type": "scattergeo"
           }
          ],
          "scattergl": [
           {
            "marker": {
             "colorbar": {
              "outlinewidth": 0,
              "ticks": ""
             }
            },
            "type": "scattergl"
           }
          ],
          "scattermapbox": [
           {
            "marker": {
             "colorbar": {
              "outlinewidth": 0,
              "ticks": ""
             }
            },
            "type": "scattermapbox"
           }
          ],
          "scatterpolar": [
           {
            "marker": {
             "colorbar": {
              "outlinewidth": 0,
              "ticks": ""
             }
            },
            "type": "scatterpolar"
           }
          ],
          "scatterpolargl": [
           {
            "marker": {
             "colorbar": {
              "outlinewidth": 0,
              "ticks": ""
             }
            },
            "type": "scatterpolargl"
           }
          ],
          "scatterternary": [
           {
            "marker": {
             "colorbar": {
              "outlinewidth": 0,
              "ticks": ""
             }
            },
            "type": "scatterternary"
           }
          ],
          "surface": [
           {
            "colorbar": {
             "outlinewidth": 0,
             "ticks": ""
            },
            "colorscale": [
             [
              0,
              "#0d0887"
             ],
             [
              0.1111111111111111,
              "#46039f"
             ],
             [
              0.2222222222222222,
              "#7201a8"
             ],
             [
              0.3333333333333333,
              "#9c179e"
             ],
             [
              0.4444444444444444,
              "#bd3786"
             ],
             [
              0.5555555555555556,
              "#d8576b"
             ],
             [
              0.6666666666666666,
              "#ed7953"
             ],
             [
              0.7777777777777778,
              "#fb9f3a"
             ],
             [
              0.8888888888888888,
              "#fdca26"
             ],
             [
              1,
              "#f0f921"
             ]
            ],
            "type": "surface"
           }
          ],
          "table": [
           {
            "cells": {
             "fill": {
              "color": "#EBF0F8"
             },
             "line": {
              "color": "white"
             }
            },
            "header": {
             "fill": {
              "color": "#C8D4E3"
             },
             "line": {
              "color": "white"
             }
            },
            "type": "table"
           }
          ]
         },
         "layout": {
          "annotationdefaults": {
           "arrowcolor": "#2a3f5f",
           "arrowhead": 0,
           "arrowwidth": 1
          },
          "autotypenumbers": "strict",
          "coloraxis": {
           "colorbar": {
            "outlinewidth": 0,
            "ticks": ""
           }
          },
          "colorscale": {
           "diverging": [
            [
             0,
             "#8e0152"
            ],
            [
             0.1,
             "#c51b7d"
            ],
            [
             0.2,
             "#de77ae"
            ],
            [
             0.3,
             "#f1b6da"
            ],
            [
             0.4,
             "#fde0ef"
            ],
            [
             0.5,
             "#f7f7f7"
            ],
            [
             0.6,
             "#e6f5d0"
            ],
            [
             0.7,
             "#b8e186"
            ],
            [
             0.8,
             "#7fbc41"
            ],
            [
             0.9,
             "#4d9221"
            ],
            [
             1,
             "#276419"
            ]
           ],
           "sequential": [
            [
             0,
             "#0d0887"
            ],
            [
             0.1111111111111111,
             "#46039f"
            ],
            [
             0.2222222222222222,
             "#7201a8"
            ],
            [
             0.3333333333333333,
             "#9c179e"
            ],
            [
             0.4444444444444444,
             "#bd3786"
            ],
            [
             0.5555555555555556,
             "#d8576b"
            ],
            [
             0.6666666666666666,
             "#ed7953"
            ],
            [
             0.7777777777777778,
             "#fb9f3a"
            ],
            [
             0.8888888888888888,
             "#fdca26"
            ],
            [
             1,
             "#f0f921"
            ]
           ],
           "sequentialminus": [
            [
             0,
             "#0d0887"
            ],
            [
             0.1111111111111111,
             "#46039f"
            ],
            [
             0.2222222222222222,
             "#7201a8"
            ],
            [
             0.3333333333333333,
             "#9c179e"
            ],
            [
             0.4444444444444444,
             "#bd3786"
            ],
            [
             0.5555555555555556,
             "#d8576b"
            ],
            [
             0.6666666666666666,
             "#ed7953"
            ],
            [
             0.7777777777777778,
             "#fb9f3a"
            ],
            [
             0.8888888888888888,
             "#fdca26"
            ],
            [
             1,
             "#f0f921"
            ]
           ]
          },
          "colorway": [
           "#636efa",
           "#EF553B",
           "#00cc96",
           "#ab63fa",
           "#FFA15A",
           "#19d3f3",
           "#FF6692",
           "#B6E880",
           "#FF97FF",
           "#FECB52"
          ],
          "font": {
           "color": "#2a3f5f"
          },
          "geo": {
           "bgcolor": "white",
           "lakecolor": "white",
           "landcolor": "#E5ECF6",
           "showlakes": true,
           "showland": true,
           "subunitcolor": "white"
          },
          "hoverlabel": {
           "align": "left"
          },
          "hovermode": "closest",
          "mapbox": {
           "style": "light"
          },
          "paper_bgcolor": "white",
          "plot_bgcolor": "#E5ECF6",
          "polar": {
           "angularaxis": {
            "gridcolor": "white",
            "linecolor": "white",
            "ticks": ""
           },
           "bgcolor": "#E5ECF6",
           "radialaxis": {
            "gridcolor": "white",
            "linecolor": "white",
            "ticks": ""
           }
          },
          "scene": {
           "xaxis": {
            "backgroundcolor": "#E5ECF6",
            "gridcolor": "white",
            "gridwidth": 2,
            "linecolor": "white",
            "showbackground": true,
            "ticks": "",
            "zerolinecolor": "white"
           },
           "yaxis": {
            "backgroundcolor": "#E5ECF6",
            "gridcolor": "white",
            "gridwidth": 2,
            "linecolor": "white",
            "showbackground": true,
            "ticks": "",
            "zerolinecolor": "white"
           },
           "zaxis": {
            "backgroundcolor": "#E5ECF6",
            "gridcolor": "white",
            "gridwidth": 2,
            "linecolor": "white",
            "showbackground": true,
            "ticks": "",
            "zerolinecolor": "white"
           }
          },
          "shapedefaults": {
           "line": {
            "color": "#2a3f5f"
           }
          },
          "ternary": {
           "aaxis": {
            "gridcolor": "white",
            "linecolor": "white",
            "ticks": ""
           },
           "baxis": {
            "gridcolor": "white",
            "linecolor": "white",
            "ticks": ""
           },
           "bgcolor": "#E5ECF6",
           "caxis": {
            "gridcolor": "white",
            "linecolor": "white",
            "ticks": ""
           }
          },
          "title": {
           "x": 0.05
          },
          "xaxis": {
           "automargin": true,
           "gridcolor": "white",
           "linecolor": "white",
           "ticks": "",
           "title": {
            "standoff": 15
           },
           "zerolinecolor": "white",
           "zerolinewidth": 2
          },
          "yaxis": {
           "automargin": true,
           "gridcolor": "white",
           "linecolor": "white",
           "ticks": "",
           "title": {
            "standoff": 15
           },
           "zerolinecolor": "white",
           "zerolinewidth": 2
          }
         }
        },
        "width": 500,
        "xaxis": {
         "anchor": "y",
         "categoryarray": [
          "0.5-5KM",
          "Maior 5KM"
         ],
         "categoryorder": "array",
         "domain": [
          0,
          1
         ],
         "title": {
          "text": "plataforma"
         }
        },
        "yaxis": {
         "anchor": "x",
         "domain": [
          0,
          1
         ],
         "title": {
          "text": "counts"
         }
        }
       }
      },
      "text/html": [
       "<div>                            <div id=\"76362dc5-9e6a-4a3e-a60b-8e1aa69ebdc2\" class=\"plotly-graph-div\" style=\"height:400px; width:500px;\"></div>            <script type=\"text/javascript\">                require([\"plotly\"], function(Plotly) {                    window.PLOTLYENV=window.PLOTLYENV || {};                                    if (document.getElementById(\"76362dc5-9e6a-4a3e-a60b-8e1aa69ebdc2\")) {                    Plotly.newPlot(                        \"76362dc5-9e6a-4a3e-a60b-8e1aa69ebdc2\",                        [{\"alignmentgroup\":\"True\",\"hovertemplate\":\"plataforma=%{x}<br>counts=%{y}<extra></extra>\",\"legendgroup\":\"0.5-5KM\",\"marker\":{\"color\":\"#636efa\",\"pattern\":{\"shape\":\"\"}},\"name\":\"0.5-5KM\",\"offsetgroup\":\"0.5-5KM\",\"orientation\":\"v\",\"showlegend\":true,\"textposition\":\"outside\",\"texttemplate\":\"%{y:Plataforma}\",\"x\":[\"0.5-5KM\"],\"xaxis\":\"x\",\"y\":[5952],\"yaxis\":\"y\",\"type\":\"bar\",\"textfont\":{\"size\":12},\"cliponaxis\":false,\"textangle\":0},{\"alignmentgroup\":\"True\",\"hovertemplate\":\"plataforma=%{x}<br>counts=%{y}<extra></extra>\",\"legendgroup\":\"Maior 5KM\",\"marker\":{\"color\":\"#EF553B\",\"pattern\":{\"shape\":\"\"}},\"name\":\"Maior 5KM\",\"offsetgroup\":\"Maior 5KM\",\"orientation\":\"v\",\"showlegend\":true,\"textposition\":\"outside\",\"texttemplate\":\"%{y:Plataforma}\",\"x\":[\"Maior 5KM\"],\"xaxis\":\"x\",\"y\":[623841],\"yaxis\":\"y\",\"type\":\"bar\",\"textfont\":{\"size\":12},\"cliponaxis\":false,\"textangle\":0}],                        {\"template\":{\"data\":{\"histogram2dcontour\":[{\"type\":\"histogram2dcontour\",\"colorbar\":{\"outlinewidth\":0,\"ticks\":\"\"},\"colorscale\":[[0.0,\"#0d0887\"],[0.1111111111111111,\"#46039f\"],[0.2222222222222222,\"#7201a8\"],[0.3333333333333333,\"#9c179e\"],[0.4444444444444444,\"#bd3786\"],[0.5555555555555556,\"#d8576b\"],[0.6666666666666666,\"#ed7953\"],[0.7777777777777778,\"#fb9f3a\"],[0.8888888888888888,\"#fdca26\"],[1.0,\"#f0f921\"]]}],\"choropleth\":[{\"type\":\"choropleth\",\"colorbar\":{\"outlinewidth\":0,\"ticks\":\"\"}}],\"histogram2d\":[{\"type\":\"histogram2d\",\"colorbar\":{\"outlinewidth\":0,\"ticks\":\"\"},\"colorscale\":[[0.0,\"#0d0887\"],[0.1111111111111111,\"#46039f\"],[0.2222222222222222,\"#7201a8\"],[0.3333333333333333,\"#9c179e\"],[0.4444444444444444,\"#bd3786\"],[0.5555555555555556,\"#d8576b\"],[0.6666666666666666,\"#ed7953\"],[0.7777777777777778,\"#fb9f3a\"],[0.8888888888888888,\"#fdca26\"],[1.0,\"#f0f921\"]]}],\"heatmap\":[{\"type\":\"heatmap\",\"colorbar\":{\"outlinewidth\":0,\"ticks\":\"\"},\"colorscale\":[[0.0,\"#0d0887\"],[0.1111111111111111,\"#46039f\"],[0.2222222222222222,\"#7201a8\"],[0.3333333333333333,\"#9c179e\"],[0.4444444444444444,\"#bd3786\"],[0.5555555555555556,\"#d8576b\"],[0.6666666666666666,\"#ed7953\"],[0.7777777777777778,\"#fb9f3a\"],[0.8888888888888888,\"#fdca26\"],[1.0,\"#f0f921\"]]}],\"heatmapgl\":[{\"type\":\"heatmapgl\",\"colorbar\":{\"outlinewidth\":0,\"ticks\":\"\"},\"colorscale\":[[0.0,\"#0d0887\"],[0.1111111111111111,\"#46039f\"],[0.2222222222222222,\"#7201a8\"],[0.3333333333333333,\"#9c179e\"],[0.4444444444444444,\"#bd3786\"],[0.5555555555555556,\"#d8576b\"],[0.6666666666666666,\"#ed7953\"],[0.7777777777777778,\"#fb9f3a\"],[0.8888888888888888,\"#fdca26\"],[1.0,\"#f0f921\"]]}],\"contourcarpet\":[{\"type\":\"contourcarpet\",\"colorbar\":{\"outlinewidth\":0,\"ticks\":\"\"}}],\"contour\":[{\"type\":\"contour\",\"colorbar\":{\"outlinewidth\":0,\"ticks\":\"\"},\"colorscale\":[[0.0,\"#0d0887\"],[0.1111111111111111,\"#46039f\"],[0.2222222222222222,\"#7201a8\"],[0.3333333333333333,\"#9c179e\"],[0.4444444444444444,\"#bd3786\"],[0.5555555555555556,\"#d8576b\"],[0.6666666666666666,\"#ed7953\"],[0.7777777777777778,\"#fb9f3a\"],[0.8888888888888888,\"#fdca26\"],[1.0,\"#f0f921\"]]}],\"surface\":[{\"type\":\"surface\",\"colorbar\":{\"outlinewidth\":0,\"ticks\":\"\"},\"colorscale\":[[0.0,\"#0d0887\"],[0.1111111111111111,\"#46039f\"],[0.2222222222222222,\"#7201a8\"],[0.3333333333333333,\"#9c179e\"],[0.4444444444444444,\"#bd3786\"],[0.5555555555555556,\"#d8576b\"],[0.6666666666666666,\"#ed7953\"],[0.7777777777777778,\"#fb9f3a\"],[0.8888888888888888,\"#fdca26\"],[1.0,\"#f0f921\"]]}],\"mesh3d\":[{\"type\":\"mesh3d\",\"colorbar\":{\"outlinewidth\":0,\"ticks\":\"\"}}],\"scatter\":[{\"fillpattern\":{\"fillmode\":\"overlay\",\"size\":10,\"solidity\":0.2},\"type\":\"scatter\"}],\"parcoords\":[{\"type\":\"parcoords\",\"line\":{\"colorbar\":{\"outlinewidth\":0,\"ticks\":\"\"}}}],\"scatterpolargl\":[{\"type\":\"scatterpolargl\",\"marker\":{\"colorbar\":{\"outlinewidth\":0,\"ticks\":\"\"}}}],\"bar\":[{\"error_x\":{\"color\":\"#2a3f5f\"},\"error_y\":{\"color\":\"#2a3f5f\"},\"marker\":{\"line\":{\"color\":\"#E5ECF6\",\"width\":0.5},\"pattern\":{\"fillmode\":\"overlay\",\"size\":10,\"solidity\":0.2}},\"type\":\"bar\"}],\"scattergeo\":[{\"type\":\"scattergeo\",\"marker\":{\"colorbar\":{\"outlinewidth\":0,\"ticks\":\"\"}}}],\"scatterpolar\":[{\"type\":\"scatterpolar\",\"marker\":{\"colorbar\":{\"outlinewidth\":0,\"ticks\":\"\"}}}],\"histogram\":[{\"marker\":{\"pattern\":{\"fillmode\":\"overlay\",\"size\":10,\"solidity\":0.2}},\"type\":\"histogram\"}],\"scattergl\":[{\"type\":\"scattergl\",\"marker\":{\"colorbar\":{\"outlinewidth\":0,\"ticks\":\"\"}}}],\"scatter3d\":[{\"type\":\"scatter3d\",\"line\":{\"colorbar\":{\"outlinewidth\":0,\"ticks\":\"\"}},\"marker\":{\"colorbar\":{\"outlinewidth\":0,\"ticks\":\"\"}}}],\"scattermapbox\":[{\"type\":\"scattermapbox\",\"marker\":{\"colorbar\":{\"outlinewidth\":0,\"ticks\":\"\"}}}],\"scatterternary\":[{\"type\":\"scatterternary\",\"marker\":{\"colorbar\":{\"outlinewidth\":0,\"ticks\":\"\"}}}],\"scattercarpet\":[{\"type\":\"scattercarpet\",\"marker\":{\"colorbar\":{\"outlinewidth\":0,\"ticks\":\"\"}}}],\"carpet\":[{\"aaxis\":{\"endlinecolor\":\"#2a3f5f\",\"gridcolor\":\"white\",\"linecolor\":\"white\",\"minorgridcolor\":\"white\",\"startlinecolor\":\"#2a3f5f\"},\"baxis\":{\"endlinecolor\":\"#2a3f5f\",\"gridcolor\":\"white\",\"linecolor\":\"white\",\"minorgridcolor\":\"white\",\"startlinecolor\":\"#2a3f5f\"},\"type\":\"carpet\"}],\"table\":[{\"cells\":{\"fill\":{\"color\":\"#EBF0F8\"},\"line\":{\"color\":\"white\"}},\"header\":{\"fill\":{\"color\":\"#C8D4E3\"},\"line\":{\"color\":\"white\"}},\"type\":\"table\"}],\"barpolar\":[{\"marker\":{\"line\":{\"color\":\"#E5ECF6\",\"width\":0.5},\"pattern\":{\"fillmode\":\"overlay\",\"size\":10,\"solidity\":0.2}},\"type\":\"barpolar\"}],\"pie\":[{\"automargin\":true,\"type\":\"pie\"}]},\"layout\":{\"autotypenumbers\":\"strict\",\"colorway\":[\"#636efa\",\"#EF553B\",\"#00cc96\",\"#ab63fa\",\"#FFA15A\",\"#19d3f3\",\"#FF6692\",\"#B6E880\",\"#FF97FF\",\"#FECB52\"],\"font\":{\"color\":\"#2a3f5f\"},\"hovermode\":\"closest\",\"hoverlabel\":{\"align\":\"left\"},\"paper_bgcolor\":\"white\",\"plot_bgcolor\":\"#E5ECF6\",\"polar\":{\"bgcolor\":\"#E5ECF6\",\"angularaxis\":{\"gridcolor\":\"white\",\"linecolor\":\"white\",\"ticks\":\"\"},\"radialaxis\":{\"gridcolor\":\"white\",\"linecolor\":\"white\",\"ticks\":\"\"}},\"ternary\":{\"bgcolor\":\"#E5ECF6\",\"aaxis\":{\"gridcolor\":\"white\",\"linecolor\":\"white\",\"ticks\":\"\"},\"baxis\":{\"gridcolor\":\"white\",\"linecolor\":\"white\",\"ticks\":\"\"},\"caxis\":{\"gridcolor\":\"white\",\"linecolor\":\"white\",\"ticks\":\"\"}},\"coloraxis\":{\"colorbar\":{\"outlinewidth\":0,\"ticks\":\"\"}},\"colorscale\":{\"sequential\":[[0.0,\"#0d0887\"],[0.1111111111111111,\"#46039f\"],[0.2222222222222222,\"#7201a8\"],[0.3333333333333333,\"#9c179e\"],[0.4444444444444444,\"#bd3786\"],[0.5555555555555556,\"#d8576b\"],[0.6666666666666666,\"#ed7953\"],[0.7777777777777778,\"#fb9f3a\"],[0.8888888888888888,\"#fdca26\"],[1.0,\"#f0f921\"]],\"sequentialminus\":[[0.0,\"#0d0887\"],[0.1111111111111111,\"#46039f\"],[0.2222222222222222,\"#7201a8\"],[0.3333333333333333,\"#9c179e\"],[0.4444444444444444,\"#bd3786\"],[0.5555555555555556,\"#d8576b\"],[0.6666666666666666,\"#ed7953\"],[0.7777777777777778,\"#fb9f3a\"],[0.8888888888888888,\"#fdca26\"],[1.0,\"#f0f921\"]],\"diverging\":[[0,\"#8e0152\"],[0.1,\"#c51b7d\"],[0.2,\"#de77ae\"],[0.3,\"#f1b6da\"],[0.4,\"#fde0ef\"],[0.5,\"#f7f7f7\"],[0.6,\"#e6f5d0\"],[0.7,\"#b8e186\"],[0.8,\"#7fbc41\"],[0.9,\"#4d9221\"],[1,\"#276419\"]]},\"xaxis\":{\"gridcolor\":\"white\",\"linecolor\":\"white\",\"ticks\":\"\",\"title\":{\"standoff\":15},\"zerolinecolor\":\"white\",\"automargin\":true,\"zerolinewidth\":2},\"yaxis\":{\"gridcolor\":\"white\",\"linecolor\":\"white\",\"ticks\":\"\",\"title\":{\"standoff\":15},\"zerolinecolor\":\"white\",\"automargin\":true,\"zerolinewidth\":2},\"scene\":{\"xaxis\":{\"backgroundcolor\":\"#E5ECF6\",\"gridcolor\":\"white\",\"linecolor\":\"white\",\"showbackground\":true,\"ticks\":\"\",\"zerolinecolor\":\"white\",\"gridwidth\":2},\"yaxis\":{\"backgroundcolor\":\"#E5ECF6\",\"gridcolor\":\"white\",\"linecolor\":\"white\",\"showbackground\":true,\"ticks\":\"\",\"zerolinecolor\":\"white\",\"gridwidth\":2},\"zaxis\":{\"backgroundcolor\":\"#E5ECF6\",\"gridcolor\":\"white\",\"linecolor\":\"white\",\"showbackground\":true,\"ticks\":\"\",\"zerolinecolor\":\"white\",\"gridwidth\":2}},\"shapedefaults\":{\"line\":{\"color\":\"#2a3f5f\"}},\"annotationdefaults\":{\"arrowcolor\":\"#2a3f5f\",\"arrowhead\":0,\"arrowwidth\":1},\"geo\":{\"bgcolor\":\"white\",\"landcolor\":\"#E5ECF6\",\"subunitcolor\":\"white\",\"showland\":true,\"showlakes\":true,\"lakecolor\":\"white\"},\"title\":{\"x\":0.05},\"mapbox\":{\"style\":\"light\"}}},\"xaxis\":{\"anchor\":\"y\",\"domain\":[0.0,1.0],\"title\":{\"text\":\"plataforma\"},\"categoryorder\":\"array\",\"categoryarray\":[\"0.5-5KM\",\"Maior 5KM\"]},\"yaxis\":{\"anchor\":\"x\",\"domain\":[0.0,1.0],\"title\":{\"text\":\"counts\"}},\"legend\":{\"title\":{\"text\":\"plataforma\"},\"tracegroupgap\":0},\"margin\":{\"t\":60},\"barmode\":\"relative\",\"height\":400,\"width\":500},                        {\"responsive\": true}                    ).then(function(){\n",
       "                            \n",
       "var gd = document.getElementById('76362dc5-9e6a-4a3e-a60b-8e1aa69ebdc2');\n",
       "var x = new MutationObserver(function (mutations, observer) {{\n",
       "        var display = window.getComputedStyle(gd).display;\n",
       "        if (!display || display === 'none') {{\n",
       "            console.log([gd, 'removed!']);\n",
       "            Plotly.purge(gd);\n",
       "            observer.disconnect();\n",
       "        }}\n",
       "}});\n",
       "\n",
       "// Listen for the removal of the full notebook cells\n",
       "var notebookContainer = gd.closest('#notebook-container');\n",
       "if (notebookContainer) {{\n",
       "    x.observe(notebookContainer, {childList: true});\n",
       "}}\n",
       "\n",
       "// Listen for the clearing of the current output cell\n",
       "var outputEl = gd.closest('.output');\n",
       "if (outputEl) {{\n",
       "    x.observe(outputEl, {childList: true});\n",
       "}}\n",
       "\n",
       "                        })                };                });            </script>        </div>"
      ]
     },
     "metadata": {},
     "output_type": "display_data"
    }
   ],
   "source": [
    "fig = px.bar(dfDist_0a5KMP, \n",
    "             x='plataforma', \n",
    "             y='counts',\n",
    "             color='plataforma',\n",
    "             text_auto='Plataforma',\n",
    "             height=400,\n",
    "            width= 500)\n",
    "fig.update_traces(textfont_size=12, \n",
    "                  textangle=0, \n",
    "                  textposition=\"outside\", \n",
    "                  cliponaxis=False)\n",
    "fig.show()"
   ]
  },
  {
   "cell_type": "code",
   "execution_count": 127,
   "id": "7665a8af",
   "metadata": {},
   "outputs": [
    {
     "data": {
      "application/vnd.jupyter.widget-view+json": {
       "model_id": "b5d0f2198a2d47f197966e8ca2d5f439",
       "version_major": 2,
       "version_minor": 0
      },
      "text/plain": [
       "  0%|          | 0/629793 [00:00<?, ?it/s]"
      ]
     },
     "metadata": {},
     "output_type": "display_data"
    }
   ],
   "source": [
    "def distancia_plataforma_entre_0_5KM(dist):\n",
    "    \n",
    "    if dist <= 5000:\n",
    "        return True\n",
    "    else:\n",
    "        return False    \n",
    "\n",
    "\n",
    "dfDadosDistP['dist_0_5KM_Pla'] = dfDadosDistP['dist_plat'].progress_apply(lambda x: distancia_plataforma_entre_0_5KM(float(x)))"
   ]
  },
  {
   "cell_type": "code",
   "execution_count": 128,
   "id": "bc2ba76f",
   "metadata": {},
   "outputs": [
    {
     "data": {
      "text/plain": [
       "5952"
      ]
     },
     "execution_count": 128,
     "metadata": {},
     "output_type": "execute_result"
    }
   ],
   "source": [
    "noDist0_5KMPla = dfDadosDistP[dfDadosDistP['dist_0_5KM_Pla'] == True].shape[0]\n",
    "noDist0_5KMPla"
   ]
  },
  {
   "cell_type": "code",
   "execution_count": 129,
   "id": "d339a6b3",
   "metadata": {},
   "outputs": [
    {
     "data": {
      "text/html": [
       "<div>\n",
       "<style scoped>\n",
       "    .dataframe tbody tr th:only-of-type {\n",
       "        vertical-align: middle;\n",
       "    }\n",
       "\n",
       "    .dataframe tbody tr th {\n",
       "        vertical-align: top;\n",
       "    }\n",
       "\n",
       "    .dataframe thead th {\n",
       "        text-align: right;\n",
       "    }\n",
       "</style>\n",
       "<table border=\"1\" class=\"dataframe\">\n",
       "  <thead>\n",
       "    <tr style=\"text-align: right;\">\n",
       "      <th></th>\n",
       "      <th>plataforma</th>\n",
       "      <th>counts</th>\n",
       "    </tr>\n",
       "  </thead>\n",
       "  <tbody>\n",
       "    <tr>\n",
       "      <th>0</th>\n",
       "      <td>0-5KM</td>\n",
       "      <td>5952</td>\n",
       "    </tr>\n",
       "    <tr>\n",
       "      <th>1</th>\n",
       "      <td>Maior 5KM</td>\n",
       "      <td>623841</td>\n",
       "    </tr>\n",
       "  </tbody>\n",
       "</table>\n",
       "</div>"
      ],
      "text/plain": [
       "  plataforma  counts\n",
       "0      0-5KM    5952\n",
       "1  Maior 5KM  623841"
      ]
     },
     "execution_count": 129,
     "metadata": {},
     "output_type": "execute_result"
    }
   ],
   "source": [
    "dictDist_0a5KM = {\n",
    "    'plataforma': ['0-5KM', 'Maior 5KM'],\n",
    "    'counts': [noDist0_5KMPla, dfDadosDistP.shape[0] - noDist0_5KMPla]\n",
    "}\n",
    "dfDist_0a5KMP = pd.DataFrame.from_dict(dictDist_0a5KM)\n",
    "dfDist_0a5KMP"
   ]
  },
  {
   "cell_type": "code",
   "execution_count": 130,
   "id": "b5bbaa9e",
   "metadata": {},
   "outputs": [
    {
     "data": {
      "text/plain": [
       "([<matplotlib.patches.Wedge at 0x7f8e0b0e0df0>,\n",
       "  <matplotlib.patches.Wedge at 0x7f8e0b0e0f10>],\n",
       " [Text(1.0995152021067345, 0.032654560725680834, '0-5KM'),\n",
       "  Text(-1.1494931668377053, -0.03413882530819743, 'Maior 5KM')],\n",
       " [Text(0.5997355647854914, 0.01781157857764409, '0.9%'),\n",
       "  Text(-0.6497135290821812, -0.019295857782894197, '99.1%')])"
      ]
     },
     "execution_count": 130,
     "metadata": {},
     "output_type": "execute_result"
    },
    {
     "data": {
      "image/png": "[encoded data removed]",
      "text/plain": [
       "<Figure size 640x480 with 1 Axes>"
      ]
     },
     "metadata": {},
     "output_type": "display_data"
    }
   ],
   "source": [
    "plt.pie(dfDist_0a5KMP.counts, labels=dfDist_0a5KMP.plataforma ,  \n",
    "        autopct='%1.1f%%', explode=[0, 0.05])"
   ]
  },
  {
   "cell_type": "markdown",
   "id": "8a02e5a7",
   "metadata": {},
   "source": [
    "## salvando os dados para distancia a Paltaforma "
   ]
  },
  {
   "cell_type": "code",
   "execution_count": 131,
   "id": "9c536877",
   "metadata": {},
   "outputs": [
    {
     "data": {
      "text/plain": [
       "Index(['Unnamed: 0', 'ID', 'Arte', 'SubArte', 'TI', 'Comunidade', 'Pesqueiro',\n",
       "       'Espécie', 'Captura(kg)', 'Valor/Kg(R$)', 'Data Saída', 'Hora Saída',\n",
       "       'Data Chegada', 'Hora Chegada', 'Tipo Embarc.', 'Núm. Linhas',\n",
       "       'Núm. Anzóis', 'Tamanho Anzol', 'Isca', 'Espécie Alvo', 'Comp. Rede',\n",
       "       'Quant. Dias Pescou Mês', 'Observação', 'Profund. Lance',\n",
       "       'Houve Captura', 'Litros Combust.', 'Combustível(R$)', 'Rancho(R$)',\n",
       "       'Gêlo(R$)', 'Isca(R$)', 'Venda Direta', 'Consumo', 'Peixaria,Mercado',\n",
       "       'Ano', 'Mês', 'KgTotal', 'R$Total', 'CPUE kg/dia', 'Valoração',\n",
       "       'Embarcação', 'corresponde', 'CoordX', 'CoordY', 'dist_gas',\n",
       "       'dist_plat', 'menor_500M', 'entre_05_5KM', 'dist_0_500M_Pla',\n",
       "       'dist_05_5KM_Pla', 'dist_0_5KM_Pla'],\n",
       "      dtype='object')"
      ]
     },
     "execution_count": 131,
     "metadata": {},
     "output_type": "execute_result"
    }
   ],
   "source": [
    "dfDadosDistP.columns"
   ]
  },
  {
   "cell_type": "code",
   "execution_count": 132,
   "id": "56d05f68",
   "metadata": {},
   "outputs": [
    {
     "data": {
      "application/vnd.jupyter.widget-view+json": {
       "model_id": "76d5ba33e7624537a5f05eef7a639896",
       "version_major": 2,
       "version_minor": 0
      },
      "text/plain": [
       "  0%|          | 0/629793 [00:00<?, ?it/s]"
      ]
     },
     "metadata": {},
     "output_type": "display_data"
    }
   ],
   "source": [
    "# 'dist_05_5KM_Pla'] = dfDadosDist['dist_plat']\n",
    "def distancia_intervalo_Plataforma_500_1KM(dist):\n",
    "    \n",
    "    if dist < 1000 and dist >= 500:\n",
    "        return True\n",
    "    else:\n",
    "        return False\n",
    "        \n",
    "dfDadosDistP['dist_05_1KM_Pla'] = dfDadosDistP['dist_plat'].progress_apply(distancia_intervalo_Plataforma_500_1KM)"
   ]
  },
  {
   "cell_type": "code",
   "execution_count": 133,
   "id": "8c1260f4",
   "metadata": {},
   "outputs": [
    {
     "data": {
      "text/plain": [
       "(0, 51)"
      ]
     },
     "execution_count": 133,
     "metadata": {},
     "output_type": "execute_result"
    }
   ],
   "source": [
    "dfDadosDistP[dfDadosDistP['dist_05_1KM_Pla'] == True].shape"
   ]
  },
  {
   "cell_type": "code",
   "execution_count": 134,
   "id": "27e68719",
   "metadata": {},
   "outputs": [
    {
     "data": {
      "application/vnd.jupyter.widget-view+json": {
       "model_id": "5ca5369420a2426c9f776b2ced248a4a",
       "version_major": 2,
       "version_minor": 0
      },
      "text/plain": [
       "  0%|          | 0/629793 [00:00<?, ?it/s]"
      ]
     },
     "metadata": {},
     "output_type": "display_data"
    },
    {
     "data": {
      "text/plain": [
       "(3847, 52)"
      ]
     },
     "execution_count": 134,
     "metadata": {},
     "output_type": "execute_result"
    }
   ],
   "source": [
    "# 'dist_05_5KM_Pla'] = dfDadosDist['dist_plat']\n",
    "def distancia_intervalo_Plataforma_1_2KM(dist):\n",
    "    if dist < 2000 and dist >= 1000:\n",
    "        return True\n",
    "    else:\n",
    "        return False\n",
    "    \n",
    "    \n",
    "dfDadosDistP['dist_1_2KM_Pla'] = dfDadosDistP['dist_plat'].progress_apply(distancia_intervalo_Plataforma_1_2KM)\n",
    "dfDadosDistP[dfDadosDistP['dist_1_2KM_Pla'] == True].shape"
   ]
  },
  {
   "cell_type": "code",
   "execution_count": 135,
   "id": "329c200e",
   "metadata": {},
   "outputs": [
    {
     "data": {
      "application/vnd.jupyter.widget-view+json": {
       "model_id": "cc8b9776047b477089d38f7db3693a63",
       "version_major": 2,
       "version_minor": 0
      },
      "text/plain": [
       "  0%|          | 0/629793 [00:00<?, ?it/s]"
      ]
     },
     "metadata": {},
     "output_type": "display_data"
    },
    {
     "data": {
      "text/plain": [
       "(453, 53)"
      ]
     },
     "execution_count": 135,
     "metadata": {},
     "output_type": "execute_result"
    }
   ],
   "source": [
    "# 'dist_05_5KM_Pla'] = dfDadosDist['dist_plat']\n",
    "def distancia_intervalo_Plataforma_2_3KM(dist):\n",
    "    if dist < 3000 and dist >= 2000:\n",
    "        return True\n",
    "    else:\n",
    "        return False\n",
    "   \n",
    "    \n",
    "dfDadosDistP['dist_2_3KM_Pla'] = dfDadosDistP['dist_plat'].progress_apply(distancia_intervalo_Plataforma_2_3KM)\n",
    "dfDadosDistP[dfDadosDistP['dist_2_3KM_Pla'] == True].shape"
   ]
  },
  {
   "cell_type": "code",
   "execution_count": 136,
   "id": "25f3c463",
   "metadata": {},
   "outputs": [
    {
     "data": {
      "application/vnd.jupyter.widget-view+json": {
       "model_id": "247d8e380e284e04ab454042427a1a24",
       "version_major": 2,
       "version_minor": 0
      },
      "text/plain": [
       "  0%|          | 0/629793 [00:00<?, ?it/s]"
      ]
     },
     "metadata": {},
     "output_type": "display_data"
    },
    {
     "data": {
      "text/plain": [
       "(834, 54)"
      ]
     },
     "execution_count": 136,
     "metadata": {},
     "output_type": "execute_result"
    }
   ],
   "source": [
    "# 'dist_05_5KM_Pla'] = dfDadosDist['dist_plat']\n",
    "def distancia_intervalo_Plataforma_3_4KM(dist):\n",
    "    if dist < 4000.0 and dist >= 3000.0:\n",
    "        return True\n",
    "    else:\n",
    "        return False\n",
    "    \n",
    "    \n",
    "dfDadosDistP['dist_3_4KM_Pla'] = dfDadosDistP['dist_plat'].progress_apply(distancia_intervalo_Plataforma_3_4KM)\n",
    "dfDadosDistP[dfDadosDistP['dist_3_4KM_Pla'] == True].shape"
   ]
  },
  {
   "cell_type": "code",
   "execution_count": 137,
   "id": "e03e6088",
   "metadata": {},
   "outputs": [
    {
     "data": {
      "application/vnd.jupyter.widget-view+json": {
       "model_id": "2a16179d59044b35b14b173435ee9247",
       "version_major": 2,
       "version_minor": 0
      },
      "text/plain": [
       "  0%|          | 0/629793 [00:00<?, ?it/s]"
      ]
     },
     "metadata": {},
     "output_type": "display_data"
    },
    {
     "data": {
      "text/plain": [
       "(818, 55)"
      ]
     },
     "execution_count": 137,
     "metadata": {},
     "output_type": "execute_result"
    }
   ],
   "source": [
    "# 'dist_05_5KM_Pla'] = dfDadosDist['dist_plat']\n",
    "def distancia_intervalo_Plataforma_4_5KM(dist):\n",
    "    if dist < 5000 and dist >= 4000:\n",
    "        return True\n",
    "    else:\n",
    "        return False\n",
    "   \n",
    "    \n",
    "dfDadosDistP['dist_4_5KM_Pla'] = dfDadosDistP['dist_plat'].progress_apply(distancia_intervalo_Plataforma_4_5KM)\n",
    "dfDadosDistP[dfDadosDistP['dist_4_5KM_Pla'] == True].shape"
   ]
  },
  {
   "cell_type": "code",
   "execution_count": 139,
   "id": "8c8f6a51",
   "metadata": {},
   "outputs": [
    {
     "name": "stdout",
     "output_type": "stream",
     "text": [
      "dist_05_1KM_Pla  =  0\n",
      "dist_1_2KM_Pla =  3847\n",
      "dist_2_3KM_Pla =  453\n",
      "dist_3_4KM_Pla =  834\n",
      "dist_4_5KM_Pla =  818\n"
     ]
    }
   ],
   "source": [
    "print('dist_05_1KM_Pla  = ' , dfDadosDistP[dfDadosDistP['dist_05_1KM_Pla'] == True].shape[0])\n",
    "print('dist_1_2KM_Pla = ', dfDadosDistP[dfDadosDistP['dist_1_2KM_Pla'] == True].shape[0])\n",
    "print('dist_2_3KM_Pla = ' ,dfDadosDistP[dfDadosDistP['dist_2_3KM_Pla'] == True].shape[0])\n",
    "print('dist_3_4KM_Pla = ' ,dfDadosDistP[dfDadosDistP['dist_3_4KM_Pla'] == True].shape[0])\n",
    "print('dist_4_5KM_Pla = ' ,dfDadosDistP[dfDadosDistP['dist_4_5KM_Pla'] == True].shape[0])\n"
   ]
  },
  {
   "cell_type": "code",
   "execution_count": 140,
   "id": "2b01a09e",
   "metadata": {},
   "outputs": [
    {
     "name": "stdout",
     "output_type": "stream",
     "text": [
      "total de 0 a 5 Km 5952\n",
      "total de somas parciais  5952\n"
     ]
    }
   ],
   "source": [
    "sum05_5km = dfDadosDistP[dfDadosDistP['dist_0_5KM_Pla'] == True].shape[0]\n",
    "print(\"total de 0 a 5 Km\", sum05_5km)\n",
    "sumparcial = dfDadosDistP[dfDadosDistP['dist_05_1KM_Pla'] == True].shape[0]\n",
    "sumparcial += dfDadosDistP[dfDadosDistP['dist_1_2KM_Pla'] == True].shape[0]\n",
    "sumparcial += dfDadosDistP[dfDadosDistP['dist_2_3KM_Pla'] == True].shape[0]\n",
    "sumparcial += dfDadosDistP[dfDadosDistP['dist_3_4KM_Pla'] == True].shape[0]\n",
    "sumparcial += dfDadosDistP[dfDadosDistP['dist_4_5KM_Pla'] == True].shape[0]\n",
    "\n",
    "print(\"total de somas parciais \", sumparcial)"
   ]
  },
  {
   "cell_type": "markdown",
   "id": "95121ab6",
   "metadata": {},
   "source": [
    "### Verificando os dados \n"
   ]
  },
  {
   "cell_type": "code",
   "execution_count": 141,
   "id": "195cf0dd",
   "metadata": {},
   "outputs": [
    {
     "data": {
      "text/html": [
       "<div>\n",
       "<style scoped>\n",
       "    .dataframe tbody tr th:only-of-type {\n",
       "        vertical-align: middle;\n",
       "    }\n",
       "\n",
       "    .dataframe tbody tr th {\n",
       "        vertical-align: top;\n",
       "    }\n",
       "\n",
       "    .dataframe thead th {\n",
       "        text-align: right;\n",
       "    }\n",
       "</style>\n",
       "<table border=\"1\" class=\"dataframe\">\n",
       "  <thead>\n",
       "    <tr style=\"text-align: right;\">\n",
       "      <th></th>\n",
       "      <th>dist_plat</th>\n",
       "      <th>dist_0_5KM_Pla</th>\n",
       "      <th>dist_05_1KM_Pla</th>\n",
       "      <th>dist_1_2KM_Pla</th>\n",
       "      <th>dist_2_3KM_Pla</th>\n",
       "      <th>dist_3_4KM_Pla</th>\n",
       "      <th>dist_4_5KM_Pla</th>\n",
       "      <th>dist_05_5KM_Pla</th>\n",
       "    </tr>\n",
       "  </thead>\n",
       "  <tbody>\n",
       "    <tr>\n",
       "      <th>281762</th>\n",
       "      <td>1241.591282</td>\n",
       "      <td>True</td>\n",
       "      <td>False</td>\n",
       "      <td>True</td>\n",
       "      <td>False</td>\n",
       "      <td>False</td>\n",
       "      <td>False</td>\n",
       "      <td>True</td>\n",
       "    </tr>\n",
       "    <tr>\n",
       "      <th>454593</th>\n",
       "      <td>1241.591282</td>\n",
       "      <td>True</td>\n",
       "      <td>False</td>\n",
       "      <td>True</td>\n",
       "      <td>False</td>\n",
       "      <td>False</td>\n",
       "      <td>False</td>\n",
       "      <td>True</td>\n",
       "    </tr>\n",
       "    <tr>\n",
       "      <th>464455</th>\n",
       "      <td>1241.591282</td>\n",
       "      <td>True</td>\n",
       "      <td>False</td>\n",
       "      <td>True</td>\n",
       "      <td>False</td>\n",
       "      <td>False</td>\n",
       "      <td>False</td>\n",
       "      <td>True</td>\n",
       "    </tr>\n",
       "    <tr>\n",
       "      <th>454591</th>\n",
       "      <td>1241.591282</td>\n",
       "      <td>True</td>\n",
       "      <td>False</td>\n",
       "      <td>True</td>\n",
       "      <td>False</td>\n",
       "      <td>False</td>\n",
       "      <td>False</td>\n",
       "      <td>True</td>\n",
       "    </tr>\n",
       "    <tr>\n",
       "      <th>454590</th>\n",
       "      <td>1241.591282</td>\n",
       "      <td>True</td>\n",
       "      <td>False</td>\n",
       "      <td>True</td>\n",
       "      <td>False</td>\n",
       "      <td>False</td>\n",
       "      <td>False</td>\n",
       "      <td>True</td>\n",
       "    </tr>\n",
       "    <tr>\n",
       "      <th>449790</th>\n",
       "      <td>1241.591282</td>\n",
       "      <td>True</td>\n",
       "      <td>False</td>\n",
       "      <td>True</td>\n",
       "      <td>False</td>\n",
       "      <td>False</td>\n",
       "      <td>False</td>\n",
       "      <td>True</td>\n",
       "    </tr>\n",
       "    <tr>\n",
       "      <th>449789</th>\n",
       "      <td>1241.591282</td>\n",
       "      <td>True</td>\n",
       "      <td>False</td>\n",
       "      <td>True</td>\n",
       "      <td>False</td>\n",
       "      <td>False</td>\n",
       "      <td>False</td>\n",
       "      <td>True</td>\n",
       "    </tr>\n",
       "    <tr>\n",
       "      <th>663449</th>\n",
       "      <td>1241.591282</td>\n",
       "      <td>True</td>\n",
       "      <td>False</td>\n",
       "      <td>True</td>\n",
       "      <td>False</td>\n",
       "      <td>False</td>\n",
       "      <td>False</td>\n",
       "      <td>True</td>\n",
       "    </tr>\n",
       "    <tr>\n",
       "      <th>663450</th>\n",
       "      <td>1241.591282</td>\n",
       "      <td>True</td>\n",
       "      <td>False</td>\n",
       "      <td>True</td>\n",
       "      <td>False</td>\n",
       "      <td>False</td>\n",
       "      <td>False</td>\n",
       "      <td>True</td>\n",
       "    </tr>\n",
       "    <tr>\n",
       "      <th>276664</th>\n",
       "      <td>1241.591282</td>\n",
       "      <td>True</td>\n",
       "      <td>False</td>\n",
       "      <td>True</td>\n",
       "      <td>False</td>\n",
       "      <td>False</td>\n",
       "      <td>False</td>\n",
       "      <td>True</td>\n",
       "    </tr>\n",
       "    <tr>\n",
       "      <th>276663</th>\n",
       "      <td>1241.591282</td>\n",
       "      <td>True</td>\n",
       "      <td>False</td>\n",
       "      <td>True</td>\n",
       "      <td>False</td>\n",
       "      <td>False</td>\n",
       "      <td>False</td>\n",
       "      <td>True</td>\n",
       "    </tr>\n",
       "    <tr>\n",
       "      <th>449718</th>\n",
       "      <td>1241.591282</td>\n",
       "      <td>True</td>\n",
       "      <td>False</td>\n",
       "      <td>True</td>\n",
       "      <td>False</td>\n",
       "      <td>False</td>\n",
       "      <td>False</td>\n",
       "      <td>True</td>\n",
       "    </tr>\n",
       "  </tbody>\n",
       "</table>\n",
       "</div>"
      ],
      "text/plain": [
       "          dist_plat  dist_0_5KM_Pla  dist_05_1KM_Pla  dist_1_2KM_Pla   \n",
       "281762  1241.591282            True            False            True  \\\n",
       "454593  1241.591282            True            False            True   \n",
       "464455  1241.591282            True            False            True   \n",
       "454591  1241.591282            True            False            True   \n",
       "454590  1241.591282            True            False            True   \n",
       "449790  1241.591282            True            False            True   \n",
       "449789  1241.591282            True            False            True   \n",
       "663449  1241.591282            True            False            True   \n",
       "663450  1241.591282            True            False            True   \n",
       "276664  1241.591282            True            False            True   \n",
       "276663  1241.591282            True            False            True   \n",
       "449718  1241.591282            True            False            True   \n",
       "\n",
       "        dist_2_3KM_Pla  dist_3_4KM_Pla  dist_4_5KM_Pla  dist_05_5KM_Pla  \n",
       "281762           False           False           False             True  \n",
       "454593           False           False           False             True  \n",
       "464455           False           False           False             True  \n",
       "454591           False           False           False             True  \n",
       "454590           False           False           False             True  \n",
       "449790           False           False           False             True  \n",
       "449789           False           False           False             True  \n",
       "663449           False           False           False             True  \n",
       "663450           False           False           False             True  \n",
       "276664           False           False           False             True  \n",
       "276663           False           False           False             True  \n",
       "449718           False           False           False             True  "
      ]
     },
     "execution_count": 141,
     "metadata": {},
     "output_type": "execute_result"
    }
   ],
   "source": [
    "listDist = ['dist_plat',  'dist_0_5KM_Pla','dist_05_1KM_Pla','dist_1_2KM_Pla','dist_2_3KM_Pla','dist_3_4KM_Pla',\n",
    "            'dist_4_5KM_Pla', 'dist_05_5KM_Pla']\n",
    "dfDadosDistP.sort_values(by= 'dist_plat')[listDist].head(12)"
   ]
  },
  {
   "cell_type": "code",
   "execution_count": 142,
   "id": "2304c45b",
   "metadata": {},
   "outputs": [
    {
     "data": {
      "text/plain": [
       "Index(['Unnamed: 0', 'ID', 'Arte', 'SubArte', 'TI', 'Comunidade', 'Pesqueiro',\n",
       "       'Espécie', 'Captura(kg)', 'Valor/Kg(R$)', 'Data Saída', 'Hora Saída',\n",
       "       'Data Chegada', 'Hora Chegada', 'Tipo Embarc.', 'Núm. Linhas',\n",
       "       'Núm. Anzóis', 'Tamanho Anzol', 'Isca', 'Espécie Alvo', 'Comp. Rede',\n",
       "       'Quant. Dias Pescou Mês', 'Observação', 'Profund. Lance',\n",
       "       'Houve Captura', 'Litros Combust.', 'Combustível(R$)', 'Rancho(R$)',\n",
       "       'Gêlo(R$)', 'Isca(R$)', 'Venda Direta', 'Consumo', 'Peixaria,Mercado',\n",
       "       'Ano', 'Mês', 'KgTotal', 'R$Total', 'CPUE kg/dia', 'Valoração',\n",
       "       'Embarcação', 'corresponde', 'CoordX', 'CoordY', 'dist_gas',\n",
       "       'dist_plat', 'menor_500M', 'entre_05_5KM', 'dist_0_500M_Pla',\n",
       "       'dist_05_5KM_Pla', 'dist_0_5KM_Pla', 'dist_05_1KM_Pla',\n",
       "       'dist_1_2KM_Pla', 'dist_2_3KM_Pla', 'dist_3_4KM_Pla', 'dist_4_5KM_Pla'],\n",
       "      dtype='object')"
      ]
     },
     "execution_count": 142,
     "metadata": {},
     "output_type": "execute_result"
    }
   ],
   "source": [
    "dfDadosDistP.columns"
   ]
  },
  {
   "cell_type": "code",
   "execution_count": 143,
   "id": "626ca70a",
   "metadata": {},
   "outputs": [],
   "source": [
    "dfDadosDistP.to_csv('BD/Dados_distPLATAFORMA_CPUE_coordPequeirosValidadoUpgrade_06_08_2023.csv')"
   ]
  },
  {
   "cell_type": "code",
   "execution_count": 144,
   "id": "b81723e5",
   "metadata": {},
   "outputs": [],
   "source": [
    "path_Output = 'BD/Dados_distPLATAFORMA_CPUE_coordPequeirosValidado_Menor5KM_06_08_2023.csv'\n",
    "dfDadosDistP[dfDadosDistP['dist_0_5KM_Pla'] == True].to_csv(path_Output)"
   ]
  },
  {
   "cell_type": "code",
   "execution_count": 145,
   "id": "99f7e4a8",
   "metadata": {},
   "outputs": [],
   "source": [
    "dfDadosDistP.to_excel('BD/Dados_distPLATAFORMA_CPUE_coordPequeirosValidadoUpgrade_06_08_2023.xlsx')"
   ]
  },
  {
   "cell_type": "markdown",
   "id": "fc19f0a8",
   "metadata": {},
   "source": [
    "[18:56, 07/12/2022] Priscila Malafaia: 1. separar as subartes de pesca por categoria de distancia >500; de 500 até 1000; > que 1000 até 2000 etc, até > que 5 mil\n",
    "[18:57, 07/12/2022] Priscila Malafaia: lembrar se verificar as distancias por subarte considerando o gasoduto e a plataforma\n",
    "[18:59, 07/12/2022] Priscila Malafaia: 2. verificar a variação de CPUE, KG e Espécies, ao longo dos anos, para cada subarte de pesca por categoria de distância\n",
    "[19:02, 07/12/2022] Priscila Malafaia: 3. Testar para cada subarte se há diferença significativa da CPUE, KG, Espécies, Renda, ao longo do tempo, entre as categorias de distancia"
   ]
  },
  {
   "cell_type": "code",
   "execution_count": 146,
   "id": "a75b95ba",
   "metadata": {},
   "outputs": [],
   "source": [
    "path_Output = 'BD/Dados_distPLATAFORMA_CPUE_coordPequeirosValidado_Menor5KM_06_08_2023.xlsx'\n",
    "dfDadosDistP[dfDadosDistP['dist_0_5KM_Pla'] == True].to_excel(path_Output)"
   ]
  },
  {
   "cell_type": "code",
   "execution_count": null,
   "id": "bb74f6fd",
   "metadata": {},
   "outputs": [],
   "source": []
  }
 ],
 "metadata": {
  "kernelspec": {
   "display_name": "Python 3 (ipykernel)",
   "language": "python",
   "name": "python3"
  },
  "language_info": {
   "codemirror_mode": {
    "name": "ipython",
    "version": 3
   },
   "file_extension": ".py",
   "mimetype": "text/x-python",
   "name": "python",
   "nbconvert_exporter": "python",
   "pygments_lexer": "ipython3",
   "version": "3.10.12"
  }
 },
 "nbformat": 4,
 "nbformat_minor": 5
}
