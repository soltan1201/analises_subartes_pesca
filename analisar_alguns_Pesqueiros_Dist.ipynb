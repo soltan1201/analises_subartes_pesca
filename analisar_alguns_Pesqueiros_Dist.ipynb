{
 "cells": [
  {
   "cell_type": "code",
   "execution_count": 2,
   "id": "13ea79c5",
   "metadata": {},
   "outputs": [],
   "source": [
    "import os\n",
    "import copy\n",
    "import pandas as pd \n",
    "import math\n",
    "import numpy as np \n",
    "import matplotlib.pyplot as plt\n",
    "from datetime import datetime\n",
    "import seaborn as sns\n",
    "plt.rcParams[\"figure.figsize\"] = (16,8)"
   ]
  },
  {
   "cell_type": "code",
   "execution_count": 3,
   "id": "536913bc",
   "metadata": {},
   "outputs": [
    {
     "name": "stderr",
     "output_type": "stream",
     "text": [
      "/tmp/ipykernel_1884/3409890674.py:1: DtypeWarning: Columns (35) have mixed types. Specify dtype option on import or set low_memory=False.\n",
      "  dfPesG= pd.read_csv('BD/Dados_distGasoduto_CPUE_coordPequeirosValidadoUpgrade.csv')\n"
     ]
    },
    {
     "name": "stdout",
     "output_type": "stream",
     "text": [
      "(629739, 71)\n",
      "Index(['Unnamed: 0.2', 'Unnamed: 0.1', 'Unnamed: 0', 'ID', 'Arte', 'SubArte',\n",
      "       'TI', 'Comunidade', 'Porto Desembarque', 'Data Registro',\n",
      "       'Entrevistado', 'Embarcação', 'Núm. Pescadores', 'Pesqueiro', 'Espécie',\n",
      "       'Captura(kg)', 'Valor/Kg(R$)', 'Data Saída', 'Hora Saída',\n",
      "       'Data Chegada', 'Hora Chegada', 'Tipo Embarc.', 'Tipo IBAMA',\n",
      "       'Núm. Linhas', 'Núm. Anzóis', 'Tamanho Anzol', 'Isca', 'Espécie Alvo',\n",
      "       'Comp. Rede', 'Tamanho Malha', 'Altura Malha', 'Quantas Camboas',\n",
      "       'Dias Não Despesca Camboa', 'Quant. Morredores',\n",
      "       'Núm. Pescadores Participaram', 'Proprietário Camboa',\n",
      "       'Núm. Armadilhas', 'Tamanho Armadilhas', 'Núm. Bocas Armadilha',\n",
      "       'Utiliza Guincho', 'Quant. Dias Pescou Mês', 'Observação',\n",
      "       'Profund. Lance', 'Houve Captura', 'Litros Combust.', 'Combustível(R$)',\n",
      "       'Rancho(R$)', 'Gêlo(R$)', 'Isca(R$)', 'Venda Direta', 'Atravessador',\n",
      "       'Consumo', 'Peixaria,Mercado', 'Ano', 'Mês', 'KgTotal', 'R$Total',\n",
      "       'CPUE kg/dia', 'Valoração', 'corresponde', 'CoordX', 'CoordY',\n",
      "       'dist_gas', 'dist_plat', 'm<_500M', 'entre_05_5KM', 'entre_1_2KM',\n",
      "       'entre_2_3KM', 'entre_3_4KM', 'entre_05_1KM', 'entre_4_5KM'],\n",
      "      dtype='object')\n"
     ]
    }
   ],
   "source": [
    "dfPesG= pd.read_csv('BD/Dados_distGasoduto_CPUE_coordPequeirosValidadoUpgrade.csv')\n",
    "print(dfPesG.shape)\n",
    "print(dfPesG.columns)\n"
   ]
  },
  {
   "cell_type": "code",
   "execution_count": 21,
   "id": "57e975e2",
   "metadata": {},
   "outputs": [
    {
     "data": {
      "text/plain": [
       "array(['BTS', 'BAIXO SUL'], dtype=object)"
      ]
     },
     "execution_count": 21,
     "metadata": {},
     "output_type": "execute_result"
    }
   ],
   "source": [
    "dfPesG.TI.unique()"
   ]
  },
  {
   "cell_type": "code",
   "execution_count": 17,
   "id": "99f319dd",
   "metadata": {},
   "outputs": [
    {
     "data": {
      "text/plain": [
       "array(['CERCO', 'LINHA', 'MERG_MARISC', 'ARMADILHA', 'ARRASTO', 'REÇA',\n",
       "       'EMALHE'], dtype=object)"
      ]
     },
     "execution_count": 17,
     "metadata": {},
     "output_type": "execute_result"
    }
   ],
   "source": [
    "dfPesG.Arte.unique()"
   ]
  },
  {
   "cell_type": "code",
   "execution_count": 4,
   "id": "2cf63d37",
   "metadata": {},
   "outputs": [
    {
     "data": {
      "text/plain": [
       "array(['ABALO', 'LINHA DE MÃO', 'TARRAFA', 'MARISCAGEM', 'GAIOLA',\n",
       "       'GROSEIRA', 'CERCO', 'ESPINHEL', 'MERGULHO', 'REDINHA',\n",
       "       'SUPERFÍCIE BOIADA', 'FUNDO PEIXE', 'EMALHE', 'REÇA', 'PESQUEIRO',\n",
       "       'ARRAEIRA', 'CALÃO', 'MANZUÁ', 'TAINHEIRA', 'JERERÉ',\n",
       "       'FUNDO CAMARÃO', 'ARRASTO DE FUNDO OU BALOEIRO', 'Não Informado',\n",
       "       'PARUZEIRA'], dtype=object)"
      ]
     },
     "execution_count": 4,
     "metadata": {},
     "output_type": "execute_result"
    }
   ],
   "source": [
    "dfPesG.SubArte.unique()"
   ]
  },
  {
   "cell_type": "code",
   "execution_count": 5,
   "id": "368edd2b",
   "metadata": {},
   "outputs": [
    {
     "data": {
      "text/plain": [
       "array(['Caramuru', 'Não Informado', nan, 'caramuru', 'caramuru, baiacu',\n",
       "       'Vermelho', 'Peixes Grandes', 'Peixe Grande', '9', 'peixes',\n",
       "       'Peixe', 'Peixes', 'Peixote', 'peixe', 'PEIXES', 'Diversos',\n",
       "       'vermelha, pampo', 'corongo, bagre', 'baiacu', 'Baiacu', 'Baiacú',\n",
       "       'Bacalhau', 'Mero', 'Xaréu', 'Miroró', 'corongo, paru, baiacu',\n",
       "       'caramuru / miroró e baiacu', 'miroro, baiacu', 'baiacu, caramuru',\n",
       "       'diversos', 'vermelho', 'Cioba', 'divresos', 'cioba', 'chumberga',\n",
       "       'divversos', 'Diversos e Chumberga', 'varios', 'polvo',\n",
       "       'chumberga, diversos', 'bicuda', 'CIOBA', 'Cascalho', 'bagre',\n",
       "       'pescada', 'Baiacu, Barbudo', 'arraia', 'xareu', 'pescada, bagre',\n",
       "       'Bagre', 'BAIACU', 'bicuda, diversos', 'Corongo',\n",
       "       'corongo, caramuru', 'Cabeçudo e carapeba', 'arraia, corongo',\n",
       "       'Siri', 'Corvina', 'baiacú', 'peixote', 'pEIXES', 'peixea',\n",
       "       '´peixes', 'Tainha', 'corongo', 'Mistura, Corongo',\n",
       "       'arraia, robalo', 'robalo', 'bagre, tapa', 'corvina',\n",
       "       'pampo, sororoca', 'bacalhau', 'cavala', 'Baiacu e caramuru', '0',\n",
       "       'cabeçudo', 'tesoura', 'Baicu', 'Arioco', 'Ariocó', 'ariacó',\n",
       "       'arioco', 'ariocó', 'Camarão', 's', 'Cavala', 'Bicuda', 'Peiexe',\n",
       "       'paru, pampo, bagre', 'Caramurú', 'Dirversos', 'bicuda, divresos',\n",
       "       'Chumberga', 'diveros', 'diversos, bicuda', 'diersos', 'Sardinha',\n",
       "       'Taipabo', 'Bicuda e diversos', 'sardinha', 'caramurú, diversos',\n",
       "       'Carapeba', 'arraia, bagre', 'arraia, cabeçudo',\n",
       "       'arraia, corongo, bagre', 'Mistura, Xereu', 'guaricema',\n",
       "       'carapeba', 'foli', 'Peixess', 'PeixesS', 'Caramuru, vermelho',\n",
       "       'baiacu, sambuio', '14', 'caçaca, bagre', 'dirversos', 'Robalo',\n",
       "       'Guaricema', 'Peizes', 'bicuda , diversos', 'guaricema, vermelho',\n",
       "       'Rebo de flecha', 'bagre, arraia', 'pirica', 'mistura', 'sambuio',\n",
       "       'Arraia e Bagre', 'sororoca', 'Cioba, vermelho',\n",
       "       'Cioba, guaricema', 'siri', 'caramuru, mistura',\n",
       "       'robalo, caramuru', 'camarão', 'tainha', 'Vermelho, guaricema',\n",
       "       ' ', '6', 'Sororoca', 'mistura, caramuru, corongo', 'curimã',\n",
       "       'paru', 'PEIXE', 'x', 'Mistura', '04,05,08,09', '10', 'Bonito',\n",
       "       'Peixes ', '4', 'Badejo', 'peixite', 'Voador',\n",
       "       'arioco e chumberga', 'arioca', 'Quiepe', 'pexies', 'pexixes',\n",
       "       'Vários', 'Arraia', 'arioco´', 'Xereu', 'Cabeçudo', 'ARRAIA',\n",
       "       'CABEÇUDO', 'CAMBUBA', 'Ciaba', 'Cambuba', \"peixex'\",\n",
       "       'Catraia motorizada não utilizou motor.', 'vários', 'Varios',\n",
       "       'Caranha', 'caranha', 'ariaco', 'guaiuba', ' peixe', 'peixa',\n",
       "       'Curvina', 'Dentão', 'curvina', 'caramupim', 'CAMURUPIM',\n",
       "       'Caramupim', 'Carapitanga', 'cambuba', 'ciara', 'Cabuba',\n",
       "       'Carapitinga', 'carapitanga', 'badejo'], dtype=object)"
      ]
     },
     "execution_count": 5,
     "metadata": {},
     "output_type": "execute_result"
    }
   ],
   "source": [
    "dfPesG[dfPesG.SubArte == 'LINHA DE MÃO']['Espécie Alvo'].unique()"
   ]
  },
  {
   "cell_type": "code",
   "execution_count": 11,
   "id": "beb1612b",
   "metadata": {},
   "outputs": [
    {
     "data": {
      "text/plain": [
       "array(['Sururu', 'Ostra', 'Siri-de-mangue catado', 'Siri-de-mangue',\n",
       "       'Siri', 'Ostra catada', 'Caranguejo', 'Siri-mole', 'Siri catado',\n",
       "       nan, 'Peguari', 'Machadinho', 'Sacarauna', 'Caramuru', 'Chumbinho',\n",
       "       'Rala-côco', 'Befum', 'Tarioba', 'Lambreta catada',\n",
       "       'Lambreta (dúzia)', 'Chumberga', 'Siri-duro', 'Camarão',\n",
       "       'Cabeçudo', 'Gorogondé', 'Tainha', 'Aratu', 'Sambá',\n",
       "       'Sambá catado', 'Befum catado', 'Marisco', 'Outros', 'Mistura',\n",
       "       'Tapu', 'Mariscada', 'Lambreta', 'Baiacu', 'Pescada', 'Polvo',\n",
       "       'Caranguejo em corda', 'Sururu catado', 'Caranguejo catado',\n",
       "       'Siri-de-mangue em corda', 'Sururu de mangue', 'Sambá- criola',\n",
       "       'Siri com casca', 'Linguado', 'Siri em corda', 'Xangó',\n",
       "       'Sururu (litro)', 'aratu catado', 'Lagosta', 'Bebefumo', 'Agulha',\n",
       "       'Cioba', 'Ariocó', 'Budião-batata', 'Agulhão', 'Aribi', 'Pocoman',\n",
       "       'Mijão', 'Mapé', 'Sauna', 'Bebefumo catado',\n",
       "       'Siri catado e Aratu catado', 'Siri-duro em corda', 'Sambuio',\n",
       "       'Salambitinga', 'Guaiúba', 'Bebefumo com casca', 'Arraia',\n",
       "       'Siri-mole catado', 'Tarioba (dúzia)', 'Mapé (dúzia)', 'Miroró',\n",
       "       'Dentão', 'Beijupirá', 'Siri-bóia catado', 'Rala-côco catado',\n",
       "       'Carapicu', 'Badejo', 'Manjuba', 'Tarioba inteiro',\n",
       "       'Tarioba catada', 'Siri-de-coroa catado', 'Selvagem',\n",
       "       'Siri-branco em corda', 'Sambá-galo', 'Robalete',\n",
       "       'Caranguejo com casca', 'Sarnambi', 'Bobó',\n",
       "       'Siri-cachanga em corda', 'Bagre-branco', 'Carapeba-rajada',\n",
       "       'Siri-bóia em corda', 'Papa-boba', 'Maçambê', 'Corongo', 'Bagre',\n",
       "       'Corogondé', 'Moréia', 'Sapateira', 'Niquim', 'Robalo', 'Solteira',\n",
       "       'Siri-de-coroa com casca', 'Barbudo', 'Siri-duro com casca',\n",
       "       'Pampo', 'Siri-de-mangue mole', 'Camarão-tanha', 'Peixe (miúdo)',\n",
       "       'Camarão-pistola', 'Camarão-rosa', 'Embira', 'Siri-bóia com casca',\n",
       "       'Aratu com casca'], dtype=object)"
      ]
     },
     "execution_count": 11,
     "metadata": {},
     "output_type": "execute_result"
    }
   ],
   "source": [
    "dfPesG[dfPesG.SubArte == 'MARISCAGEM']['Espécie'].unique()"
   ]
  },
  {
   "cell_type": "code",
   "execution_count": 18,
   "id": "970db589",
   "metadata": {},
   "outputs": [
    {
     "data": {
      "text/plain": [
       "array(['Siri catado', 'Siri', 'Siri-de-mangue catado', 'Siri com casca',\n",
       "       nan, 'Siri em corda', 'Siri-duro', 'Siri-de-mangue em corda',\n",
       "       'Siri-cachanga em corda', 'Caramupim', 'Cassaca', 'Siri-mole',\n",
       "       'Siri-duro com casca', 'Miroró', 'Carrapato', 'Siri-bóia em corda',\n",
       "       'Siri-branco em corda', 'Siri-branco', 'Siri-bóia', 'Aratu',\n",
       "       'Siri-duro em corda', 'Caramuru', 'Siri-de-mangue', 'Chumberga',\n",
       "       'Sambá catado', 'aratu catado', 'Corongo', 'Caçaca',\n",
       "       'Siri-bóia com casca', 'Carapeba', 'Baiacu', 'Ariocó', 'Cioba',\n",
       "       'Bicuara', 'Budião', 'Garauba', 'Budião-batata', 'Baiacu-ara',\n",
       "       'Saramonete', 'Agulha', 'Badejo', 'Guaraiúba', 'Barbeiro',\n",
       "       'Cambuba', 'Siri-de-coroa catado', 'Siri-de-coroa com casca',\n",
       "       'Guaricema', 'Carapitanga', 'Mulatinha', 'Polvo', 'Cabeçudo',\n",
       "       'Lagosta', 'Batata', 'Sororoca', 'Pescada', 'Bagre', 'Vermelho',\n",
       "       'Xangó', 'Siri-branco com casca', 'Sambuio', 'Margarida',\n",
       "       'Papaterra', 'Pinima', 'Carapicu', 'Siri-bóia catado', 'Peguari',\n",
       "       'Caranguejo em corda', 'Moréia', 'Camurupim', 'Siri-cachanga',\n",
       "       'Beijupirá', 'Siri-de-mangue mole', 'Caranguejo com casca',\n",
       "       'Camarão', 'Barbudo', 'Sauna', 'Coró', 'Sambá', 'Garapau',\n",
       "       'Vermelho médio', 'Pocoman', 'Selvagem', 'Arraia', 'Linguado',\n",
       "       'Corvina', 'Siri-bóia sujo', 'Embira', 'Bobó', 'Sopocu', 'Xaréu',\n",
       "       'Vermelho pequeno', 'Vermelho graúdo', 'Peixe-galo', 'Robalo',\n",
       "       'Mirucaia', 'Paru', 'Barriga-mole', 'Rebebe', 'Mistura',\n",
       "       'Caranguejo', 'Peixe (graúdo)', 'Tainha', 'Siri-branco catado',\n",
       "       'Sardinha', 'Robalete', 'Bicuda', 'Barracuda', 'Budião-azul',\n",
       "       'Dentão', 'Não Informado', 'Guaçari', 'Olho-de-boi', 'Olhete',\n",
       "       'Muamba', 'Ostra', 'Caranguejo catado'], dtype=object)"
      ]
     },
     "execution_count": 18,
     "metadata": {},
     "output_type": "execute_result"
    }
   ],
   "source": [
    "dfPesG[dfPesG.Arte == 'ARMADILHA']['Espécie'].unique()"
   ]
  },
  {
   "cell_type": "code",
   "execution_count": 23,
   "id": "2d5a2128",
   "metadata": {},
   "outputs": [
    {
     "data": {
      "text/plain": [
       "(53957, 71)"
      ]
     },
     "execution_count": 23,
     "metadata": {},
     "output_type": "execute_result"
    }
   ],
   "source": [
    "dfPesG[(dfPesG.Arte == 'REÇA') & (dfPesG.TI == 'BTS')].shape"
   ]
  },
  {
   "cell_type": "code",
   "execution_count": 20,
   "id": "09fd51a2",
   "metadata": {},
   "outputs": [
    {
     "data": {
      "text/plain": [
       "(66879, 71)"
      ]
     },
     "execution_count": 20,
     "metadata": {},
     "output_type": "execute_result"
    }
   ],
   "source": [
    "lst_Siri = [\n",
    "    'Siri catado', 'Siri', 'Siri-de-mangue catado', 'Siri com casca',\n",
    "    'Siri em corda', 'Siri-duro', 'Siri-de-mangue em corda',\n",
    "    'Siri-cachanga em corda', 'Siri-mole',\n",
    "    'Siri-duro com casca',  'Siri-bóia em corda',\n",
    "    'Siri-branco em corda', 'Siri-branco', 'Siri-bóia',\n",
    "    'Siri-duro em corda', 'Siri-de-mangue', 'Siri-de-coroa catado',\n",
    "    'Siri-de-coroa com casca',\n",
    "    'Siri-branco com casca',  'Siri-bóia catado','Siri-cachanga',\n",
    "    'Siri-de-mangue mole', 'Siri-bóia sujo', 'Siri-branco catado'\n",
    "]\n",
    "df_filteredSiri = dfPesG[(dfPesG.Arte == 'ARMADILHA') & (dfPesG['Espécie'].isin(lst_Siri))]\n",
    "df_filteredSiri.shape"
   ]
  },
  {
   "cell_type": "code",
   "execution_count": 22,
   "id": "cfa2ac83",
   "metadata": {},
   "outputs": [
    {
     "data": {
      "text/plain": [
       "(15862, 71)"
      ]
     },
     "execution_count": 22,
     "metadata": {},
     "output_type": "execute_result"
    }
   ],
   "source": [
    "df_filtered[df_filtered['TI'] == 'BTS'].shape"
   ]
  },
  {
   "cell_type": "code",
   "execution_count": 7,
   "id": "a6895c0f",
   "metadata": {},
   "outputs": [
    {
     "data": {
      "text/plain": [
       "(344, 71)"
      ]
     },
     "execution_count": 7,
     "metadata": {},
     "output_type": "execute_result"
    }
   ],
   "source": [
    "df_filteredCav = dfPesG[(dfPesG.SubArte == 'LINHA DE MÃO') & (dfPesG['Espécie'] == 'Cavala')]\n",
    "df_filteredCav.shape"
   ]
  },
  {
   "cell_type": "code",
   "execution_count": null,
   "id": "c6c5e6b5",
   "metadata": {},
   "outputs": [],
   "source": []
  },
  {
   "cell_type": "code",
   "execution_count": null,
   "id": "4ffe2605",
   "metadata": {},
   "outputs": [],
   "source": []
  },
  {
   "cell_type": "code",
   "execution_count": 15,
   "id": "bcd6f95f",
   "metadata": {},
   "outputs": [
    {
     "name": "stdout",
     "output_type": "stream",
     "text": [
      "(15979, 71)\n"
     ]
    },
    {
     "data": {
      "text/plain": [
       "array(['Cairu de Salinas', 'São Francisco do Conde', 'Ilha Pati',\n",
       "       'Ilha d`Ajuda', 'Salinas da Margarida'], dtype=object)"
      ]
     },
     "execution_count": 15,
     "metadata": {},
     "output_type": "execute_result"
    }
   ],
   "source": [
    "df_filtered = dfPesG[(dfPesG.SubArte == 'MARISCAGEM') & (dfPesG['Espécie'] == 'Chumbinho')]\n",
    "print(df_filtered.shape)\n",
    "\n",
    "df_filtered['Comunidade'].unique()"
   ]
  },
  {
   "cell_type": "code",
   "execution_count": 16,
   "id": "f5c5cc7d",
   "metadata": {},
   "outputs": [
    {
     "data": {
      "text/plain": [
       "(15, 71)"
      ]
     },
     "execution_count": 16,
     "metadata": {},
     "output_type": "execute_result"
    }
   ],
   "source": [
    "df_filtered[df_filtered['Comunidade'] == 'São Francisco do Conde'].shape"
   ]
  },
  {
   "cell_type": "code",
   "execution_count": 5,
   "id": "0ddc75da",
   "metadata": {},
   "outputs": [
    {
     "data": {
      "text/plain": [
       "(72550, 71)"
      ]
     },
     "execution_count": 5,
     "metadata": {},
     "output_type": "execute_result"
    }
   ],
   "source": [
    "df_subArt = dfPesG[dfPesG['SubArte'] == 'LINHA DE MÃO']\n",
    "df_subArt.shape"
   ]
  },
  {
   "cell_type": "code",
   "execution_count": 6,
   "id": "1cd5b9a2",
   "metadata": {},
   "outputs": [
    {
     "data": {
      "text/plain": [
       "(6764, 71)"
      ]
     },
     "execution_count": 6,
     "metadata": {},
     "output_type": "execute_result"
    }
   ],
   "source": [
    "df_subArtYY = df_subArt[df_subArt['entre_1_2KM'] == True]\n",
    "df_subArtYY.shape"
   ]
  },
  {
   "cell_type": "code",
   "execution_count": 7,
   "id": "f158f569",
   "metadata": {},
   "outputs": [],
   "source": [
    "def insert_year(row):\n",
    "    mdata = row['Data Chegada']\n",
    "    yyear = mdata.split(\"/\")[2]\n",
    "    row['year'] = int(yyear)\n",
    "    return row\n",
    "\n",
    "df_subArtYY = df_subArtYY.apply(insert_year, axis= 1)"
   ]
  },
  {
   "cell_type": "code",
   "execution_count": 8,
   "id": "6dcbce80",
   "metadata": {},
   "outputs": [
    {
     "data": {
      "text/html": [
       "<div>\n",
       "<style scoped>\n",
       "    .dataframe tbody tr th:only-of-type {\n",
       "        vertical-align: middle;\n",
       "    }\n",
       "\n",
       "    .dataframe tbody tr th {\n",
       "        vertical-align: top;\n",
       "    }\n",
       "\n",
       "    .dataframe thead th {\n",
       "        text-align: right;\n",
       "    }\n",
       "</style>\n",
       "<table border=\"1\" class=\"dataframe\">\n",
       "  <thead>\n",
       "    <tr style=\"text-align: right;\">\n",
       "      <th></th>\n",
       "      <th>Data Chegada</th>\n",
       "      <th>year</th>\n",
       "    </tr>\n",
       "  </thead>\n",
       "  <tbody>\n",
       "    <tr>\n",
       "      <th>39908</th>\n",
       "      <td>30/11/2010</td>\n",
       "      <td>2010</td>\n",
       "    </tr>\n",
       "    <tr>\n",
       "      <th>39909</th>\n",
       "      <td>27/08/2009</td>\n",
       "      <td>2009</td>\n",
       "    </tr>\n",
       "    <tr>\n",
       "      <th>39910</th>\n",
       "      <td>10/09/2011</td>\n",
       "      <td>2011</td>\n",
       "    </tr>\n",
       "    <tr>\n",
       "      <th>39911</th>\n",
       "      <td>19/12/2019</td>\n",
       "      <td>2019</td>\n",
       "    </tr>\n",
       "    <tr>\n",
       "      <th>39912</th>\n",
       "      <td>18/09/2009</td>\n",
       "      <td>2009</td>\n",
       "    </tr>\n",
       "  </tbody>\n",
       "</table>\n",
       "</div>"
      ],
      "text/plain": [
       "      Data Chegada  year\n",
       "39908   30/11/2010  2010\n",
       "39909   27/08/2009  2009\n",
       "39910   10/09/2011  2011\n",
       "39911   19/12/2019  2019\n",
       "39912   18/09/2009  2009"
      ]
     },
     "execution_count": 8,
     "metadata": {},
     "output_type": "execute_result"
    }
   ],
   "source": [
    "df_subArtYY[['Data Chegada', 'year']].head()"
   ]
  },
  {
   "cell_type": "code",
   "execution_count": 9,
   "id": "52831449",
   "metadata": {},
   "outputs": [
    {
     "data": {
      "text/plain": [
       "2015    709\n",
       "2016    638\n",
       "2009    537\n",
       "2010    521\n",
       "2011    519\n",
       "2014    495\n",
       "2013    456\n",
       "2019    446\n",
       "2018    428\n",
       "2012    413\n",
       "2006    406\n",
       "2020    308\n",
       "2017    284\n",
       "2005    272\n",
       "2007    203\n",
       "2008    129\n",
       "Name: year, dtype: int64"
      ]
     },
     "execution_count": 9,
     "metadata": {},
     "output_type": "execute_result"
    }
   ],
   "source": [
    "count_yy = df_subArtYY['year'].value_counts()\n",
    "count_yy"
   ]
  },
  {
   "cell_type": "code",
   "execution_count": null,
   "id": "bf9d8bda",
   "metadata": {},
   "outputs": [],
   "source": [
    "dfPesG[]"
   ]
  },
  {
   "cell_type": "code",
   "execution_count": 20,
   "id": "e2a4aa12",
   "metadata": {},
   "outputs": [
    {
     "name": "stdout",
     "output_type": "stream",
     "text": [
      "year 2005 == 272\n",
      "year 2006 == 406\n",
      "year 2007 == 203\n",
      "year 2008 == 129\n",
      "year 2009 == 537\n",
      "year 2010 == 521\n",
      "year 2011 == 519\n",
      "year 2012 == 413\n",
      "year 2013 == 456\n",
      "year 2014 == 495\n",
      "year 2015 == 709\n",
      "year 2016 == 638\n",
      "year 2017 == 284\n",
      "year 2018 == 428\n",
      "year 2019 == 446\n",
      "year 2020 == 308\n",
      "year 2021 == 0\n"
     ]
    }
   ],
   "source": [
    "lst_year =[]\n",
    "lst_count = []\n",
    "for year in range(2005, 2022):\n",
    "    valor = 0\n",
    "    try:\n",
    "        valor = int(count_yy[year])\n",
    "        print(\"year {} == {}\".format(year, valor))\n",
    "    except:\n",
    "        print(\"year {} == {}\".format(year, valor))\n",
    "    lst_year.append(year)\n",
    "    lst_count.append(valor)"
   ]
  },
  {
   "cell_type": "code",
   "execution_count": 21,
   "id": "880baad8",
   "metadata": {},
   "outputs": [
    {
     "name": "stdout",
     "output_type": "stream",
     "text": [
      "dataframe Year \n",
      "     year  count\n",
      "0   2005    272\n",
      "1   2006    406\n",
      "2   2007    203\n",
      "3   2008    129\n",
      "4   2009    537\n",
      "5   2010    521\n",
      "6   2011    519\n",
      "7   2012    413\n",
      "8   2013    456\n",
      "9   2014    495\n",
      "10  2015    709\n",
      "11  2016    638\n",
      "12  2017    284\n",
      "13  2018    428\n",
      "14  2019    446\n",
      "15  2020    308\n",
      "16  2021      0\n"
     ]
    }
   ],
   "source": [
    "df_yy_count = pd.DataFrame({\n",
    "        'year': lst_year,\n",
    "        'count': lst_count\n",
    "    })\n",
    "\n",
    "print(\"dataframe Year \\n\", df_yy_count)"
   ]
  },
  {
   "cell_type": "code",
   "execution_count": 36,
   "id": "a3331160",
   "metadata": {},
   "outputs": [],
   "source": [
    "subarte = 'LINHA DE MÃO'\n",
    "distGas = 'entre_1_2KM'"
   ]
  },
  {
   "cell_type": "code",
   "execution_count": 31,
   "id": "752571b0",
   "metadata": {},
   "outputs": [],
   "source": [
    "def show_values(axs, orient=\"v\", space=.01):\n",
    "    def _single(ax):\n",
    "        if orient == \"v\":\n",
    "            for p in ax.patches:\n",
    "                _x = p.get_x() + p.get_width() / 2\n",
    "                _y = p.get_y() + p.get_height() + (p.get_height()*0.01)\n",
    "                value = '{}'.format(int(p.get_height()))   # :.1f\n",
    "                ax.text(_x, _y, value, ha=\"center\") \n",
    "        elif orient == \"h\":\n",
    "            for p in ax.patches:\n",
    "                _x = p.get_x() + p.get_width() + float(space)\n",
    "                _y = p.get_y() + p.get_height() - (p.get_height()*0.5)\n",
    "                value = '{}'.format(int(p.get_width())) # :.1f\n",
    "                ax.text(_x, _y, value, ha=\"left\")\n",
    "\n",
    "    if isinstance(axs, np.ndarray):\n",
    "        for idx, ax in np.ndenumerate(axs):\n",
    "            _single(ax)\n",
    "    else:\n",
    "        _single(axs)"
   ]
  },
  {
   "cell_type": "code",
   "execution_count": 38,
   "id": "cdf77bb2",
   "metadata": {},
   "outputs": [
    {
     "data": {
      "image/png": "[encoded data removed]",
      "text/plain": [
       "<Figure size 1600x800 with 1 Axes>"
      ]
     },
     "metadata": {},
     "output_type": "display_data"
    }
   ],
   "source": [
    "#create vertical barplot\n",
    "sns_plotYY = sns.barplot(x=\"year\", y=\"count\", data=df_yy_count, color='#e67e22',errorbar=None)\n",
    "plt.xticks(rotation=25)\n",
    "mytile = \"Plot número de registros por ano {} com distancia Plataforma {}\".format(subarte, distGas)\n",
    "plt.title(mytile)\n",
    "#show values on barplot\n",
    "show_values(sns_plotYY)"
   ]
  },
  {
   "cell_type": "code",
   "execution_count": null,
   "id": "c2284d1d",
   "metadata": {},
   "outputs": [],
   "source": []
  }
 ],
 "metadata": {
  "kernelspec": {
   "display_name": "Python 3 (ipykernel)",
   "language": "python",
   "name": "python3"
  },
  "language_info": {
   "codemirror_mode": {
    "name": "ipython",
    "version": 3
   },
   "file_extension": ".py",
   "mimetype": "text/x-python",
   "name": "python",
   "nbconvert_exporter": "python",
   "pygments_lexer": "ipython3",
   "version": "3.10.8"
  }
 },
 "nbformat": 4,
 "nbformat_minor": 5
}
